{
 "cells": [
  {
   "cell_type": "code",
   "execution_count": 29,
   "id": "fcc7e99c-d201-40dd-be27-0eec0ef9763b",
   "metadata": {},
   "outputs": [],
   "source": [
    "import numpy as np\n",
    "import matplotlib.pyplot as plt\n",
    "import tensorflow as ts\n",
    "\n",
    "from keras.datasets import fashion_mnist\n",
    "from tensorflow.keras.layers import Input, Dense, Flatten\n",
    "from tensorflow.keras.models import Sequential\n",
    "from tensorflow.keras.preprocessing.image import load_img, img_to_array"
   ]
  },
  {
   "cell_type": "code",
   "execution_count": 8,
   "id": "cac0da43-bc5c-47aa-8a87-97900b20b21a",
   "metadata": {},
   "outputs": [],
   "source": [
    "(train_img, train_lab),(test_img,test_lab) = fashion_mnist.load_data()"
   ]
  },
  {
   "cell_type": "code",
   "execution_count": 9,
   "id": "b4c87b47-fa5d-428b-825b-578e45a17179",
   "metadata": {},
   "outputs": [
    {
     "data": {
      "text/plain": [
       "(60000, 28, 28)"
      ]
     },
     "execution_count": 9,
     "metadata": {},
     "output_type": "execute_result"
    }
   ],
   "source": [
    "train_img.shape"
   ]
  },
  {
   "cell_type": "code",
   "execution_count": 10,
   "id": "8b3f45d9-9c28-4610-83e6-3adec8e6883b",
   "metadata": {},
   "outputs": [
    {
     "data": {
      "text/plain": [
       "array([[  0,   0,   0,   0,   0,   0,   0,   0,   0,   0,   8,  38,  67,\n",
       "         77,  69,  72,  59,  25,   5,   0,   0,   0,   0,   0,   0,   0,\n",
       "          0,   0],\n",
       "       [  0,   0,   0,   0,   0,   0,   0,   0,   0,  27, 131, 150, 103,\n",
       "        111, 116, 128, 145, 157, 185, 146,  54,   0,   0,   1,   0,   0,\n",
       "          0,   0],\n",
       "       [  0,   0,   0,   0,   0,   0,   0,   0,   0,  74, 111, 116, 172,\n",
       "        173, 158, 163, 138,  97,  82,  70,  74,   0,   0,   1,   0,   0,\n",
       "          0,   0],\n",
       "       [  0,   0,   0,   0,   0,   0,   1,   1,   0,  64, 103,  42, 109,\n",
       "        123,  82,  65,  43,  40,  50,  75,  65,   0,   0,   1,   0,   0,\n",
       "          0,   0],\n",
       "       [  0,   0,   0,   0,   0,   0,   0,   0,   0, 108, 202, 131, 123,\n",
       "         57,  33,  47,  52,  62,  64,  81,  47,   0,   0,   0,   0,   0,\n",
       "          0,   0],\n",
       "       [  0,   0,   0,   0,   0,   0,   0,   6,  48,  94, 106, 103,  69,\n",
       "         75,  74,  69,  72,  86,  75, 118,  67,   0,   0,   1,   0,   0,\n",
       "          0,   0],\n",
       "       [  0,   0,   0,   0,   0,   0,   0,  82,  75,  54,  67,  82, 103,\n",
       "         94,  92,  91,  91,  82,  50,  38,  75,  59,   0,   0,   0,   0,\n",
       "          0,   0],\n",
       "       [  0,   0,   0,   0,   0,   0,  47, 101,  60,  54,  72,  54,  50,\n",
       "         48,  50,  55,  50,  40,  48,  54,  42,  91,  37,   0,   0,   0,\n",
       "          0,   0],\n",
       "       [  0,   0,   0,   0,   0,   0,  60,  89,  79,  60,  74,  65,  69,\n",
       "         62,  60,  54,  50,  33,  32,  50,  54,  89,  60,   0,   0,   0,\n",
       "          0,   0],\n",
       "       [  0,   0,   0,   0,   0,  11,  97,  62,  92,  72,  59,  57,  55,\n",
       "         64,  64,  54,  25,  91,  99,  21,  60,  69,  72,   0,   0,   0,\n",
       "          0,   0],\n",
       "       [  0,   0,   0,   0,   0,  82, 108,  42, 116,  86,  52,  45,  40,\n",
       "         45,  59,  62,  23, 135, 168,  18,  75,  57,  75,   5,   0,   0,\n",
       "          0,   0],\n",
       "       [  0,   0,   0,   0,   0,  30,  82,  48, 148, 106,  65,  52,  52,\n",
       "         54,  57,  59,  65,  35,  21,  52,  84,  59,  81,  18,   0,   0,\n",
       "          0,   0],\n",
       "       [  0,   0,   0,   0,   0,  35,  84,  54, 160, 133,  79,  72,  70,\n",
       "         67,  62,  64,  69,  69,  67,  65, 118,  57,  75,  33,   0,   0,\n",
       "          0,   0],\n",
       "       [  0,   0,   0,   0,   0,  43,  79,  50, 175, 130,  84,  79,  64,\n",
       "         62,  62,  62,  60,  59,  48,  65, 153,  59,  79,  40,   0,   0,\n",
       "          0,   0],\n",
       "       [  0,   0,   0,   0,   0,  54,  75,  69, 130, 123,  97,  74,  70,\n",
       "         59,  60,  62,  60,  59,  59,  59,  86,  81,  70,  50,   0,   0,\n",
       "          0,   0],\n",
       "       [  0,   0,   0,   0,   0,  62,  72,  89,  60, 113, 108,  79,  74,\n",
       "         65,  70,  60,  57,  54,  67,  50,  65, 101,  60,  55,   0,   0,\n",
       "          0,   0],\n",
       "       [  0,   0,   0,   0,   0,  64,  72, 103,  50,  96, 114,  86,  86,\n",
       "         65,  64,  67,  69,  59,  67,  47,  54, 103,  64,  65,   0,   0,\n",
       "          0,   0],\n",
       "       [  0,   0,   0,   0,   0,  64,  65, 103,  30,  92, 126,  97,  84,\n",
       "         79,  62,  64,  59,  47,  59,  47,  47, 106,  64,  72,   0,   0,\n",
       "          0,   0],\n",
       "       [  0,   0,   0,   0,   0,  67,  74, 109,  18,  94, 124,  89,  91,\n",
       "         81,  69,  57,  60,  57,  72,  48,  37, 111,  59,  65,   0,   0,\n",
       "          0,   0],\n",
       "       [  0,   0,   0,   0,   0,  74,  62, 114,  20,  97, 109,  84,  86,\n",
       "         75,  60,  62,  57,  57,  64,  52,  27, 121,  64,  74,   0,   0,\n",
       "          0,   0],\n",
       "       [  0,   0,   0,   0,   0,  79,  72, 111,  37, 119,  87,  87,  82,\n",
       "         81,  74,  67,  60,  59,  67,  55,  45, 119,  69,  79,   0,   0,\n",
       "          0,   0],\n",
       "       [  0,   0,   0,   0,   0,  75,  72, 101,  59, 116,  77,  91,  91,\n",
       "         91,  84,  72,  75,  74,  59,  60,  91, 106,  69,  72,   0,   0,\n",
       "          0,   0],\n",
       "       [  0,   0,   0,   0,   0,  79,  65,  91,  89, 118,  84,  82,  79,\n",
       "         77,  75,  70,  65,  59,  52,  52,  52, 116,  69,  77,   0,   0,\n",
       "          0,   0],\n",
       "       [  0,   0,   0,   0,   0,  92,  79,  94, 103,  60,  62,  70,  70,\n",
       "         69,  62,  70,  67,  55,  43,  38,  59, 109,  75,  84,   0,   0,\n",
       "          0,   0],\n",
       "       [  0,   0,   0,   0,   0,  79,  70,  96,  81, 145,  81,  92,  97,\n",
       "         97,  94,  92,  89,  87,  86,  86,  82, 103,  69,  74,   0,   0,\n",
       "          0,   0],\n",
       "       [  0,   0,   0,   0,   0,  96, 118,  89,  69, 255, 104, 106, 106,\n",
       "        104, 108, 104, 103,  99,  94, 109,  70,  92, 114,  81,   0,   0,\n",
       "          0,   0],\n",
       "       [  0,   0,   0,   0,   0,  74, 113,  67,  45, 206,  75,  91,  92,\n",
       "         91,  91,  89,  86,  89,  87,  94,  47,  94, 124,  72,   0,   0,\n",
       "          0,   0],\n",
       "       [  0,   0,   0,   0,   0,  74, 111,  81,   0,   0,   0,   0,   0,\n",
       "          0,   0,   0,   0,   0,   0,   0,   0,  86, 118,  67,   0,   0,\n",
       "          0,   0]], dtype=uint8)"
      ]
     },
     "execution_count": 10,
     "metadata": {},
     "output_type": "execute_result"
    }
   ],
   "source": [
    "train_img[54]"
   ]
  },
  {
   "cell_type": "code",
   "execution_count": 11,
   "id": "22a7d72d-1cfd-4a8e-9bbf-625e8c87310c",
   "metadata": {},
   "outputs": [
    {
     "data": {
      "text/plain": [
       "np.uint8(2)"
      ]
     },
     "execution_count": 11,
     "metadata": {},
     "output_type": "execute_result"
    }
   ],
   "source": [
    "train_lab[54]"
   ]
  },
  {
   "cell_type": "code",
   "execution_count": 12,
   "id": "02bdfc8b-ab47-44a6-afe8-da3a77624324",
   "metadata": {},
   "outputs": [
    {
     "data": {
      "image/png": "[encoded data removed]",
      "text/plain": [
       "<Figure size 300x300 with 1 Axes>"
      ]
     },
     "metadata": {},
     "output_type": "display_data"
    }
   ],
   "source": [
    "plt.figure(figsize=(3,3))\n",
    "plt.imshow(train_img[34])\n",
    "plt.show()"
   ]
  },
  {
   "cell_type": "code",
   "execution_count": 13,
   "id": "8f903292-4b20-48ca-8f4f-c72c91d11172",
   "metadata": {},
   "outputs": [],
   "source": [
    "classes = [\"T-shirt/top\",\"Trouser\",\"Pullover\",\"Dress\",\"Coat\",\"Sandal\",\"Shirt\",\"Sneaker\",\"Bag\",\"Ankle boot\"]"
   ]
  },
  {
   "cell_type": "code",
   "execution_count": 14,
   "id": "1bcacc9b-95e8-49b6-840c-ca6d168d0878",
   "metadata": {},
   "outputs": [
    {
     "name": "stdout",
     "output_type": "stream",
     "text": [
      "(60000,)\n"
     ]
    }
   ],
   "source": [
    "print(train_lab.shape)"
   ]
  },
  {
   "cell_type": "code",
   "execution_count": 37,
   "id": "523346cf-d703-4a6f-85bb-fc3260c90926",
   "metadata": {},
   "outputs": [
    {
     "data": {
      "image/png": "[encoded data removed]",
      "text/plain": [
       "<Figure size 200x200 with 1 Axes>"
      ]
     },
     "metadata": {},
     "output_type": "display_data"
    },
    {
     "data": {
      "image/png": "[encoded data removed]",
      "text/plain": [
       "<Figure size 200x200 with 1 Axes>"
      ]
     },
     "metadata": {},
     "output_type": "display_data"
    },
    {
     "data": {
      "image/png": "[encoded data removed]",
      "text/plain": [
       "<Figure size 200x200 with 1 Axes>"
      ]
     },
     "metadata": {},
     "output_type": "display_data"
    },
    {
     "data": {
      "image/png": "[encoded data removed]",
      "text/plain": [
       "<Figure size 200x200 with 1 Axes>"
      ]
     },
     "metadata": {},
     "output_type": "display_data"
    },
    {
     "data": {
      "image/png": "[encoded data removed]",
      "text/plain": [
       "<Figure size 200x200 with 1 Axes>"
      ]
     },
     "metadata": {},
     "output_type": "display_data"
    }
   ],
   "source": [
    "for i in range(5):\n",
    "    ind = np.random.randint(60000)\n",
    "    plt.figure(figsize=(2,2))\n",
    "    plt.imshow(train_img[ind])\n",
    "    plt.title(classes[train_lab[ind]])\n",
    "    plt.show()"
   ]
  },
  {
   "cell_type": "code",
   "execution_count": 16,
   "id": "47ce3d0c-e480-43f6-86a5-2a409c8a4988",
   "metadata": {},
   "outputs": [
    {
     "data": {
      "text/plain": [
       "np.uint8(0)"
      ]
     },
     "execution_count": 16,
     "metadata": {},
     "output_type": "execute_result"
    }
   ],
   "source": [
    "train_img.min()"
   ]
  },
  {
   "cell_type": "code",
   "execution_count": 17,
   "id": "fc508ca0-ea52-4222-8e05-19f97f8bc4ba",
   "metadata": {},
   "outputs": [
    {
     "data": {
      "text/plain": [
       "np.uint8(255)"
      ]
     },
     "execution_count": 17,
     "metadata": {},
     "output_type": "execute_result"
    }
   ],
   "source": [
    "train_img.max()"
   ]
  },
  {
   "cell_type": "code",
   "execution_count": 18,
   "id": "ff2425d6-591f-4f58-8fb1-95cd52494b31",
   "metadata": {},
   "outputs": [
    {
     "data": {
      "text/plain": [
       "array([[0.        , 0.        , 0.        , 0.        , 0.        ,\n",
       "        0.        , 0.        , 0.        , 0.        , 0.        ,\n",
       "        0.03137255, 0.14901961, 0.2627451 , 0.30196078, 0.27058824,\n",
       "        0.28235294, 0.23137255, 0.09803922, 0.01960784, 0.        ,\n",
       "        0.        , 0.        , 0.        , 0.        , 0.        ,\n",
       "        0.        , 0.        , 0.        ],\n",
       "       [0.        , 0.        , 0.        , 0.        , 0.        ,\n",
       "        0.        , 0.        , 0.        , 0.        , 0.10588235,\n",
       "        0.51372549, 0.58823529, 0.40392157, 0.43529412, 0.45490196,\n",
       "        0.50196078, 0.56862745, 0.61568627, 0.7254902 , 0.57254902,\n",
       "        0.21176471, 0.        , 0.        , 0.00392157, 0.        ,\n",
       "        0.        , 0.        , 0.        ],\n",
       "       [0.        , 0.        , 0.        , 0.        , 0.        ,\n",
       "        0.        , 0.        , 0.        , 0.        , 0.29019608,\n",
       "        0.43529412, 0.45490196, 0.6745098 , 0.67843137, 0.61960784,\n",
       "        0.63921569, 0.54117647, 0.38039216, 0.32156863, 0.2745098 ,\n",
       "        0.29019608, 0.        , 0.        , 0.00392157, 0.        ,\n",
       "        0.        , 0.        , 0.        ],\n",
       "       [0.        , 0.        , 0.        , 0.        , 0.        ,\n",
       "        0.        , 0.00392157, 0.00392157, 0.        , 0.25098039,\n",
       "        0.40392157, 0.16470588, 0.42745098, 0.48235294, 0.32156863,\n",
       "        0.25490196, 0.16862745, 0.15686275, 0.19607843, 0.29411765,\n",
       "        0.25490196, 0.        , 0.        , 0.00392157, 0.        ,\n",
       "        0.        , 0.        , 0.        ],\n",
       "       [0.        , 0.        , 0.        , 0.        , 0.        ,\n",
       "        0.        , 0.        , 0.        , 0.        , 0.42352941,\n",
       "        0.79215686, 0.51372549, 0.48235294, 0.22352941, 0.12941176,\n",
       "        0.18431373, 0.20392157, 0.24313725, 0.25098039, 0.31764706,\n",
       "        0.18431373, 0.        , 0.        , 0.        , 0.        ,\n",
       "        0.        , 0.        , 0.        ],\n",
       "       [0.        , 0.        , 0.        , 0.        , 0.        ,\n",
       "        0.        , 0.        , 0.02352941, 0.18823529, 0.36862745,\n",
       "        0.41568627, 0.40392157, 0.27058824, 0.29411765, 0.29019608,\n",
       "        0.27058824, 0.28235294, 0.3372549 , 0.29411765, 0.4627451 ,\n",
       "        0.2627451 , 0.        , 0.        , 0.00392157, 0.        ,\n",
       "        0.        , 0.        , 0.        ],\n",
       "       [0.        , 0.        , 0.        , 0.        , 0.        ,\n",
       "        0.        , 0.        , 0.32156863, 0.29411765, 0.21176471,\n",
       "        0.2627451 , 0.32156863, 0.40392157, 0.36862745, 0.36078431,\n",
       "        0.35686275, 0.35686275, 0.32156863, 0.19607843, 0.14901961,\n",
       "        0.29411765, 0.23137255, 0.        , 0.        , 0.        ,\n",
       "        0.        , 0.        , 0.        ],\n",
       "       [0.        , 0.        , 0.        , 0.        , 0.        ,\n",
       "        0.        , 0.18431373, 0.39607843, 0.23529412, 0.21176471,\n",
       "        0.28235294, 0.21176471, 0.19607843, 0.18823529, 0.19607843,\n",
       "        0.21568627, 0.19607843, 0.15686275, 0.18823529, 0.21176471,\n",
       "        0.16470588, 0.35686275, 0.14509804, 0.        , 0.        ,\n",
       "        0.        , 0.        , 0.        ],\n",
       "       [0.        , 0.        , 0.        , 0.        , 0.        ,\n",
       "        0.        , 0.23529412, 0.34901961, 0.30980392, 0.23529412,\n",
       "        0.29019608, 0.25490196, 0.27058824, 0.24313725, 0.23529412,\n",
       "        0.21176471, 0.19607843, 0.12941176, 0.1254902 , 0.19607843,\n",
       "        0.21176471, 0.34901961, 0.23529412, 0.        , 0.        ,\n",
       "        0.        , 0.        , 0.        ],\n",
       "       [0.        , 0.        , 0.        , 0.        , 0.        ,\n",
       "        0.04313725, 0.38039216, 0.24313725, 0.36078431, 0.28235294,\n",
       "        0.23137255, 0.22352941, 0.21568627, 0.25098039, 0.25098039,\n",
       "        0.21176471, 0.09803922, 0.35686275, 0.38823529, 0.08235294,\n",
       "        0.23529412, 0.27058824, 0.28235294, 0.        , 0.        ,\n",
       "        0.        , 0.        , 0.        ],\n",
       "       [0.        , 0.        , 0.        , 0.        , 0.        ,\n",
       "        0.32156863, 0.42352941, 0.16470588, 0.45490196, 0.3372549 ,\n",
       "        0.20392157, 0.17647059, 0.15686275, 0.17647059, 0.23137255,\n",
       "        0.24313725, 0.09019608, 0.52941176, 0.65882353, 0.07058824,\n",
       "        0.29411765, 0.22352941, 0.29411765, 0.01960784, 0.        ,\n",
       "        0.        , 0.        , 0.        ],\n",
       "       [0.        , 0.        , 0.        , 0.        , 0.        ,\n",
       "        0.11764706, 0.32156863, 0.18823529, 0.58039216, 0.41568627,\n",
       "        0.25490196, 0.20392157, 0.20392157, 0.21176471, 0.22352941,\n",
       "        0.23137255, 0.25490196, 0.1372549 , 0.08235294, 0.20392157,\n",
       "        0.32941176, 0.23137255, 0.31764706, 0.07058824, 0.        ,\n",
       "        0.        , 0.        , 0.        ],\n",
       "       [0.        , 0.        , 0.        , 0.        , 0.        ,\n",
       "        0.1372549 , 0.32941176, 0.21176471, 0.62745098, 0.52156863,\n",
       "        0.30980392, 0.28235294, 0.2745098 , 0.2627451 , 0.24313725,\n",
       "        0.25098039, 0.27058824, 0.27058824, 0.2627451 , 0.25490196,\n",
       "        0.4627451 , 0.22352941, 0.29411765, 0.12941176, 0.        ,\n",
       "        0.        , 0.        , 0.        ],\n",
       "       [0.        , 0.        , 0.        , 0.        , 0.        ,\n",
       "        0.16862745, 0.30980392, 0.19607843, 0.68627451, 0.50980392,\n",
       "        0.32941176, 0.30980392, 0.25098039, 0.24313725, 0.24313725,\n",
       "        0.24313725, 0.23529412, 0.23137255, 0.18823529, 0.25490196,\n",
       "        0.6       , 0.23137255, 0.30980392, 0.15686275, 0.        ,\n",
       "        0.        , 0.        , 0.        ],\n",
       "       [0.        , 0.        , 0.        , 0.        , 0.        ,\n",
       "        0.21176471, 0.29411765, 0.27058824, 0.50980392, 0.48235294,\n",
       "        0.38039216, 0.29019608, 0.2745098 , 0.23137255, 0.23529412,\n",
       "        0.24313725, 0.23529412, 0.23137255, 0.23137255, 0.23137255,\n",
       "        0.3372549 , 0.31764706, 0.2745098 , 0.19607843, 0.        ,\n",
       "        0.        , 0.        , 0.        ],\n",
       "       [0.        , 0.        , 0.        , 0.        , 0.        ,\n",
       "        0.24313725, 0.28235294, 0.34901961, 0.23529412, 0.44313725,\n",
       "        0.42352941, 0.30980392, 0.29019608, 0.25490196, 0.2745098 ,\n",
       "        0.23529412, 0.22352941, 0.21176471, 0.2627451 , 0.19607843,\n",
       "        0.25490196, 0.39607843, 0.23529412, 0.21568627, 0.        ,\n",
       "        0.        , 0.        , 0.        ],\n",
       "       [0.        , 0.        , 0.        , 0.        , 0.        ,\n",
       "        0.25098039, 0.28235294, 0.40392157, 0.19607843, 0.37647059,\n",
       "        0.44705882, 0.3372549 , 0.3372549 , 0.25490196, 0.25098039,\n",
       "        0.2627451 , 0.27058824, 0.23137255, 0.2627451 , 0.18431373,\n",
       "        0.21176471, 0.40392157, 0.25098039, 0.25490196, 0.        ,\n",
       "        0.        , 0.        , 0.        ],\n",
       "       [0.        , 0.        , 0.        , 0.        , 0.        ,\n",
       "        0.25098039, 0.25490196, 0.40392157, 0.11764706, 0.36078431,\n",
       "        0.49411765, 0.38039216, 0.32941176, 0.30980392, 0.24313725,\n",
       "        0.25098039, 0.23137255, 0.18431373, 0.23137255, 0.18431373,\n",
       "        0.18431373, 0.41568627, 0.25098039, 0.28235294, 0.        ,\n",
       "        0.        , 0.        , 0.        ],\n",
       "       [0.        , 0.        , 0.        , 0.        , 0.        ,\n",
       "        0.2627451 , 0.29019608, 0.42745098, 0.07058824, 0.36862745,\n",
       "        0.48627451, 0.34901961, 0.35686275, 0.31764706, 0.27058824,\n",
       "        0.22352941, 0.23529412, 0.22352941, 0.28235294, 0.18823529,\n",
       "        0.14509804, 0.43529412, 0.23137255, 0.25490196, 0.        ,\n",
       "        0.        , 0.        , 0.        ],\n",
       "       [0.        , 0.        , 0.        , 0.        , 0.        ,\n",
       "        0.29019608, 0.24313725, 0.44705882, 0.07843137, 0.38039216,\n",
       "        0.42745098, 0.32941176, 0.3372549 , 0.29411765, 0.23529412,\n",
       "        0.24313725, 0.22352941, 0.22352941, 0.25098039, 0.20392157,\n",
       "        0.10588235, 0.4745098 , 0.25098039, 0.29019608, 0.        ,\n",
       "        0.        , 0.        , 0.        ],\n",
       "       [0.        , 0.        , 0.        , 0.        , 0.        ,\n",
       "        0.30980392, 0.28235294, 0.43529412, 0.14509804, 0.46666667,\n",
       "        0.34117647, 0.34117647, 0.32156863, 0.31764706, 0.29019608,\n",
       "        0.2627451 , 0.23529412, 0.23137255, 0.2627451 , 0.21568627,\n",
       "        0.17647059, 0.46666667, 0.27058824, 0.30980392, 0.        ,\n",
       "        0.        , 0.        , 0.        ],\n",
       "       [0.        , 0.        , 0.        , 0.        , 0.        ,\n",
       "        0.29411765, 0.28235294, 0.39607843, 0.23137255, 0.45490196,\n",
       "        0.30196078, 0.35686275, 0.35686275, 0.35686275, 0.32941176,\n",
       "        0.28235294, 0.29411765, 0.29019608, 0.23137255, 0.23529412,\n",
       "        0.35686275, 0.41568627, 0.27058824, 0.28235294, 0.        ,\n",
       "        0.        , 0.        , 0.        ],\n",
       "       [0.        , 0.        , 0.        , 0.        , 0.        ,\n",
       "        0.30980392, 0.25490196, 0.35686275, 0.34901961, 0.4627451 ,\n",
       "        0.32941176, 0.32156863, 0.30980392, 0.30196078, 0.29411765,\n",
       "        0.2745098 , 0.25490196, 0.23137255, 0.20392157, 0.20392157,\n",
       "        0.20392157, 0.45490196, 0.27058824, 0.30196078, 0.        ,\n",
       "        0.        , 0.        , 0.        ],\n",
       "       [0.        , 0.        , 0.        , 0.        , 0.        ,\n",
       "        0.36078431, 0.30980392, 0.36862745, 0.40392157, 0.23529412,\n",
       "        0.24313725, 0.2745098 , 0.2745098 , 0.27058824, 0.24313725,\n",
       "        0.2745098 , 0.2627451 , 0.21568627, 0.16862745, 0.14901961,\n",
       "        0.23137255, 0.42745098, 0.29411765, 0.32941176, 0.        ,\n",
       "        0.        , 0.        , 0.        ],\n",
       "       [0.        , 0.        , 0.        , 0.        , 0.        ,\n",
       "        0.30980392, 0.2745098 , 0.37647059, 0.31764706, 0.56862745,\n",
       "        0.31764706, 0.36078431, 0.38039216, 0.38039216, 0.36862745,\n",
       "        0.36078431, 0.34901961, 0.34117647, 0.3372549 , 0.3372549 ,\n",
       "        0.32156863, 0.40392157, 0.27058824, 0.29019608, 0.        ,\n",
       "        0.        , 0.        , 0.        ],\n",
       "       [0.        , 0.        , 0.        , 0.        , 0.        ,\n",
       "        0.37647059, 0.4627451 , 0.34901961, 0.27058824, 1.        ,\n",
       "        0.40784314, 0.41568627, 0.41568627, 0.40784314, 0.42352941,\n",
       "        0.40784314, 0.40392157, 0.38823529, 0.36862745, 0.42745098,\n",
       "        0.2745098 , 0.36078431, 0.44705882, 0.31764706, 0.        ,\n",
       "        0.        , 0.        , 0.        ],\n",
       "       [0.        , 0.        , 0.        , 0.        , 0.        ,\n",
       "        0.29019608, 0.44313725, 0.2627451 , 0.17647059, 0.80784314,\n",
       "        0.29411765, 0.35686275, 0.36078431, 0.35686275, 0.35686275,\n",
       "        0.34901961, 0.3372549 , 0.34901961, 0.34117647, 0.36862745,\n",
       "        0.18431373, 0.36862745, 0.48627451, 0.28235294, 0.        ,\n",
       "        0.        , 0.        , 0.        ],\n",
       "       [0.        , 0.        , 0.        , 0.        , 0.        ,\n",
       "        0.29019608, 0.43529412, 0.31764706, 0.        , 0.        ,\n",
       "        0.        , 0.        , 0.        , 0.        , 0.        ,\n",
       "        0.        , 0.        , 0.        , 0.        , 0.        ,\n",
       "        0.        , 0.3372549 , 0.4627451 , 0.2627451 , 0.        ,\n",
       "        0.        , 0.        , 0.        ]])"
      ]
     },
     "execution_count": 18,
     "metadata": {},
     "output_type": "execute_result"
    }
   ],
   "source": [
    "train_img[54]/255"
   ]
  },
  {
   "cell_type": "code",
   "execution_count": 19,
   "id": "d21e4711-0475-40e5-bcb2-b5bdfd36d411",
   "metadata": {},
   "outputs": [],
   "source": [
    "train_img, test_img = train_img/255, test_img/255"
   ]
  },
  {
   "cell_type": "code",
   "execution_count": 20,
   "id": "ea7b1b47-6560-4106-80a5-b8dafa7580e8",
   "metadata": {},
   "outputs": [
    {
     "data": {
      "text/plain": [
       "array([[0.        , 0.        , 0.        , 0.        , 0.        ,\n",
       "        0.        , 0.        , 0.        , 0.        , 0.        ,\n",
       "        0.        , 0.        , 0.        , 0.        , 0.        ,\n",
       "        0.        , 0.        , 0.        , 0.        , 0.        ,\n",
       "        0.        , 0.        , 0.        , 0.        , 0.        ,\n",
       "        0.        , 0.        , 0.        ],\n",
       "       [0.        , 0.        , 0.        , 0.        , 0.        ,\n",
       "        0.        , 0.        , 0.        , 0.        , 0.        ,\n",
       "        0.        , 0.        , 0.        , 0.        , 0.        ,\n",
       "        0.        , 0.        , 0.        , 0.        , 0.        ,\n",
       "        0.        , 0.        , 0.        , 0.        , 0.        ,\n",
       "        0.        , 0.        , 0.        ],\n",
       "       [0.        , 0.        , 0.        , 0.        , 0.        ,\n",
       "        0.        , 0.        , 0.        , 0.        , 0.        ,\n",
       "        0.        , 0.        , 0.        , 0.        , 0.        ,\n",
       "        0.        , 0.        , 0.        , 0.        , 0.        ,\n",
       "        0.        , 0.        , 0.        , 0.        , 0.        ,\n",
       "        0.        , 0.        , 0.        ],\n",
       "       [0.        , 0.        , 0.        , 0.        , 0.        ,\n",
       "        0.        , 0.        , 0.        , 0.        , 0.        ,\n",
       "        0.        , 0.        , 0.        , 0.        , 0.        ,\n",
       "        0.        , 0.        , 0.        , 0.        , 0.        ,\n",
       "        0.        , 0.        , 0.        , 0.        , 0.        ,\n",
       "        0.        , 0.        , 0.        ],\n",
       "       [0.        , 0.        , 0.        , 0.        , 0.        ,\n",
       "        0.        , 0.        , 0.        , 0.        , 0.        ,\n",
       "        0.        , 0.        , 0.        , 0.        , 0.        ,\n",
       "        0.        , 0.        , 0.        , 0.        , 0.        ,\n",
       "        0.        , 0.        , 0.        , 0.        , 0.        ,\n",
       "        0.        , 0.        , 0.        ],\n",
       "       [0.        , 0.        , 0.        , 0.        , 0.        ,\n",
       "        0.        , 0.        , 0.        , 0.        , 0.        ,\n",
       "        0.        , 0.        , 0.        , 0.        , 0.        ,\n",
       "        0.        , 0.        , 0.        , 0.        , 0.        ,\n",
       "        0.        , 0.        , 0.        , 0.        , 0.        ,\n",
       "        0.        , 0.        , 0.        ],\n",
       "       [0.        , 0.        , 0.        , 0.        , 0.        ,\n",
       "        0.        , 0.        , 0.        , 0.        , 0.        ,\n",
       "        0.        , 0.        , 0.        , 0.        , 0.        ,\n",
       "        0.        , 0.        , 0.        , 0.        , 0.        ,\n",
       "        0.        , 0.        , 0.        , 0.        , 0.        ,\n",
       "        0.        , 0.        , 0.        ],\n",
       "       [0.        , 0.00784314, 0.        , 0.        , 0.11372549,\n",
       "        0.0627451 , 0.12941176, 0.10588235, 0.09411765, 0.09411765,\n",
       "        0.10980392, 0.11372549, 0.15686275, 0.1254902 , 0.10588235,\n",
       "        0.05490196, 0.03137255, 0.05490196, 0.08235294, 0.10980392,\n",
       "        0.12941176, 0.1254902 , 0.12941176, 0.20392157, 0.1372549 ,\n",
       "        0.        , 0.        , 0.        ],\n",
       "       [0.02352941, 0.        , 0.21960784, 0.6745098 , 0.67843137,\n",
       "        0.35294118, 0.40784314, 0.3372549 , 0.24705882, 0.23137255,\n",
       "        0.21960784, 0.24313725, 0.34509804, 0.30196078, 0.35294118,\n",
       "        0.35294118, 0.34509804, 0.36862745, 0.29019608, 0.27843137,\n",
       "        0.3372549 , 0.2745098 , 0.27058824, 0.2       , 0.25490196,\n",
       "        0.38823529, 0.07058824, 0.        ],\n",
       "       [0.        , 0.30196078, 0.88627451, 0.08235294, 0.63529412,\n",
       "        0.57647059, 0.56078431, 0.51764706, 0.48627451, 0.46666667,\n",
       "        0.38823529, 0.34901961, 0.36078431, 0.43529412, 0.53333333,\n",
       "        0.58431373, 0.57647059, 0.58431373, 0.48627451, 0.40392157,\n",
       "        0.41176471, 0.36078431, 0.45490196, 0.4627451 , 0.6627451 ,\n",
       "        0.39215686, 0.58431373, 0.01568627],\n",
       "       [0.01960784, 0.97647059, 0.        , 0.        , 0.64705882,\n",
       "        0.63529412, 0.57647059, 0.64705882, 0.6745098 , 0.63529412,\n",
       "        0.63529412, 0.65882353, 0.64705882, 0.63137255, 0.62745098,\n",
       "        0.60784314, 0.6       , 0.6       , 0.60784314, 0.63529412,\n",
       "        0.64705882, 0.68235294, 0.80784314, 0.70588235, 0.79215686,\n",
       "        0.0627451 , 0.1254902 , 0.57254902],\n",
       "       [0.43529412, 0.49411765, 0.        , 0.08235294, 0.65098039,\n",
       "        0.66666667, 0.57254902, 0.64313725, 0.59215686, 0.57254902,\n",
       "        0.54509804, 0.58823529, 0.6       , 0.61960784, 0.63529412,\n",
       "        0.64705882, 0.64313725, 0.63137255, 0.65098039, 0.68235294,\n",
       "        0.71764706, 0.68235294, 0.67843137, 0.65882353, 0.76862745,\n",
       "        0.24313725, 0.        , 0.6745098 ],\n",
       "       [0.55294118, 0.16470588, 0.        , 0.14117647, 0.68235294,\n",
       "        0.66666667, 0.60784314, 0.64705882, 0.61568627, 0.57647059,\n",
       "        0.58431373, 0.60392157, 0.60392157, 0.64705882, 0.65882353,\n",
       "        0.64313725, 0.60784314, 0.63137255, 0.63137255, 0.6745098 ,\n",
       "        0.69411765, 0.67843137, 0.70588235, 0.66666667, 0.93333333,\n",
       "        0.34901961, 0.        , 0.61960784],\n",
       "       [0.57647059, 0.09019608, 0.        , 0.22745098, 0.70980392,\n",
       "        0.6745098 , 0.62745098, 0.65882353, 0.61960784, 0.59215686,\n",
       "        0.6       , 0.61568627, 0.61960784, 0.61568627, 0.61568627,\n",
       "        0.65882353, 0.65098039, 0.66666667, 0.67843137, 0.69411765,\n",
       "        0.70588235, 0.69411765, 0.70588235, 0.65882353, 0.88627451,\n",
       "        0.44313725, 0.        , 0.59215686],\n",
       "       [0.55294118, 0.05490196, 0.        , 0.31372549, 0.73333333,\n",
       "        0.6627451 , 0.61960784, 0.64705882, 0.6       , 0.58823529,\n",
       "        0.58823529, 0.60392157, 0.60784314, 0.57647059, 0.57254902,\n",
       "        0.61960784, 0.63529412, 0.66666667, 0.69019608, 0.69411765,\n",
       "        0.69411765, 0.69411765, 0.70196078, 0.6745098 , 0.76470588,\n",
       "        0.56078431, 0.0627451 , 0.46666667],\n",
       "       [0.43921569, 0.12941176, 0.        , 0.2745098 , 0.72156863,\n",
       "        0.6627451 , 0.63529412, 0.6627451 , 0.60392157, 0.6       ,\n",
       "        0.59215686, 0.61568627, 0.6       , 0.66666667, 0.70980392,\n",
       "        0.6627451 , 0.60392157, 0.66666667, 0.6627451 , 0.6627451 ,\n",
       "        0.6745098 , 0.66666667, 0.7254902 , 0.6745098 , 0.78039216,\n",
       "        0.58823529, 0.53333333, 0.01568627],\n",
       "       [0.2745098 , 0.39215686, 0.        , 0.25882353, 0.74901961,\n",
       "        0.67843137, 0.57647059, 0.63529412, 0.52941176, 0.50980392,\n",
       "        0.53333333, 0.55294118, 0.57254902, 0.69411765, 0.76862745,\n",
       "        0.7254902 , 0.62745098, 0.62745098, 0.6627451 , 0.65098039,\n",
       "        0.6627451 , 0.66666667, 0.66666667, 0.70980392, 0.71764706,\n",
       "        1.        , 0.18823529, 0.        ],\n",
       "       [0.        , 0.57647059, 0.        , 0.        , 0.84313725,\n",
       "        0.72156863, 0.81568627, 0.8       , 0.75294118, 0.70588235,\n",
       "        0.70588235, 0.70588235, 0.66666667, 0.61568627, 0.61568627,\n",
       "        0.63137255, 0.6745098 , 0.69411765, 0.70980392, 0.70588235,\n",
       "        0.71764706, 0.7254902 , 0.75294118, 0.71764706, 0.75294118,\n",
       "        0.31372549, 0.        , 0.        ],\n",
       "       [0.        , 0.10588235, 0.53333333, 0.        , 0.64705882,\n",
       "        0.58431373, 0.61960784, 0.60392157, 0.68235294, 0.70196078,\n",
       "        0.73333333, 0.73333333, 0.6627451 , 0.65882353, 0.63529412,\n",
       "        0.6       , 0.6       , 0.60784314, 0.60392157, 0.60784314,\n",
       "        0.62745098, 0.64313725, 0.65098039, 0.69019608, 0.70588235,\n",
       "        0.        , 0.        , 0.        ],\n",
       "       [0.        , 0.        , 0.        , 0.62745098, 0.93333333,\n",
       "        0.91764706, 0.94901961, 0.93333333, 0.8745098 , 0.85490196,\n",
       "        0.86666667, 0.83921569, 0.74901961, 0.69411765, 0.66666667,\n",
       "        0.65098039, 0.65098039, 0.65098039, 0.64313725, 0.64313725,\n",
       "        0.64705882, 0.65882353, 0.69019608, 0.67843137, 0.72156863,\n",
       "        0.        , 0.        , 0.00392157],\n",
       "       [0.00784314, 0.        , 0.56078431, 0.85098039, 0.78431373,\n",
       "        0.82352941, 0.86666667, 0.90196078, 0.85882353, 0.83137255,\n",
       "        0.88235294, 0.9254902 , 0.74901961, 0.74901961, 0.78039216,\n",
       "        0.77647059, 0.77647059, 0.75686275, 0.73333333, 0.7254902 ,\n",
       "        0.72156863, 0.70980392, 0.7372549 , 0.63529412, 0.64313725,\n",
       "        0.03921569, 0.        , 0.00784314],\n",
       "       [0.00392157, 0.        , 0.18823529, 0.10980392, 0.05490196,\n",
       "        0.12941176, 0.11372549, 0.10588235, 0.1254902 , 0.1254902 ,\n",
       "        0.19607843, 0.21176471, 0.        , 0.        , 0.        ,\n",
       "        0.        , 0.        , 0.        , 0.        , 0.        ,\n",
       "        0.        , 0.        , 0.        , 0.        , 0.        ,\n",
       "        0.        , 0.        , 0.        ],\n",
       "       [0.        , 0.        , 0.        , 0.        , 0.        ,\n",
       "        0.        , 0.        , 0.        , 0.        , 0.        ,\n",
       "        0.        , 0.        , 0.        , 0.        , 0.        ,\n",
       "        0.        , 0.        , 0.        , 0.        , 0.        ,\n",
       "        0.        , 0.        , 0.        , 0.        , 0.        ,\n",
       "        0.        , 0.        , 0.        ],\n",
       "       [0.        , 0.        , 0.        , 0.        , 0.        ,\n",
       "        0.        , 0.        , 0.        , 0.        , 0.        ,\n",
       "        0.        , 0.        , 0.        , 0.        , 0.        ,\n",
       "        0.        , 0.        , 0.        , 0.        , 0.        ,\n",
       "        0.        , 0.        , 0.        , 0.        , 0.        ,\n",
       "        0.        , 0.        , 0.        ],\n",
       "       [0.        , 0.        , 0.        , 0.        , 0.        ,\n",
       "        0.        , 0.        , 0.        , 0.        , 0.        ,\n",
       "        0.        , 0.        , 0.        , 0.        , 0.        ,\n",
       "        0.        , 0.        , 0.        , 0.        , 0.        ,\n",
       "        0.        , 0.        , 0.        , 0.        , 0.        ,\n",
       "        0.        , 0.        , 0.        ],\n",
       "       [0.        , 0.        , 0.        , 0.        , 0.        ,\n",
       "        0.        , 0.        , 0.        , 0.        , 0.        ,\n",
       "        0.        , 0.        , 0.        , 0.        , 0.        ,\n",
       "        0.        , 0.        , 0.        , 0.        , 0.        ,\n",
       "        0.        , 0.        , 0.        , 0.        , 0.        ,\n",
       "        0.        , 0.        , 0.        ],\n",
       "       [0.        , 0.        , 0.        , 0.        , 0.        ,\n",
       "        0.        , 0.        , 0.        , 0.        , 0.        ,\n",
       "        0.        , 0.        , 0.        , 0.        , 0.        ,\n",
       "        0.        , 0.        , 0.        , 0.        , 0.        ,\n",
       "        0.        , 0.        , 0.        , 0.        , 0.        ,\n",
       "        0.        , 0.        , 0.        ],\n",
       "       [0.        , 0.        , 0.        , 0.        , 0.        ,\n",
       "        0.        , 0.        , 0.        , 0.        , 0.        ,\n",
       "        0.        , 0.        , 0.        , 0.        , 0.        ,\n",
       "        0.        , 0.        , 0.        , 0.        , 0.        ,\n",
       "        0.        , 0.        , 0.        , 0.        , 0.        ,\n",
       "        0.        , 0.        , 0.        ]])"
      ]
     },
     "execution_count": 20,
     "metadata": {},
     "output_type": "execute_result"
    }
   ],
   "source": [
    "train_img[342]"
   ]
  },
  {
   "cell_type": "code",
   "execution_count": 21,
   "id": "f61c27d5-9854-4643-98cb-c8204a9ffed5",
   "metadata": {},
   "outputs": [
    {
     "data": {
      "text/plain": [
       "array([[0.        , 0.        , 0.        , 0.        , 0.        ,\n",
       "        0.        , 0.        , 0.        , 0.        , 0.        ,\n",
       "        0.        , 0.        , 0.        , 0.        , 0.        ,\n",
       "        0.        , 0.        , 0.        , 0.        , 0.        ,\n",
       "        0.        , 0.        , 0.        , 0.        , 0.        ,\n",
       "        0.        , 0.        , 0.        ],\n",
       "       [0.        , 0.        , 0.        , 0.        , 0.        ,\n",
       "        0.        , 0.        , 0.        , 0.        , 0.        ,\n",
       "        0.        , 0.        , 0.        , 0.        , 0.        ,\n",
       "        0.        , 0.        , 0.        , 0.        , 0.        ,\n",
       "        0.        , 0.        , 0.        , 0.        , 0.        ,\n",
       "        0.        , 0.        , 0.        ],\n",
       "       [0.        , 0.        , 0.        , 0.        , 0.        ,\n",
       "        0.        , 0.        , 0.        , 0.        , 0.        ,\n",
       "        0.        , 0.        , 0.        , 0.        , 0.        ,\n",
       "        0.        , 0.        , 0.        , 0.        , 0.        ,\n",
       "        0.        , 0.        , 0.        , 0.        , 0.        ,\n",
       "        0.        , 0.        , 0.        ],\n",
       "       [0.        , 0.        , 0.        , 0.        , 0.        ,\n",
       "        0.        , 0.        , 0.        , 0.        , 0.        ,\n",
       "        0.        , 0.        , 0.        , 0.        , 0.        ,\n",
       "        0.        , 0.        , 0.        , 0.        , 0.        ,\n",
       "        0.        , 0.        , 0.        , 0.        , 0.        ,\n",
       "        0.        , 0.        , 0.        ],\n",
       "       [0.        , 0.        , 0.        , 0.        , 0.        ,\n",
       "        0.        , 0.        , 0.        , 0.        , 0.        ,\n",
       "        0.        , 0.        , 0.        , 0.        , 0.        ,\n",
       "        0.        , 0.        , 0.        , 0.        , 0.        ,\n",
       "        0.        , 0.        , 0.        , 0.        , 0.        ,\n",
       "        0.        , 0.        , 0.        ],\n",
       "       [0.        , 0.        , 0.        , 0.        , 0.        ,\n",
       "        0.        , 0.        , 0.        , 0.        , 0.        ,\n",
       "        0.        , 0.        , 0.        , 0.        , 0.00392157,\n",
       "        0.        , 0.        , 0.        , 0.        , 0.        ,\n",
       "        0.        , 0.        , 0.        , 0.00392157, 0.02352941,\n",
       "        0.        , 0.08235294, 0.        ],\n",
       "       [0.        , 0.        , 0.        , 0.        , 0.        ,\n",
       "        0.        , 0.        , 0.        , 0.        , 0.        ,\n",
       "        0.        , 0.        , 0.        , 0.00392157, 0.        ,\n",
       "        0.        , 0.24313725, 0.07058824, 0.        , 0.        ,\n",
       "        0.00784314, 0.        , 0.        , 0.        , 0.        ,\n",
       "        0.16862745, 0.71764706, 0.35686275],\n",
       "       [0.        , 0.        , 0.        , 0.        , 0.        ,\n",
       "        0.        , 0.        , 0.        , 0.        , 0.        ,\n",
       "        0.        , 0.        , 0.        , 0.02352941, 0.        ,\n",
       "        0.18039216, 0.91764706, 0.8627451 , 0.35686275, 0.        ,\n",
       "        0.        , 0.        , 0.        , 0.        , 0.17647059,\n",
       "        0.44313725, 0.39215686, 0.14117647],\n",
       "       [0.        , 0.        , 0.        , 0.        , 0.        ,\n",
       "        0.        , 0.        , 0.        , 0.        , 0.        ,\n",
       "        0.        , 0.        , 0.        , 0.        , 0.        ,\n",
       "        0.62352941, 0.88235294, 0.84313725, 0.82745098, 0.45882353,\n",
       "        0.38431373, 0.2       , 0.08235294, 0.90588235, 0.71372549,\n",
       "        0.78823529, 0.64705882, 0.        ],\n",
       "       [0.        , 0.        , 0.        , 0.        , 0.        ,\n",
       "        0.        , 0.        , 0.        , 0.        , 0.        ,\n",
       "        0.        , 0.        , 0.00784314, 0.        , 0.        ,\n",
       "        0.94901961, 0.83921569, 0.85098039, 0.83921569, 0.96078431,\n",
       "        1.        , 1.        , 0.99607843, 0.88235294, 0.70980392,\n",
       "        0.79607843, 0.45098039, 0.        ],\n",
       "       [0.        , 0.        , 0.        , 0.        , 0.        ,\n",
       "        0.        , 0.        , 0.        , 0.        , 0.        ,\n",
       "        0.        , 0.        , 0.00392157, 0.        , 0.28235294,\n",
       "        0.86666667, 0.78823529, 0.84313725, 0.83137255, 0.77254902,\n",
       "        0.76862745, 0.81176471, 0.82352941, 0.88627451, 0.93333333,\n",
       "        0.99607843, 0.23137255, 0.        ],\n",
       "       [0.        , 0.        , 0.        , 0.        , 0.        ,\n",
       "        0.        , 0.        , 0.        , 0.        , 0.        ,\n",
       "        0.        , 0.        , 0.        , 0.        , 0.74117647,\n",
       "        0.84313725, 0.81960784, 0.89411765, 0.83137255, 0.82352941,\n",
       "        0.83137255, 0.81960784, 0.83921569, 0.90588235, 0.87843137,\n",
       "        0.91372549, 0.07058824, 0.        ],\n",
       "       [0.        , 0.        , 0.        , 0.        , 0.        ,\n",
       "        0.        , 0.        , 0.        , 0.        , 0.01176471,\n",
       "        0.        , 0.00392157, 0.        , 0.17647059, 1.        ,\n",
       "        0.83137255, 0.89019608, 0.87058824, 0.81960784, 0.81960784,\n",
       "        0.81960784, 0.80392157, 0.85882353, 0.91372549, 0.90980392,\n",
       "        0.89019608, 0.02352941, 0.        ],\n",
       "       [0.        , 0.        , 0.        , 0.        , 0.        ,\n",
       "        0.        , 0.        , 0.        , 0.        , 0.00392157,\n",
       "        0.01176471, 0.        , 0.        , 0.92941176, 0.84313725,\n",
       "        0.87843137, 0.87843137, 0.81960784, 0.81960784, 0.82352941,\n",
       "        0.82352941, 0.81960784, 0.85882353, 0.87843137, 0.8745098 ,\n",
       "        0.93333333, 0.12941176, 0.        ],\n",
       "       [0.        , 0.        , 0.        , 0.        , 0.        ,\n",
       "        0.        , 0.        , 0.        , 0.        , 0.01568627,\n",
       "        0.        , 0.        , 0.81176471, 0.88627451, 0.79607843,\n",
       "        0.89019608, 0.87843137, 0.82352941, 0.8       , 0.80784314,\n",
       "        0.81960784, 0.82745098, 0.85882353, 0.89411765, 0.85098039,\n",
       "        0.94901961, 0.42745098, 0.        ],\n",
       "       [0.        , 0.        , 0.        , 0.        , 0.        ,\n",
       "        0.        , 0.        , 0.00784314, 0.        , 0.        ,\n",
       "        0.        , 0.75686275, 0.98039216, 0.78431373, 0.85882353,\n",
       "        0.88627451, 0.87843137, 0.80392157, 0.80784314, 0.81176471,\n",
       "        0.82352941, 0.81960784, 0.85098039, 0.91372549, 0.84705882,\n",
       "        0.91764706, 0.79607843, 0.        ],\n",
       "       [0.        , 0.        , 0.00392157, 0.00392157, 0.00392157,\n",
       "        0.00784314, 0.        , 0.        , 0.        , 0.00392157,\n",
       "        0.83529412, 0.9254902 , 0.79607843, 0.85490196, 0.88627451,\n",
       "        0.89411765, 0.89411765, 0.82745098, 0.81176471, 0.81960784,\n",
       "        0.82352941, 0.81176471, 0.83529412, 0.89019608, 0.86666667,\n",
       "        0.89803922, 0.98039216, 0.        ],\n",
       "       [0.        , 0.01568627, 0.        , 0.        , 0.        ,\n",
       "        0.        , 0.        , 0.        , 0.42352941, 0.98431373,\n",
       "        0.94901961, 0.81960784, 0.84705882, 0.86666667, 0.89411765,\n",
       "        0.92156863, 0.85882353, 0.81176471, 0.83529412, 0.82352941,\n",
       "        0.81568627, 0.80784314, 0.85490196, 0.89803922, 0.89411765,\n",
       "        0.87843137, 1.        , 0.12941176],\n",
       "       [0.        , 0.        , 0.        , 0.        , 0.        ,\n",
       "        0.14117647, 0.5254902 , 0.89411765, 1.        , 0.85098039,\n",
       "        0.85882353, 0.85490196, 0.87843137, 0.88627451, 0.90196078,\n",
       "        0.91764706, 0.84705882, 0.81176471, 0.83137255, 0.81176471,\n",
       "        0.84313725, 0.85098039, 0.87843137, 0.89411765, 0.89411765,\n",
       "        0.8627451 , 1.        , 0.23921569],\n",
       "       [0.        , 0.29411765, 0.71372549, 0.76078431, 0.94901961,\n",
       "        1.        , 0.89019608, 0.84705882, 0.86666667, 0.87058824,\n",
       "        0.89803922, 0.89411765, 0.92156863, 0.91372549, 0.91372549,\n",
       "        0.90980392, 0.87058824, 0.85882353, 0.85490196, 0.83529412,\n",
       "        0.8745098 , 0.8745098 , 0.88627451, 0.89019608, 0.91372549,\n",
       "        0.88235294, 0.94901961, 0.26666667],\n",
       "       [0.0745098 , 0.83529412, 0.87058824, 0.85098039, 0.84705882,\n",
       "        0.83529412, 0.84313725, 0.89019608, 0.9254902 , 0.91764706,\n",
       "        0.90588235, 0.9254902 , 0.90980392, 0.90588235, 0.8627451 ,\n",
       "        0.88235294, 0.89803922, 0.90980392, 0.90588235, 0.94509804,\n",
       "        0.99607843, 0.97254902, 0.99607843, 0.98431373, 0.93333333,\n",
       "        0.91372549, 1.        , 0.15294118],\n",
       "       [0.3254902 , 0.87843137, 0.88235294, 0.8745098 , 0.85098039,\n",
       "        0.87843137, 0.88627451, 0.87843137, 0.88627451, 0.88627451,\n",
       "        0.8745098 , 0.89411765, 0.91764706, 0.92156863, 0.9254902 ,\n",
       "        0.94117647, 0.92156863, 0.99607843, 0.98039216, 0.82745098,\n",
       "        0.75686275, 0.77254902, 0.74117647, 0.71764706, 0.67058824,\n",
       "        0.61176471, 0.70196078, 0.09411765],\n",
       "       [0.        , 0.34117647, 0.7254902 , 0.92941176, 0.99215686,\n",
       "        0.99607843, 1.        , 1.        , 0.99607843, 0.99215686,\n",
       "        1.        , 1.        , 1.        , 0.94117647, 0.78431373,\n",
       "        0.54901961, 0.34509804, 0.20392157, 0.00392157, 0.41568627,\n",
       "        0.48235294, 0.39607843, 0.48627451, 0.4745098 , 0.49019608,\n",
       "        0.50588235, 0.71764706, 0.16078431],\n",
       "       [0.        , 0.        , 0.        , 0.03921569, 0.23137255,\n",
       "        0.29019608, 0.3254902 , 0.37647059, 0.41176471, 0.44705882,\n",
       "        0.44705882, 0.3254902 , 0.16862745, 0.        , 0.        ,\n",
       "        0.        , 0.        , 0.        , 0.        , 0.29019608,\n",
       "        0.50588235, 0.42352941, 0.46666667, 0.45098039, 0.45098039,\n",
       "        0.47058824, 0.45882353, 0.01568627],\n",
       "       [0.        , 0.        , 0.        , 0.        , 0.        ,\n",
       "        0.        , 0.        , 0.        , 0.        , 0.        ,\n",
       "        0.        , 0.        , 0.        , 0.        , 0.        ,\n",
       "        0.        , 0.        , 0.        , 0.        , 0.        ,\n",
       "        0.        , 0.        , 0.        , 0.        , 0.        ,\n",
       "        0.        , 0.        , 0.        ],\n",
       "       [0.        , 0.        , 0.        , 0.        , 0.        ,\n",
       "        0.        , 0.        , 0.        , 0.        , 0.        ,\n",
       "        0.        , 0.        , 0.        , 0.        , 0.        ,\n",
       "        0.        , 0.        , 0.        , 0.        , 0.        ,\n",
       "        0.        , 0.        , 0.        , 0.        , 0.        ,\n",
       "        0.        , 0.        , 0.        ],\n",
       "       [0.        , 0.        , 0.        , 0.        , 0.        ,\n",
       "        0.        , 0.        , 0.        , 0.        , 0.        ,\n",
       "        0.        , 0.        , 0.        , 0.        , 0.        ,\n",
       "        0.        , 0.        , 0.        , 0.        , 0.        ,\n",
       "        0.        , 0.        , 0.        , 0.        , 0.        ,\n",
       "        0.        , 0.        , 0.        ],\n",
       "       [0.        , 0.        , 0.        , 0.        , 0.        ,\n",
       "        0.        , 0.        , 0.        , 0.        , 0.        ,\n",
       "        0.        , 0.        , 0.        , 0.        , 0.        ,\n",
       "        0.        , 0.        , 0.        , 0.        , 0.        ,\n",
       "        0.        , 0.        , 0.        , 0.        , 0.        ,\n",
       "        0.        , 0.        , 0.        ]])"
      ]
     },
     "execution_count": 21,
     "metadata": {},
     "output_type": "execute_result"
    }
   ],
   "source": [
    "test_img[123]"
   ]
  },
  {
   "cell_type": "code",
   "execution_count": 22,
   "id": "ed537ae7-0e24-4501-8e0c-bf324ca1ffdb",
   "metadata": {},
   "outputs": [
    {
     "name": "stderr",
     "output_type": "stream",
     "text": [
      "C:\\Users\\Ruchita Kasture\\AppData\\Local\\Programs\\Python\\Python311\\Lib\\site-packages\\keras\\src\\layers\\reshaping\\flatten.py:37: UserWarning: Do not pass an `input_shape`/`input_dim` argument to a layer. When using Sequential models, prefer using an `Input(shape)` object as the first layer in the model instead.\n",
      "  super().__init__(**kwargs)\n"
     ]
    }
   ],
   "source": [
    "model = Sequential([\n",
    "    Flatten(input_shape = (28,28)),\n",
    "    Dense(128, activation=\"relu\"),\n",
    "    Dense(10, activation=\"softmax\")\n",
    "    \n",
    "])"
   ]
  },
  {
   "cell_type": "code",
   "execution_count": 23,
   "id": "56ba5194-d604-4742-ab6e-f30df2b0d67c",
   "metadata": {},
   "outputs": [],
   "source": [
    "model.compile(optimizer=\"adam\", loss=\"sparse_categorical_crossentropy\", metrics=[\"accuracy\"])"
   ]
  },
  {
   "cell_type": "code",
   "execution_count": 24,
   "id": "f767c33b-c1f4-4e8d-9b88-b9af94543b7d",
   "metadata": {},
   "outputs": [
    {
     "name": "stdout",
     "output_type": "stream",
     "text": [
      "Epoch 1/30\n",
      "\u001b[1m1875/1875\u001b[0m \u001b[32m━━━━━━━━━━━━━━━━━━━━\u001b[0m\u001b[37m\u001b[0m \u001b[1m15s\u001b[0m 7ms/step - accuracy: 0.7857 - loss: 0.6169 - val_accuracy: 0.8519 - val_loss: 0.4209\n",
      "Epoch 2/30\n",
      "\u001b[1m1875/1875\u001b[0m \u001b[32m━━━━━━━━━━━━━━━━━━━━\u001b[0m\u001b[37m\u001b[0m \u001b[1m23s\u001b[0m 8ms/step - accuracy: 0.8604 - loss: 0.3858 - val_accuracy: 0.8677 - val_loss: 0.3719\n",
      "Epoch 3/30\n",
      "\u001b[1m1875/1875\u001b[0m \u001b[32m━━━━━━━━━━━━━━━━━━━━\u001b[0m\u001b[37m\u001b[0m \u001b[1m19s\u001b[0m 7ms/step - accuracy: 0.8776 - loss: 0.3354 - val_accuracy: 0.8684 - val_loss: 0.3681\n",
      "Epoch 4/30\n",
      "\u001b[1m1875/1875\u001b[0m \u001b[32m━━━━━━━━━━━━━━━━━━━━\u001b[0m\u001b[37m\u001b[0m \u001b[1m21s\u001b[0m 7ms/step - accuracy: 0.8890 - loss: 0.3060 - val_accuracy: 0.8735 - val_loss: 0.3473\n",
      "Epoch 5/30\n",
      "\u001b[1m1875/1875\u001b[0m \u001b[32m━━━━━━━━━━━━━━━━━━━━\u001b[0m\u001b[37m\u001b[0m \u001b[1m21s\u001b[0m 8ms/step - accuracy: 0.8923 - loss: 0.2889 - val_accuracy: 0.8736 - val_loss: 0.3507\n",
      "Epoch 6/30\n",
      "\u001b[1m1875/1875\u001b[0m \u001b[32m━━━━━━━━━━━━━━━━━━━━\u001b[0m\u001b[37m\u001b[0m \u001b[1m22s\u001b[0m 9ms/step - accuracy: 0.8974 - loss: 0.2785 - val_accuracy: 0.8713 - val_loss: 0.3605\n",
      "Epoch 7/30\n",
      "\u001b[1m1875/1875\u001b[0m \u001b[32m━━━━━━━━━━━━━━━━━━━━\u001b[0m\u001b[37m\u001b[0m \u001b[1m19s\u001b[0m 8ms/step - accuracy: 0.9030 - loss: 0.2637 - val_accuracy: 0.8834 - val_loss: 0.3311\n",
      "Epoch 8/30\n",
      "\u001b[1m1875/1875\u001b[0m \u001b[32m━━━━━━━━━━━━━━━━━━━━\u001b[0m\u001b[37m\u001b[0m \u001b[1m20s\u001b[0m 8ms/step - accuracy: 0.9037 - loss: 0.2569 - val_accuracy: 0.8773 - val_loss: 0.3412\n",
      "Epoch 9/30\n",
      "\u001b[1m1875/1875\u001b[0m \u001b[32m━━━━━━━━━━━━━━━━━━━━\u001b[0m\u001b[37m\u001b[0m \u001b[1m21s\u001b[0m 8ms/step - accuracy: 0.9085 - loss: 0.2478 - val_accuracy: 0.8769 - val_loss: 0.3447\n",
      "Epoch 10/30\n",
      "\u001b[1m1875/1875\u001b[0m \u001b[32m━━━━━━━━━━━━━━━━━━━━\u001b[0m\u001b[37m\u001b[0m \u001b[1m22s\u001b[0m 8ms/step - accuracy: 0.9101 - loss: 0.2400 - val_accuracy: 0.8816 - val_loss: 0.3392\n",
      "Epoch 11/30\n",
      "\u001b[1m1875/1875\u001b[0m \u001b[32m━━━━━━━━━━━━━━━━━━━━\u001b[0m\u001b[37m\u001b[0m \u001b[1m21s\u001b[0m 9ms/step - accuracy: 0.9155 - loss: 0.2252 - val_accuracy: 0.8817 - val_loss: 0.3388\n",
      "Epoch 12/30\n",
      "\u001b[1m1875/1875\u001b[0m \u001b[32m━━━━━━━━━━━━━━━━━━━━\u001b[0m\u001b[37m\u001b[0m \u001b[1m19s\u001b[0m 8ms/step - accuracy: 0.9195 - loss: 0.2144 - val_accuracy: 0.8812 - val_loss: 0.3387\n",
      "Epoch 13/30\n",
      "\u001b[1m1875/1875\u001b[0m \u001b[32m━━━━━━━━━━━━━━━━━━━━\u001b[0m\u001b[37m\u001b[0m \u001b[1m22s\u001b[0m 9ms/step - accuracy: 0.9183 - loss: 0.2158 - val_accuracy: 0.8797 - val_loss: 0.3442\n",
      "Epoch 14/30\n",
      "\u001b[1m1875/1875\u001b[0m \u001b[32m━━━━━━━━━━━━━━━━━━━━\u001b[0m\u001b[37m\u001b[0m \u001b[1m19s\u001b[0m 8ms/step - accuracy: 0.9211 - loss: 0.2096 - val_accuracy: 0.8818 - val_loss: 0.3497\n",
      "Epoch 15/30\n",
      "\u001b[1m1875/1875\u001b[0m \u001b[32m━━━━━━━━━━━━━━━━━━━━\u001b[0m\u001b[37m\u001b[0m \u001b[1m23s\u001b[0m 9ms/step - accuracy: 0.9228 - loss: 0.2063 - val_accuracy: 0.8865 - val_loss: 0.3390\n",
      "Epoch 16/30\n",
      "\u001b[1m1875/1875\u001b[0m \u001b[32m━━━━━━━━━━━━━━━━━━━━\u001b[0m\u001b[37m\u001b[0m \u001b[1m21s\u001b[0m 9ms/step - accuracy: 0.9276 - loss: 0.1924 - val_accuracy: 0.8876 - val_loss: 0.3485\n",
      "Epoch 17/30\n",
      "\u001b[1m1875/1875\u001b[0m \u001b[32m━━━━━━━━━━━━━━━━━━━━\u001b[0m\u001b[37m\u001b[0m \u001b[1m21s\u001b[0m 9ms/step - accuracy: 0.9299 - loss: 0.1864 - val_accuracy: 0.8857 - val_loss: 0.3529\n",
      "Epoch 18/30\n",
      "\u001b[1m1875/1875\u001b[0m \u001b[32m━━━━━━━━━━━━━━━━━━━━\u001b[0m\u001b[37m\u001b[0m \u001b[1m22s\u001b[0m 10ms/step - accuracy: 0.9301 - loss: 0.1836 - val_accuracy: 0.8857 - val_loss: 0.3490\n",
      "Epoch 19/30\n",
      "\u001b[1m1875/1875\u001b[0m \u001b[32m━━━━━━━━━━━━━━━━━━━━\u001b[0m\u001b[37m\u001b[0m \u001b[1m18s\u001b[0m 9ms/step - accuracy: 0.9315 - loss: 0.1812 - val_accuracy: 0.8888 - val_loss: 0.3461\n",
      "Epoch 20/30\n",
      "\u001b[1m1875/1875\u001b[0m \u001b[32m━━━━━━━━━━━━━━━━━━━━\u001b[0m\u001b[37m\u001b[0m \u001b[1m24s\u001b[0m 11ms/step - accuracy: 0.9325 - loss: 0.1783 - val_accuracy: 0.8883 - val_loss: 0.3517\n",
      "Epoch 21/30\n",
      "\u001b[1m1875/1875\u001b[0m \u001b[32m━━━━━━━━━━━━━━━━━━━━\u001b[0m\u001b[37m\u001b[0m \u001b[1m19s\u001b[0m 10ms/step - accuracy: 0.9344 - loss: 0.1742 - val_accuracy: 0.8861 - val_loss: 0.3749\n",
      "Epoch 22/30\n",
      "\u001b[1m1875/1875\u001b[0m \u001b[32m━━━━━━━━━━━━━━━━━━━━\u001b[0m\u001b[37m\u001b[0m \u001b[1m21s\u001b[0m 10ms/step - accuracy: 0.9379 - loss: 0.1649 - val_accuracy: 0.8806 - val_loss: 0.3751\n",
      "Epoch 23/30\n",
      "\u001b[1m1875/1875\u001b[0m \u001b[32m━━━━━━━━━━━━━━━━━━━━\u001b[0m\u001b[37m\u001b[0m \u001b[1m22s\u001b[0m 11ms/step - accuracy: 0.9396 - loss: 0.1631 - val_accuracy: 0.8872 - val_loss: 0.3841\n",
      "Epoch 24/30\n",
      "\u001b[1m1875/1875\u001b[0m \u001b[32m━━━━━━━━━━━━━━━━━━━━\u001b[0m\u001b[37m\u001b[0m \u001b[1m38s\u001b[0m 10ms/step - accuracy: 0.9409 - loss: 0.1586 - val_accuracy: 0.8883 - val_loss: 0.3652\n",
      "Epoch 25/30\n",
      "\u001b[1m1875/1875\u001b[0m \u001b[32m━━━━━━━━━━━━━━━━━━━━\u001b[0m\u001b[37m\u001b[0m \u001b[1m21s\u001b[0m 10ms/step - accuracy: 0.9418 - loss: 0.1557 - val_accuracy: 0.8873 - val_loss: 0.3714\n",
      "Epoch 26/30\n",
      "\u001b[1m1875/1875\u001b[0m \u001b[32m━━━━━━━━━━━━━━━━━━━━\u001b[0m\u001b[37m\u001b[0m \u001b[1m19s\u001b[0m 10ms/step - accuracy: 0.9455 - loss: 0.1489 - val_accuracy: 0.8854 - val_loss: 0.3864\n",
      "Epoch 27/30\n",
      "\u001b[1m1875/1875\u001b[0m \u001b[32m━━━━━━━━━━━━━━━━━━━━\u001b[0m\u001b[37m\u001b[0m \u001b[1m18s\u001b[0m 9ms/step - accuracy: 0.9444 - loss: 0.1476 - val_accuracy: 0.8853 - val_loss: 0.3987\n",
      "Epoch 28/30\n",
      "\u001b[1m1875/1875\u001b[0m \u001b[32m━━━━━━━━━━━━━━━━━━━━\u001b[0m\u001b[37m\u001b[0m \u001b[1m21s\u001b[0m 9ms/step - accuracy: 0.9471 - loss: 0.1411 - val_accuracy: 0.8825 - val_loss: 0.3958\n",
      "Epoch 29/30\n",
      "\u001b[1m1875/1875\u001b[0m \u001b[32m━━━━━━━━━━━━━━━━━━━━\u001b[0m\u001b[37m\u001b[0m \u001b[1m23s\u001b[0m 10ms/step - accuracy: 0.9458 - loss: 0.1427 - val_accuracy: 0.8861 - val_loss: 0.3865\n",
      "Epoch 30/30\n",
      "\u001b[1m1875/1875\u001b[0m \u001b[32m━━━━━━━━━━━━━━━━━━━━\u001b[0m\u001b[37m\u001b[0m \u001b[1m20s\u001b[0m 10ms/step - accuracy: 0.9500 - loss: 0.1326 - val_accuracy: 0.8882 - val_loss: 0.4141\n"
     ]
    },
    {
     "data": {
      "text/plain": [
       "<keras.src.callbacks.history.History at 0x286e9891a90>"
      ]
     },
     "execution_count": 24,
     "metadata": {},
     "output_type": "execute_result"
    }
   ],
   "source": [
    "model.fit(train_img, train_lab, epochs=30, batch_size=32, validation_data=(test_img, test_lab))"
   ]
  },
  {
   "cell_type": "code",
   "execution_count": 25,
   "id": "7ef0af5b-6509-4b90-a95d-c8701c084a65",
   "metadata": {},
   "outputs": [
    {
     "data": {
      "image/png": "[encoded data removed]",
      "text/plain": [
       "<Figure size 1200x400 with 1 Axes>"
      ]
     },
     "metadata": {},
     "output_type": "display_data"
    }
   ],
   "source": [
    "plt.figure(figsize=(12,4))\n",
    "plt.plot(model.history.history[\"loss\"],label=\"Training Loss\")\n",
    "plt.plot(model.history.history[\"val_loss\"],label=\"validation Loss\")\n",
    "plt.title(\"Loss visulization\")\n",
    "plt.legend()\n",
    "plt.xlabel(\"Epochs\")\n",
    "plt.ylabel(\"Loss\")\n",
    "plt.show()"
   ]
  },
  {
   "cell_type": "code",
   "execution_count": 26,
   "id": "a3998452-c965-4996-ad83-77bfc63b69e6",
   "metadata": {},
   "outputs": [
    {
     "data": {
      "image/png": "[encoded data removed]",
      "text/plain": [
       "<Figure size 1200x400 with 1 Axes>"
      ]
     },
     "metadata": {},
     "output_type": "display_data"
    }
   ],
   "source": [
    "plt.figure(figsize=(12,4))\n",
    "plt.plot(model.history.history[\"accuracy\"], label=\"Training Accuracy\")\n",
    "plt.plot(model.history.history[\"val_loss\"],label=\"validation Accuracy\")\n",
    "plt.title(\"Accuracy visulization\")\n",
    "plt.legend()\n",
    "plt.xlabel(\"Epochs\")\n",
    "plt.ylabel(\"Accuracy\")\n",
    "plt.show()"
   ]
  },
  {
   "cell_type": "code",
   "execution_count": 38,
   "id": "47eea98f-5b88-4c0c-a5a4-3cda40aefebc",
   "metadata": {},
   "outputs": [],
   "source": [
    "def  image_prediction(img_path): \n",
    "    img = load_img(img_path , target_size=(28,28), color_mode='grayscale') # Load image in grayscale\n",
    "    img_arr = img_to_array(img)\n",
    "    img_norm = img_arr / 255.0\n",
    "    img_flatten = np.expand_dims(img_norm, axis=0)\n",
    "    pred = model.predict(img_flatten)\n",
    "    predicted_class = classes[np.argmax(pred[0])]\n",
    "\n",
    "    return predicted_class"
   ]
  },
  {
   "cell_type": "code",
   "execution_count": 39,
   "id": "ed02d3b9-5099-4b76-a2c5-aa27c9632116",
   "metadata": {},
   "outputs": [
    {
     "name": "stdout",
     "output_type": "stream",
     "text": [
      "\u001b[1m1/1\u001b[0m \u001b[32m━━━━━━━━━━━━━━━━━━━━\u001b[0m\u001b[37m\u001b[0m \u001b[1m0s\u001b[0m 99ms/step\n"
     ]
    },
    {
     "data": {
      "text/plain": [
       "'Bag'"
      ]
     },
     "execution_count": 39,
     "metadata": {},
     "output_type": "execute_result"
    }
   ],
   "source": [
    "image_prediction(\"Dress.jpg\")"
   ]
  },
  {
   "cell_type": "code",
   "execution_count": 40,
   "id": "42cd984a-2eba-44ff-9282-60440e3d63b4",
   "metadata": {},
   "outputs": [
    {
     "name": "stdout",
     "output_type": "stream",
     "text": [
      "\u001b[1m1/1\u001b[0m \u001b[32m━━━━━━━━━━━━━━━━━━━━\u001b[0m\u001b[37m\u001b[0m \u001b[1m0s\u001b[0m 68ms/step\n"
     ]
    },
    {
     "data": {
      "text/plain": [
       "'Bag'"
      ]
     },
     "execution_count": 40,
     "metadata": {},
     "output_type": "execute_result"
    }
   ],
   "source": [
    "image_prediction(\"Shoes.jpg\")"
   ]
  },
  {
   "cell_type": "code",
   "execution_count": 41,
   "id": "b2238d80-6c4e-436b-9baa-e84c507b542f",
   "metadata": {},
   "outputs": [
    {
     "name": "stdout",
     "output_type": "stream",
     "text": [
      "\u001b[1m1/1\u001b[0m \u001b[32m━━━━━━━━━━━━━━━━━━━━\u001b[0m\u001b[37m\u001b[0m \u001b[1m0s\u001b[0m 73ms/step\n"
     ]
    },
    {
     "data": {
      "text/plain": [
       "'Bag'"
      ]
     },
     "execution_count": 41,
     "metadata": {},
     "output_type": "execute_result"
    }
   ],
   "source": [
    "image_prediction(\"T-Shirt.jpg\")"
   ]
  },
  {
   "cell_type": "code",
   "execution_count": null,
   "id": "5fbc493b-3e97-460a-8eca-5bdbce3d83b5",
   "metadata": {},
   "outputs": [],
   "source": []
  }
 ],
 "metadata": {
  "kernelspec": {
   "display_name": "Python 3 (ipykernel)",
   "language": "python",
   "name": "python3"
  },
  "language_info": {
   "codemirror_mode": {
    "name": "ipython",
    "version": 3
   },
   "file_extension": ".py",
   "mimetype": "text/x-python",
   "name": "python",
   "nbconvert_exporter": "python",
   "pygments_lexer": "ipython3",
   "version": "3.11.9"
  }
 },
 "nbformat": 4,
 "nbformat_minor": 5
}
