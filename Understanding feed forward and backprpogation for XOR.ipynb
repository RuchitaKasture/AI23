{
 "cells": [
  {
   "cell_type": "code",
   "execution_count": 1,
   "id": "28331f95-32c8-485d-bee1-32142147e5d6",
   "metadata": {},
   "outputs": [],
   "source": [
    "import numpy as np\n",
    "import matplotlib.pyplot as plt\n",
    "import seaborn as sns"
   ]
  },
  {
   "cell_type": "code",
   "execution_count": 2,
   "id": "e56c20d1-f276-46fd-9794-a61eb6c56542",
   "metadata": {},
   "outputs": [],
   "source": [
    "#Acticavtion function\n",
    "def sigmoid(x):\n",
    "    return 1/ (1+np.exp(-x))"
   ]
  },
  {
   "cell_type": "code",
   "execution_count": 26,
   "id": "cd407c59-7f00-4d42-b57e-57396b633625",
   "metadata": {},
   "outputs": [],
   "source": [
    "#Deeivation of the activation function for backprogation\n",
    "def sigmoid_derivative(x):\n",
    "    return x * (1 - x)"
   ]
  },
  {
   "cell_type": "code",
   "execution_count": 27,
   "id": "a2087427-355e-4259-b43f-7f48543b075d",
   "metadata": {},
   "outputs": [],
   "source": [
    "#Input for XOR gate and Expected Output\n",
    "inputs = np.array([[0,0],[0,1],[1,0],[1,1]])\n",
    "outputs = np.array([[0],[1],[1],[0]])"
   ]
  },
  {
   "cell_type": "code",
   "execution_count": 28,
   "id": "e0e67b2e-6b48-4c49-9ad2-bcbd15f11cb4",
   "metadata": {},
   "outputs": [],
   "source": [
    "# 2 input neuron, 2 hidden neuron and 1 output neuron\n",
    "input_layer_neurons = 2\n",
    "hidden_layer_neurons = 2\n",
    "output_layer_neurons = 1\n"
   ]
  },
  {
   "cell_type": "code",
   "execution_count": 29,
   "id": "3b5149b2-928e-496f-988f-06c0782ed992",
   "metadata": {},
   "outputs": [],
   "source": [
    "# Weights and biases\n",
    "weights_input_hidden = np.random.uniform(size=(input_layer_neurons, hidden_layer_neurons))\n",
    "weights_hidden_output = np.random.uniform(size=(hidden_layer_neurons, output_layer_neurons))\n",
    "bias_hidden = np.random.uniform(size=(1, hidden_layer_neurons))\n",
    "bias_output = np.random.uniform(size=(1, output_layer_neurons))"
   ]
  },
  {
   "cell_type": "code",
   "execution_count": 30,
   "id": "cd40c06d-84d4-4478-893e-d038e7445eca",
   "metadata": {},
   "outputs": [
    {
     "data": {
      "text/plain": [
       "(array([[0.45422469, 0.96301977],\n",
       "        [0.35283545, 0.38187839]]),\n",
       " array([[0.47643811],\n",
       "        [0.66725297]]),\n",
       " array([[0.82168096, 0.55124654]]),\n",
       " array([[0.33343298]]))"
      ]
     },
     "execution_count": 30,
     "metadata": {},
     "output_type": "execute_result"
    }
   ],
   "source": [
    "weights_input_hidden,weights_hidden_output,bias_hidden,bias_output"
   ]
  },
  {
   "cell_type": "code",
   "execution_count": 41,
   "id": "e02fce39-97a4-4450-af1b-af868196495f",
   "metadata": {},
   "outputs": [],
   "source": [
    "learning_rate=0.1\n",
    "epochs = 10000"
   ]
  },
  {
   "cell_type": "code",
   "execution_count": 42,
   "id": "4084839d-ba2e-4535-b5ba-494ad4c62b94",
   "metadata": {},
   "outputs": [],
   "source": [
    "loss =[]\n",
    "for i in range(epochs):\n",
    "    #Forward Propogation/feed forward\n",
    "    hidden_input=np.dot(inputs,weights_input_hidden)+ bias_hidden\n",
    "    hidden_output= sigmoid(hidden_input)\n",
    "\n",
    "    final_input =np.dot(hidden_output, weights_hidden_output)+ bias_output\n",
    "    final_output = sigmoid(final_input)\n",
    "\n",
    "    # Calculation erro = different between predicted and actual\n",
    "    error= outputs - final_output\n",
    "\n",
    "    # Backprogation\n",
    "    #Calculation the deviation of error w.r.t output\n",
    "    d_output = error * sigmoid_derivative(final_output)\n",
    "\n",
    "    #Calculate the error for hidden layer\n",
    "    error_hidden = d_output.dot(weights_hidden_output.T)\n",
    "    d_hidden = error_hidden * sigmoid_derivative(hidden_output)\n",
    "\n",
    "    #Updating Weights and biases using Gradient Discent\n",
    "    weights_hidden_output += hidden_output.T.dot(d_output) * learning_rate\n",
    "    weights_input_hidden += inputs.T.dot(d_hidden) * learning_rate\n",
    "\n",
    "    bias_output += np.sum(d_output, axis=0, keepdims=True) * learning_rate\n",
    "    bias_hidden += np.sum(d_hidden, axis=0, keepdims=True) * learning_rate\n",
    "\n",
    "    # less record\n",
    "    loss.append(np.mean(np.abs(error)))"
   ]
  },
  {
   "cell_type": "code",
   "execution_count": 43,
   "id": "5a278b54-b3f8-4fb5-bbd6-e8ad13b5b162",
   "metadata": {},
   "outputs": [
    {
     "name": "stdout",
     "output_type": "stream",
     "text": [
      "Input: [0 0], Predicted Output: [0.]\n",
      "Input: [0 1], Predicted Output: [1.]\n",
      "Input: [1 0], Predicted Output: [1.]\n",
      "Input: [1 1], Predicted Output: [0.]\n"
     ]
    }
   ],
   "source": [
    "for i, inp in enumerate(inputs):\n",
    "    hidden_input = np.dot(inp, weights_input_hidden) +bias_hidden\n",
    "    hidden_output = sigmoid(hidden_input)\n",
    "\n",
    "    final_input = np.dot(hidden_output, weights_hidden_output) + bias_output\n",
    "    final_output = sigmoid(final_input)\n",
    "\n",
    "    print(f\"Input: {inp}, Predicted Output: {np.round(final_output)[0]}\")"
   ]
  },
  {
   "cell_type": "code",
   "execution_count": 44,
   "id": "0de48db0-5873-4af8-9ac5-9d86c46b738e",
   "metadata": {},
   "outputs": [
    {
     "data": {
      "image/png": "[encoded data removed]",
      "text/plain": [
       "<Figure size 1200x500 with 1 Axes>"
      ]
     },
     "metadata": {},
     "output_type": "display_data"
    }
   ],
   "source": [
    "plt.figure(figsize=(12,5))\n",
    "plt.scatter(range(10000), loss)\n",
    "plt.show()"
   ]
  },
  {
   "cell_type": "code",
   "execution_count": null,
   "id": "0f15ab35-1b57-4551-820e-2eaaa5e703e7",
   "metadata": {},
   "outputs": [],
   "source": []
  }
 ],
 "metadata": {
  "kernelspec": {
   "display_name": "Python 3 (ipykernel)",
   "language": "python",
   "name": "python3"
  },
  "language_info": {
   "codemirror_mode": {
    "name": "ipython",
    "version": 3
   },
   "file_extension": ".py",
   "mimetype": "text/x-python",
   "name": "python",
   "nbconvert_exporter": "python",
   "pygments_lexer": "ipython3",
   "version": "3.11.9"
  }
 },
 "nbformat": 4,
 "nbformat_minor": 5
}
