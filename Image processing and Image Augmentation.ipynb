{
 "cells": [
  {
   "cell_type": "code",
   "execution_count": 1,
   "id": "30985ed5-5850-489e-a7a3-82b3ad71c7e5",
   "metadata": {},
   "outputs": [],
   "source": [
    "uimport numpy as np\n",
    "import cv2 as cv"
   ]
  },
  {
   "cell_type": "markdown",
   "id": "5c156cd4-12ce-45b1-9151-d6fe29c3d1da",
   "metadata": {},
   "source": [
    "# Image Read"
   ]
  },
  {
   "cell_type": "code",
   "execution_count": 2,
   "id": "3dd25b54-8bc2-4b93-b3a2-59a3454a5078",
   "metadata": {},
   "outputs": [],
   "source": [
    "img = cv.imread(\"animal.jpg\")"
   ]
  },
  {
   "cell_type": "code",
   "execution_count": 3,
   "id": "73ae7fc0-959f-4de1-942e-36955ab7a350",
   "metadata": {},
   "outputs": [
    {
     "data": {
      "text/plain": [
       "array([[[249, 236, 190],\n",
       "        [231, 180,   0],\n",
       "        [231, 180,   0],\n",
       "        ...,\n",
       "        [231, 180,   0],\n",
       "        [231, 180,   0],\n",
       "        [255, 255, 255]],\n",
       "\n",
       "       [[249, 236, 190],\n",
       "        [231, 180,   0],\n",
       "        [231, 180,   0],\n",
       "        ...,\n",
       "        [231, 180,   0],\n",
       "        [231, 180,   0],\n",
       "        [255, 255, 255]],\n",
       "\n",
       "       [[249, 236, 190],\n",
       "        [231, 180,   0],\n",
       "        [231, 180,   0],\n",
       "        ...,\n",
       "        [231, 180,   0],\n",
       "        [231, 180,   0],\n",
       "        [255, 255, 255]],\n",
       "\n",
       "       ...,\n",
       "\n",
       "       [[215, 239, 231],\n",
       "        [ 90, 190, 162],\n",
       "        [ 88, 190, 162],\n",
       "        ...,\n",
       "        [115, 211, 200],\n",
       "        [115, 212, 198],\n",
       "        [255, 255, 255]],\n",
       "\n",
       "       [[219, 243, 241],\n",
       "        [116, 213, 199],\n",
       "        [115, 212, 198],\n",
       "        ...,\n",
       "        [115, 212, 198],\n",
       "        [117, 212, 198],\n",
       "        [255, 255, 254]],\n",
       "\n",
       "       [[220, 246, 240],\n",
       "        [115, 211, 200],\n",
       "        [115, 212, 198],\n",
       "        ...,\n",
       "        [ 79, 183, 148],\n",
       "        [ 90, 189, 163],\n",
       "        [255, 255, 255]]], dtype=uint8)"
      ]
     },
     "execution_count": 3,
     "metadata": {},
     "output_type": "execute_result"
    }
   ],
   "source": [
    "img"
   ]
  },
  {
   "cell_type": "markdown",
   "id": "8f9513b5-9460-497e-8633-5b5eb8522851",
   "metadata": {},
   "source": [
    "Image Show"
   ]
  },
  {
   "cell_type": "code",
   "execution_count": 4,
   "id": "32d7e0db-7c1b-44a3-ad42-d0f634964fec",
   "metadata": {},
   "outputs": [],
   "source": [
    "cv.imshow(\"Original Image\",img)\n",
    "cv.waitKey(0)         #waitkey is so that loaded image stays on screen\n",
    "cv.destroyAllWindows()       # we have to close this image or program will no go forward "
   ]
  },
  {
   "cell_type": "markdown",
   "id": "bae6c50a-aa84-450c-9a86-56a1868d2e4a",
   "metadata": {},
   "source": [
    "# Image Resize"
   ]
  },
  {
   "cell_type": "code",
   "execution_count": 5,
   "id": "b672ac5e-2f6d-4298-b503-2bb5e3a46eb9",
   "metadata": {},
   "outputs": [],
   "source": [
    "re_img = cv.resize(img, (200, 200))"
   ]
  },
  {
   "cell_type": "code",
   "execution_count": 43,
   "id": "1614404e-e3ee-400b-be80-64a20b86358d",
   "metadata": {},
   "outputs": [],
   "source": [
    "cv.imwrite(r\"D:\\Data Science Program\\AI\\Image Augumented\\resized_img.jpg\",re_img)\n",
    "cv.imshow(\"Resized Image\",re_img)   # It can change the size of image\n",
    "cv.waitKey(0)         \n",
    "cv.destroyAllWindows() "
   ]
  },
  {
   "cell_type": "markdown",
   "id": "14c00779-ad46-41e9-bcdd-cd09da04fe3e",
   "metadata": {},
   "source": [
    "# Image Color Channel"
   ]
  },
  {
   "cell_type": "code",
   "execution_count": 7,
   "id": "42dc2d85-3b45-455a-92ee-60935648f9b9",
   "metadata": {},
   "outputs": [],
   "source": [
    "red = re_img.copy()"
   ]
  },
  {
   "cell_type": "code",
   "execution_count": 8,
   "id": "6e8f6eb3-1658-4355-ad4d-2f6096ccca2b",
   "metadata": {},
   "outputs": [
    {
     "data": {
      "text/plain": [
       "(200, 200, 3)"
      ]
     },
     "execution_count": 8,
     "metadata": {},
     "output_type": "execute_result"
    }
   ],
   "source": [
    "red.shape"
   ]
  },
  {
   "cell_type": "code",
   "execution_count": 9,
   "id": "259c91df-f112-479b-8c95-8cccb45550a1",
   "metadata": {},
   "outputs": [],
   "source": [
    "red[:,:,[0,1]] = 0"
   ]
  },
  {
   "cell_type": "code",
   "execution_count": 44,
   "id": "ec75c8e3-bd8b-4a94-bfe4-59d156f17287",
   "metadata": {},
   "outputs": [],
   "source": [
    "cv.imwrite(r\"D:\\Data Science Program\\AI\\Image Augumented\\red_img.jpg\",red)\n",
    "cv.imshow(\"Red Image\", red)  #It use for change the colour of image on red\n",
    "cv.waitKey(0)\n",
    "cv.destroyAllWindows()"
   ]
  },
  {
   "cell_type": "code",
   "execution_count": 11,
   "id": "7c8af13c-f025-4c1b-8878-6ef53819f43c",
   "metadata": {},
   "outputs": [],
   "source": [
    "green = re_img.copy()"
   ]
  },
  {
   "cell_type": "code",
   "execution_count": 12,
   "id": "6e38c6cd-98ad-4e4f-bf2e-597ff77fa6b2",
   "metadata": {},
   "outputs": [],
   "source": [
    "green[:,:,[0,2]]= 0"
   ]
  },
  {
   "cell_type": "code",
   "execution_count": 45,
   "id": "ef782cec-c030-416f-8b5e-704397e2ccd6",
   "metadata": {},
   "outputs": [],
   "source": [
    "cv.imwrite(r\"D:\\Data Science Program\\AI\\Image Augumented\\green_img.jpg\",green)\n",
    "cv.imshow(\"Green Image\", green)  #It use for change the colour of image on green\n",
    "cv.waitKey(0)\n",
    "cv.destroyAllWindows()"
   ]
  },
  {
   "cell_type": "code",
   "execution_count": 14,
   "id": "5b70c932-4535-4ea4-b2e2-8b9e6b845657",
   "metadata": {},
   "outputs": [],
   "source": [
    "blue = re_img.copy()"
   ]
  },
  {
   "cell_type": "code",
   "execution_count": 15,
   "id": "6458edc0-556e-40bd-9d9c-51db2d83f5a7",
   "metadata": {},
   "outputs": [],
   "source": [
    "blue[:,:,[1,2]]= 0"
   ]
  },
  {
   "cell_type": "code",
   "execution_count": 46,
   "id": "adda8a2f-1897-4ad2-8d33-6433d166262e",
   "metadata": {},
   "outputs": [],
   "source": [
    "cv.imwrite(r\"D:\\Data Science Program\\AI\\Image Augumented\\blue_img.jpg\",blue)\n",
    "cv.imshow(\"Blue Image\", blue)  #It use for change the colour of image on blue\n",
    "cv.waitKey(0)\n",
    "cv.destroyAllWindows()"
   ]
  },
  {
   "cell_type": "code",
   "execution_count": 17,
   "id": "a42c5a1a-e4c8-4802-92a1-d8beb41c5f22",
   "metadata": {},
   "outputs": [],
   "source": [
    "cv.imshow(\"Addition of all color channel\",(blue + green + red)) \n",
    "cv.waitKey(0)\n",
    "cv.destroyAllWindows()"
   ]
  },
  {
   "cell_type": "code",
   "execution_count": 18,
   "id": "ed161b9f-e6f0-48d0-8545-59292980fea9",
   "metadata": {},
   "outputs": [],
   "source": [
    "arr = np.random.randint(0, 255, 36).reshape(3,4,3)"
   ]
  },
  {
   "cell_type": "code",
   "execution_count": 19,
   "id": "6cb9de5e-1242-4a50-acf7-2f0abc9f42e1",
   "metadata": {},
   "outputs": [
    {
     "data": {
      "text/plain": [
       "array([[[131,  69,  10],\n",
       "        [135,  39, 155],\n",
       "        [204, 109, 183],\n",
       "        [ 54, 241, 237]],\n",
       "\n",
       "       [[ 86,  88, 238],\n",
       "        [178,  80, 171],\n",
       "        [119,  70,  33],\n",
       "        [241,  89, 172]],\n",
       "\n",
       "       [[ 75,  62,   2],\n",
       "        [ 59,  68, 100],\n",
       "        [229, 159,  23],\n",
       "        [119, 142, 249]]], dtype=int32)"
      ]
     },
     "execution_count": 19,
     "metadata": {},
     "output_type": "execute_result"
    }
   ],
   "source": [
    "arr"
   ]
  },
  {
   "cell_type": "code",
   "execution_count": 20,
   "id": "5cfd9bd4-5cc6-4e5c-8f08-ca06c577f705",
   "metadata": {},
   "outputs": [
    {
     "data": {
      "text/plain": [
       "(3, 4, 3)"
      ]
     },
     "execution_count": 20,
     "metadata": {},
     "output_type": "execute_result"
    }
   ],
   "source": [
    "arr.shape"
   ]
  },
  {
   "cell_type": "code",
   "execution_count": 21,
   "id": "8e625e13-6b5e-4ddd-b1fe-8d01cec6a2c5",
   "metadata": {},
   "outputs": [
    {
     "data": {
      "text/plain": [
       "array([[[  0,   0,  10],\n",
       "        [  0,   0, 155],\n",
       "        [  0,   0, 183],\n",
       "        [  0,   0, 237]],\n",
       "\n",
       "       [[  0,   0, 238],\n",
       "        [  0,   0, 171],\n",
       "        [  0,   0,  33],\n",
       "        [  0,   0, 172]],\n",
       "\n",
       "       [[  0,   0,   2],\n",
       "        [  0,   0, 100],\n",
       "        [  0,   0,  23],\n",
       "        [  0,   0, 249]]], dtype=int32)"
      ]
     },
     "execution_count": 21,
     "metadata": {},
     "output_type": "execute_result"
    }
   ],
   "source": [
    "arr[:,:,[0,1]] = 0\n",
    "arr"
   ]
  },
  {
   "cell_type": "markdown",
   "id": "84430303-739a-425f-96e2-6a3d0ea14b26",
   "metadata": {},
   "source": [
    "# Image Color to grayscale"
   ]
  },
  {
   "cell_type": "code",
   "execution_count": 22,
   "id": "7a754e57-e1e4-4fc8-abcc-0b39d42fefec",
   "metadata": {},
   "outputs": [],
   "source": [
    "gray_img = cv.cvtColor(re_img, cv.COLOR_BGR2GRAY)"
   ]
  },
  {
   "cell_type": "code",
   "execution_count": 47,
   "id": "95d19278-7836-4202-b434-a7ce5999e95e",
   "metadata": {},
   "outputs": [],
   "source": [
    "cv.imwrite(r\"D:\\Data Science Program\\AI\\Image Augumented\\gray_img.jpg\",gray_img)\n",
    "cv.imshow(\"Gray Image\", gray_img)  \n",
    "cv.waitKey(0)\n",
    "cv.destroyAllWindows()"
   ]
  },
  {
   "cell_type": "markdown",
   "id": "698515ed-2825-47fa-81eb-26d67f3bc406",
   "metadata": {},
   "source": [
    "# Adding Blur to Image"
   ]
  },
  {
   "cell_type": "code",
   "execution_count": 24,
   "id": "2d6db584-e55f-4277-8cde-0dd5da3c392f",
   "metadata": {},
   "outputs": [],
   "source": [
    "blur_img1 = cv.GaussianBlur(re_img,(3,3), 2)  #gaussian its just scientist name\n",
    "blur_img2 = cv.GaussianBlur(re_img, (5,5), 6)  #it can adding two images "
   ]
  },
  {
   "cell_type": "code",
   "execution_count": 25,
   "id": "d571ccff-7d30-400f-88d7-89d8c9ce81f8",
   "metadata": {},
   "outputs": [],
   "source": [
    "two_img = np.hstack((blur_img1, blur_img2))"
   ]
  },
  {
   "cell_type": "code",
   "execution_count": 48,
   "id": "46de9b13-6a2f-4523-bad3-ae6947578cf4",
   "metadata": {},
   "outputs": [],
   "source": [
    "cv.imwrite(r\"D:\\Data Science Program\\AI\\Image Augumented\\two_img.jpg\",two_img)\n",
    "cv.imshow(\"Blur Images\", two_img) \n",
    "cv.waitKey(0)\n",
    "cv.destroyAllWindows()"
   ]
  },
  {
   "cell_type": "markdown",
   "id": "82cd5fae-4057-45ee-880b-0ed10c9f460c",
   "metadata": {},
   "source": [
    "# Edge Detction in Image"
   ]
  },
  {
   "cell_type": "code",
   "execution_count": 27,
   "id": "379570bd-bbc0-4f78-acd9-c82648f3df16",
   "metadata": {},
   "outputs": [],
   "source": [
    "edges1 = cv.Canny(gray_img,100, 200)\n",
    "edges2 = cv.Canny(gray_img, 150, 300)"
   ]
  },
  {
   "cell_type": "code",
   "execution_count": 28,
   "id": "ccd938a3-f742-4e9c-8255-bfbbcba0b34a",
   "metadata": {},
   "outputs": [],
   "source": [
    "two_edges = np.hstack((edges1,edges2))"
   ]
  },
  {
   "cell_type": "code",
   "execution_count": 49,
   "id": "572da287-0f28-47bc-9c3f-4b41a8f9aad5",
   "metadata": {},
   "outputs": [],
   "source": [
    "cv.imwrite(r\"D:\\Data Science Program\\AI\\Image Augumented\\two_edges.jpg\",two_edges)\n",
    "cv.imshow(\"Edges of Images\", two_edges)\n",
    "cv.waitKey(0)\n",
    "cv.destroyAllWindows()"
   ]
  },
  {
   "cell_type": "markdown",
   "id": "b148b712-9d3b-407d-83c0-2e06cc307c72",
   "metadata": {},
   "source": [
    "# Rotate Image"
   ]
  },
  {
   "cell_type": "code",
   "execution_count": 30,
   "id": "b4cfccd4-785d-4974-bf70-800b28276905",
   "metadata": {},
   "outputs": [],
   "source": [
    "angle = 60\n",
    "rows, cols = re_img.shape[:2]   ##Rows means width and cols means Height\n",
    "center = (cols//2, rows//2)"
   ]
  },
  {
   "cell_type": "code",
   "execution_count": 31,
   "id": "26aa2a61-bc5b-4b11-8b4a-f92e54816b77",
   "metadata": {},
   "outputs": [
    {
     "data": {
      "text/plain": [
       "(100, 100)"
      ]
     },
     "execution_count": 31,
     "metadata": {},
     "output_type": "execute_result"
    }
   ],
   "source": [
    "center"
   ]
  },
  {
   "cell_type": "code",
   "execution_count": 32,
   "id": "1fd04991-1e26-4e65-bd71-96d23e85e2ab",
   "metadata": {},
   "outputs": [],
   "source": [
    "rotate_mat = cv.getRotationMatrix2D(center, angle, scale=0.8)"
   ]
  },
  {
   "cell_type": "code",
   "execution_count": 33,
   "id": "129868b3-532a-47ed-99b3-e80d573a1202",
   "metadata": {},
   "outputs": [],
   "source": [
    "rotate_img = cv.warpAffine(re_img, rotate_mat, (cols, rows)) ##Warp is function to rotate image"
   ]
  },
  {
   "cell_type": "code",
   "execution_count": 50,
   "id": "30235108-8f4b-4956-9900-703a949a2454",
   "metadata": {},
   "outputs": [],
   "source": [
    "cv.imwrite(r\"D:\\Data Science Program\\AI\\Image Augumented\\rotate_img.jpg\",rotate_img)\n",
    "cv.imshow(\"Rotated Images\", rotate_img) \n",
    "cv.waitKey(0)\n",
    "cv.destroyAllWindows()"
   ]
  },
  {
   "cell_type": "markdown",
   "id": "7e0c3e96-f686-4624-b953-f310c6f52983",
   "metadata": {},
   "source": [
    "# Flipping Image"
   ]
  },
  {
   "cell_type": "code",
   "execution_count": 35,
   "id": "7da2b527-5e54-4a28-ae36-890ebd82818d",
   "metadata": {},
   "outputs": [],
   "source": [
    "flip_vert = cv.flip(re_img, 0)\n",
    "flip_hori = cv.flip(re_img, 1)"
   ]
  },
  {
   "cell_type": "code",
   "execution_count": 36,
   "id": "6954c6d7-7a45-408e-a3ec-6bb6186880c5",
   "metadata": {},
   "outputs": [],
   "source": [
    "two_flip = np.hstack((flip_vert, flip_hori))"
   ]
  },
  {
   "cell_type": "code",
   "execution_count": 51,
   "id": "06bd800a-f591-4996-bd50-2237afb88e98",
   "metadata": {},
   "outputs": [],
   "source": [
    "cv.imwrite(r\"D:\\Data Science Program\\AI\\Image Augumented\\two_flip.jpg\",two_flip)\n",
    "cv.imshow(\"Flipped Images\", two_flip) \n",
    "cv.waitKey(0)\n",
    "cv.destroyAllWindows()"
   ]
  },
  {
   "cell_type": "markdown",
   "id": "cb45303b-2d9c-49a7-b785-7ea24bdb0d33",
   "metadata": {},
   "source": [
    "# Shearing the Image"
   ]
  },
  {
   "cell_type": "code",
   "execution_count": 38,
   "id": "327224d7-33f2-4b8f-866b-e1ce12e3c36b",
   "metadata": {},
   "outputs": [],
   "source": [
    "shear_factor= 0.5"
   ]
  },
  {
   "cell_type": "code",
   "execution_count": 39,
   "id": "bcbe9618-7cae-4311-87d7-498151d03929",
   "metadata": {},
   "outputs": [],
   "source": [
    "shear_mat = np.float32([[1, shear_factor,0],[0,1,0]])  # this function use to rotate one side"
   ]
  },
  {
   "cell_type": "code",
   "execution_count": 40,
   "id": "7f950deb-5ef1-4af8-8587-976d81e37a6c",
   "metadata": {},
   "outputs": [
    {
     "data": {
      "text/plain": [
       "array([[1. , 0.5, 0. ],\n",
       "       [0. , 1. , 0. ]], dtype=float32)"
      ]
     },
     "execution_count": 40,
     "metadata": {},
     "output_type": "execute_result"
    }
   ],
   "source": [
    "shear_mat"
   ]
  },
  {
   "cell_type": "code",
   "execution_count": 41,
   "id": "7b127233-5327-4b05-bc21-8e01582e3ccf",
   "metadata": {},
   "outputs": [],
   "source": [
    "sheared_img = cv.warpAffine(re_img, shear_mat, (cols + int(shear_factor*rows),rows))"
   ]
  },
  {
   "cell_type": "code",
   "execution_count": 52,
   "id": "07a3c97f-274d-48ad-8361-1cb7d06698e3",
   "metadata": {},
   "outputs": [],
   "source": [
    "cv.imwrite(r\"D:\\Data Science Program\\AI\\Image Augumented\\sheared_img.jpg\",sheared_img)\n",
    "cv.imshow(\"Skewed Image\", sheared_img) \n",
    "cv.waitKey(0)\n",
    "cv.destroyAllWindows()"
   ]
  },
  {
   "cell_type": "code",
   "execution_count": null,
   "id": "2f1be1b3-0bcb-4784-970a-b4ff85a11361",
   "metadata": {},
   "outputs": [],
   "source": []
  }
 ],
 "metadata": {
  "kernelspec": {
   "display_name": "Python 3 (ipykernel)",
   "language": "python",
   "name": "python3"
  },
  "language_info": {
   "codemirror_mode": {
    "name": "ipython",
    "version": 3
   },
   "file_extension": ".py",
   "mimetype": "text/x-python",
   "name": "python",
   "nbconvert_exporter": "python",
   "pygments_lexer": "ipython3",
   "version": "3.11.9"
  }
 },
 "nbformat": 4,
 "nbformat_minor": 5
}
