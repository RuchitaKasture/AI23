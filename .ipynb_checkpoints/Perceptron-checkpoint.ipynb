{
 "cells": [
  {
   "cell_type": "code",
   "execution_count": 1,
   "id": "ce0a33f4-c466-4329-8afd-1cf971a18427",
   "metadata": {},
   "outputs": [],
   "source": [
    "import numpy as np"
   ]
  },
  {
   "cell_type": "code",
   "execution_count": 2,
   "id": "3e844c8c-9238-4866-b5a5-c69cb933cb2c",
   "metadata": {},
   "outputs": [],
   "source": [
    "class Perceptron:\n",
    "    def __init__(self,inp_dim, learning_rate, epochs):\n",
    "      self.lr = learning_rate\n",
    "      self.epochs = epochs\n",
    "      self.weight = np.random.rand(inp_dim)\n",
    "      self.bias = np.random.rand()\n",
    "      self.error_ls =[]\n",
    "        \n",
    "    def step_function(self,x):\n",
    "         return 1 if x >= 34 else 0\n",
    "\n",
    "    def predict(self, input):\n",
    "        weighted_sum = np.dot(input, self.weight)+self.bias\n",
    "        return self.step_function(weighted_sum)\n",
    "\n",
    "    def fit(self, inp, out):\n",
    "        error_ls=[]\n",
    "        for i in range(self.epochs):\n",
    "            for j in range(len(inp)):\n",
    "                y_pred = self.predict(inp[j])\n",
    "                error = out[j] - y_pred\n",
    "                self.error_ls.append(error)\n",
    "\n",
    "                self.weight += (self.lr * error * inp[j])\n",
    "                self.bias += (self.lr * error)"
   ]
  },
  {
   "cell_type": "code",
   "execution_count": 3,
   "id": "dcb5bf9e-f9a4-4766-94a6-62c9f72a2092",
   "metadata": {},
   "outputs": [],
   "source": [
    "inp_data = np.array([[0,0],[0,1],[1,0],[1,1]])"
   ]
  },
  {
   "cell_type": "code",
   "execution_count": 4,
   "id": "b0dee15f-d5e5-4986-b50b-026b885a4410",
   "metadata": {},
   "outputs": [],
   "source": [
    "out_AND = np.array([0,0,0,1])"
   ]
  },
  {
   "cell_type": "code",
   "execution_count": 5,
   "id": "6488b746-5003-45bb-9dce-4a0a650f3049",
   "metadata": {},
   "outputs": [],
   "source": [
    "AND_model = Perceptron(inp_dim=2, epochs=1000, learning_rate=0.5)"
   ]
  },
  {
   "cell_type": "code",
   "execution_count": 6,
   "id": "891cd7a8-60f4-4337-b279-3746f1fd09eb",
   "metadata": {},
   "outputs": [],
   "source": [
    "AND_model.fit(inp_data, out_AND)"
   ]
  },
  {
   "cell_type": "code",
   "execution_count": 7,
   "id": "dec9a53d-7d30-4c47-b295-0f649d82394e",
   "metadata": {},
   "outputs": [
    {
     "data": {
      "text/plain": [
       "0"
      ]
     },
     "execution_count": 7,
     "metadata": {},
     "output_type": "execute_result"
    }
   ],
   "source": [
    "AND_model.predict([1,0])"
   ]
  },
  {
   "cell_type": "code",
   "execution_count": 8,
   "id": "f8a5ab8d-0006-484f-b7b1-ecf6d79972b4",
   "metadata": {},
   "outputs": [
    {
     "data": {
      "text/plain": [
       "1"
      ]
     },
     "execution_count": 8,
     "metadata": {},
     "output_type": "execute_result"
    }
   ],
   "source": [
    "AND_model.predict([1,1])"
   ]
  },
  {
   "cell_type": "code",
   "execution_count": 9,
   "id": "5ae17203-1176-49e9-b7fa-4489f4687e7f",
   "metadata": {},
   "outputs": [
    {
     "data": {
      "text/plain": [
       "0"
      ]
     },
     "execution_count": 9,
     "metadata": {},
     "output_type": "execute_result"
    }
   ],
   "source": [
    "AND_model.predict([0,0])"
   ]
  },
  {
   "cell_type": "code",
   "execution_count": 10,
   "id": "c386e692-4e3e-4f8d-a2aa-9d48cf1cdb41",
   "metadata": {},
   "outputs": [],
   "source": [
    "out_OR = np.array([0,1,1,1])"
   ]
  },
  {
   "cell_type": "code",
   "execution_count": 11,
   "id": "18e844f7-8fbf-4d08-b7c1-497ac4d1a6f1",
   "metadata": {},
   "outputs": [],
   "source": [
    "OR_model = Perceptron(inp_dim=2, epochs=1000, learning_rate=0.5)"
   ]
  },
  {
   "cell_type": "code",
   "execution_count": 12,
   "id": "aca4e6eb-8064-48ed-99ff-0c6115f0d21e",
   "metadata": {},
   "outputs": [],
   "source": [
    "OR_model.fit(inp_data, out_OR)"
   ]
  },
  {
   "cell_type": "code",
   "execution_count": 13,
   "id": "78c7fa59-ea96-428d-b3f1-f8baef681e6d",
   "metadata": {},
   "outputs": [
    {
     "data": {
      "text/plain": [
       "1"
      ]
     },
     "execution_count": 13,
     "metadata": {},
     "output_type": "execute_result"
    }
   ],
   "source": [
    "OR_model.predict([0,1])"
   ]
  },
  {
   "cell_type": "code",
   "execution_count": 14,
   "id": "36b476b8-80d1-4bb8-994f-cf23273260dd",
   "metadata": {},
   "outputs": [
    {
     "data": {
      "text/plain": [
       "1"
      ]
     },
     "execution_count": 14,
     "metadata": {},
     "output_type": "execute_result"
    }
   ],
   "source": [
    "OR_model.predict([1,0])"
   ]
  },
  {
   "cell_type": "code",
   "execution_count": 15,
   "id": "07e3a502-8c40-4451-818e-eb1fa36ef16b",
   "metadata": {},
   "outputs": [
    {
     "data": {
      "text/plain": [
       "1"
      ]
     },
     "execution_count": 15,
     "metadata": {},
     "output_type": "execute_result"
    }
   ],
   "source": [
    "OR_model.predict([1,1])"
   ]
  },
  {
   "cell_type": "code",
   "execution_count": 16,
   "id": "517c2531-afcb-4bb9-aee2-d145c9e6f1ad",
   "metadata": {},
   "outputs": [
    {
     "data": {
      "text/plain": [
       "(array([11.87551006, 11.23497667]), np.float64(11.4348163146812))"
      ]
     },
     "execution_count": 16,
     "metadata": {},
     "output_type": "execute_result"
    }
   ],
   "source": [
    "AND_model.weight, AND_model.bias"
   ]
  },
  {
   "cell_type": "code",
   "execution_count": 17,
   "id": "fbda2825-4c0c-4d32-9bd2-3af189bf0897",
   "metadata": {},
   "outputs": [
    {
     "data": {
      "text/plain": [
       "(array([13.18766732, 13.68156617]), np.float64(21.049129476731316))"
      ]
     },
     "execution_count": 17,
     "metadata": {},
     "output_type": "execute_result"
    }
   ],
   "source": [
    "OR_model.weight, OR_model.bias"
   ]
  },
  {
   "cell_type": "code",
   "execution_count": 18,
   "id": "abf900c2-e167-497c-88ed-440e8aae3c42",
   "metadata": {},
   "outputs": [],
   "source": [
    "import matplotlib.pyplot as plt"
   ]
  },
  {
   "cell_type": "code",
   "execution_count": 19,
   "id": "2e242617-a48b-4571-a5fb-c89deda7f9b1",
   "metadata": {},
   "outputs": [
    {
     "data": {
      "text/plain": [
       "<function matplotlib.pyplot.show(close=None, block=None)>"
      ]
     },
     "execution_count": 19,
     "metadata": {},
     "output_type": "execute_result"
    },
    {
     "data": {
      "image/png": "[encoded data removed]",
      "text/plain": [
       "<Figure size 640x480 with 1 Axes>"
      ]
     },
     "metadata": {},
     "output_type": "display_data"
    }
   ],
   "source": [
    "plt.plot(AND_model.error_ls)\n",
    "plt.show"
   ]
  },
  {
   "cell_type": "code",
   "execution_count": 20,
   "id": "63ebe0a8-de45-4cfe-89cc-252c15ea0fb7",
   "metadata": {},
   "outputs": [
    {
     "data": {
      "text/plain": [
       "[<matplotlib.lines.Line2D at 0x1b0279a5350>]"
      ]
     },
     "execution_count": 20,
     "metadata": {},
     "output_type": "execute_result"
    },
    {
     "data": {
      "image/png": "[encoded data removed]",
      "text/plain": [
       "<Figure size 640x480 with 1 Axes>"
      ]
     },
     "metadata": {},
     "output_type": "display_data"
    }
   ],
   "source": [
    "plt.plot(OR_model.error_ls)"
   ]
  },
  {
   "cell_type": "code",
   "execution_count": 21,
   "id": "f2854b3d-8177-4c22-87f0-ff9e52332fe6",
   "metadata": {},
   "outputs": [],
   "source": [
    "out_XOR = np.array([0,1,1,0])"
   ]
  },
  {
   "cell_type": "code",
   "execution_count": 22,
   "id": "3eaf0edc-1107-45b6-92f4-17131918f6d9",
   "metadata": {},
   "outputs": [],
   "source": [
    "XOR_model = Perceptron(inp_dim=2, learning_rate=0.5,epochs=1000)"
   ]
  },
  {
   "cell_type": "code",
   "execution_count": 23,
   "id": "3a98cada-8f56-4cc1-ba48-436c6f2ea82a",
   "metadata": {},
   "outputs": [],
   "source": [
    "XOR_model.fit(inp_data, out_XOR)"
   ]
  },
  {
   "cell_type": "code",
   "execution_count": 24,
   "id": "0f23b772-24e9-4dc5-8086-01cae2d3f294",
   "metadata": {},
   "outputs": [
    {
     "name": "stdout",
     "output_type": "stream",
     "text": [
      "1\n",
      "1\n",
      "0\n",
      "0\n"
     ]
    }
   ],
   "source": [
    "for i in inp_data:\n",
    "    print(XOR_model.predict(i))"
   ]
  },
  {
   "cell_type": "code",
   "execution_count": null,
   "id": "3e505517-4e9a-4c2d-a9d0-b143f1cea404",
   "metadata": {},
   "outputs": [],
   "source": []
  }
 ],
 "metadata": {
  "kernelspec": {
   "display_name": "Python 3 (ipykernel)",
   "language": "python",
   "name": "python3"
  },
  "language_info": {
   "codemirror_mode": {
    "name": "ipython",
    "version": 3
   },
   "file_extension": ".py",
   "mimetype": "text/x-python",
   "name": "python",
   "nbconvert_exporter": "python",
   "pygments_lexer": "ipython3",
   "version": "3.11.9"
  }
 },
 "nbformat": 4,
 "nbformat_minor": 5
}
