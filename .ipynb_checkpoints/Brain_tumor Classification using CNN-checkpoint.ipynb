{
 "cells": [
  {
   "cell_type": "code",
   "execution_count": null,
   "id": "1332a9e8-e8ba-4289-afca-4f6be066b1a6",
   "metadata": {},
   "outputs": [],
   "source": [
    "import numpy as np\n",
    "import matplotlib.pyplot as plt\n",
    "\n",
    "from tensorflow.keras.preprocessing.image import load_img, ImageDataGenerator, img_to_array\n",
    "from tensorflow.keras.models import Sequential \n",
    "from tensorflow.keras.layers import Dense, Conv2D, MaxPool2D, Flatten\n",
    "\n",
    "import warnings\n",
    "warnings.filterwarnings(\"ignore\")"
   ]
  },
  {
   "cell_type": "code",
   "execution_count": null,
   "id": "e4a0c767-9813-423b-9cd8-397b732fa1ee",
   "metadata": {},
   "outputs": [],
   "source": [
    "train_dir = r\"D:\\Data Science Program\\AI\\archive\\Training\"\n",
    "test_dir = r\"D:\\Data Science Program\\AI\\archive\\Testing\""
   ]
  },
  {
   "cell_type": "code",
   "execution_count": null,
   "id": "84389b39-ff13-4757-96f6-54e377675941",
   "metadata": {},
   "outputs": [],
   "source": [
    "width = 500\n",
    "height = 500\n",
    "\n",
    "batch = 32"
   ]
  },
  {
   "cell_type": "code",
   "execution_count": null,
   "id": "6565a7a7-9256-44f7-b770-afa6dfc90dff",
   "metadata": {},
   "outputs": [],
   "source": [
    "train_dataset = ImageDataGenerator(\n",
    "    rescale=1/255.0,\n",
    "    rotation_range=20,\n",
    "    height_shift_range=0.2,\n",
    "    \n",
    "    width_shift_range=0.2,\n",
    "    shear_range=0.2,\n",
    "    zoom_range=0.2,\n",
    "    horizontal_flip=True\n",
    ")"
   ]
  },
  {
   "cell_type": "code",
   "execution_count": null,
   "id": "89fc63b1-d414-44c7-9b40-787ac954fada",
   "metadata": {},
   "outputs": [],
   "source": [
    "train_img = train_dataset.flow_from_directory(\n",
    "    train_dir,\n",
    "    target_size=(width,height),\n",
    "    batch_size=batch,\n",
    "    class_mode=\"categorical\"\n",
    ")"
   ]
  },
  {
   "cell_type": "code",
   "execution_count": null,
   "id": "d6c3d787-782f-4b7e-bc7b-5e2457c38059",
   "metadata": {},
   "outputs": [],
   "source": [
    "test_dataset = ImageDataGenerator(rescale=1/255.0)"
   ]
  },
  {
   "cell_type": "code",
   "execution_count": null,
   "id": "11835d68-7ba6-42e9-8622-67393706d60a",
   "metadata": {},
   "outputs": [],
   "source": [
    "test_img = test_dataset.flow_from_directory(\n",
    "    test_dir,\n",
    "    target_size=(width,height),\n",
    "    batch_size=batch,\n",
    "    class_mode=\"categorical\"\n",
    ")"
   ]
  },
  {
   "cell_type": "code",
   "execution_count": null,
   "id": "687bbd7f-25d4-4471-bc9b-d2f28d7e2407",
   "metadata": {},
   "outputs": [],
   "source": [
    "train_img.class_indices"
   ]
  },
  {
   "cell_type": "code",
   "execution_count": null,
   "id": "f08e80dc-bf5b-40da-9b1f-a283010133b3",
   "metadata": {},
   "outputs": [],
   "source": [
    "classes = {val:key for key,val in train_img.class_indices.items()}"
   ]
  },
  {
   "cell_type": "code",
   "execution_count": null,
   "id": "b10d8417-a8f5-4b2c-8d8d-640039d94c0d",
   "metadata": {},
   "outputs": [],
   "source": [
    "classes"
   ]
  },
  {
   "cell_type": "code",
   "execution_count": null,
   "id": "5e2d35ef-87c1-46eb-8a77-572a85533c57",
   "metadata": {},
   "outputs": [],
   "source": [
    "model = Sequential([\n",
    "    Conv2D(64, (3,3), strides=(1,1), padding=\"valid\", input_shape=(width, height,3), activation=\"relu\"),\n",
    "    MaxPool2D(2,2),\n",
    "    Conv2D(128, (3,3), strides=(1,1), padding=\"valid\", activation=\"relu\"),\n",
    "    MaxPool2D(2,2),\n",
    "    Conv2D(256, (3,3), strides=(1,1), padding=\"valid\", activation=\"relu\"),\n",
    "    MaxPool2D(2,2),\n",
    "    Flatten(),\n",
    "    Dense(128, activation=\"relu\"),\n",
    "    Dense(256, activation=\"relu\"),\n",
    "    Dense(128, activation=\"relu\"),\n",
    "    Dense(4, activation=\"softmax\"),\n",
    "\n",
    "])"
   ]
  },
  {
   "cell_type": "code",
   "execution_count": null,
   "id": "758bdaf1-3f2b-4401-ae39-3531d18e7e81",
   "metadata": {},
   "outputs": [],
   "source": [
    "model.compile(optimizer=\"adam\", loss=\"categorical_crossentropy\", metrics=[\"accuracy\"])"
   ]
  },
  {
   "cell_type": "code",
   "execution_count": null,
   "id": "2e70b7b7-65dc-4625-9322-14a610e44a8d",
   "metadata": {},
   "outputs": [],
   "source": [
    "history = model.fit(train_img, epochs=25, batch_size= batch, validation_data=test_img)"
   ]
  },
  {
   "cell_type": "code",
   "execution_count": null,
   "id": "4a28a092-3f14-476d-8efb-3a8232ed75a0",
   "metadata": {},
   "outputs": [],
   "source": [
    "plt.figure(figsize=(12,4))\n",
    "plt.plot(history.history[\"loss\"], label=\"Training Loss\")\n",
    "plt.plot(history.history[\"val_loss\"],label=\"validation Loss\")\n",
    "plt.title(\"Loss visulization\")\n",
    "plt.legend()\n",
    "plt.xlabel(\"Epochs\")\n",
    "plt.ylabel(\"Loss\")\n",
    "plt.show()"
   ]
  },
  {
   "cell_type": "code",
   "execution_count": null,
   "id": "9daf0660-8d4d-4f7a-ae20-1b5acc9085b6",
   "metadata": {},
   "outputs": [],
   "source": [
    "plt.figure(figsize=(12,4))\n",
    "plt.plot(model.history.history[\"accuracy\"], label=\"Training Accuracy\")\n",
    "plt.plot(model.history.history[\"val_loss\"],label=\"validation Accuracy\")\n",
    "plt.title(\"Accuracy visulization\")\n",
    "plt.legend()\n",
    "plt.xlabel(\"Epochs\")\n",
    "plt.ylabel(\"Accuracy\")\n",
    "plt.show()"
   ]
  }
 ],
 "metadata": {
  "kernelspec": {
   "display_name": "Python 3 (ipykernel)",
   "language": "python",
   "name": "python3"
  },
  "language_info": {
   "codemirror_mode": {
    "name": "ipython",
    "version": 3
   },
   "file_extension": ".py",
   "mimetype": "text/x-python",
   "name": "python",
   "nbconvert_exporter": "python",
   "pygments_lexer": "ipython3",
   "version": "3.11.9"
  }
 },
 "nbformat": 4,
 "nbformat_minor": 5
}
