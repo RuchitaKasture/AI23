{
 "cells": [
  {
   "cell_type": "code",
   "execution_count": 5,
   "id": "06817d02-df23-4707-a205-09a04f03f218",
   "metadata": {},
   "outputs": [],
   "source": [
    "import numpy as np\n",
    "import tensorflow as tf\n",
    "from tensorflow.keras.preprocessing import sequence\n",
    "from tensorflow.keras.datasets import imdb\n",
    "from tensorflow.keras.models import Sequential\n",
    "from tensorflow.keras.layers import Embedding, SimpleRNN, Dense\n",
    "\n",
    "import warnings\n",
    "warnings.filterwarnings(\"ignore\")"
   ]
  },
  {
   "cell_type": "code",
   "execution_count": 6,
   "id": "f6810bb4-a88b-4c4e-bde4-53e9145e3652",
   "metadata": {},
   "outputs": [],
   "source": [
    "features = 10000\n",
    "length = 500\n",
    "batch_size = 32"
   ]
  },
  {
   "cell_type": "code",
   "execution_count": 16,
   "id": "83f13e49-d639-4fa5-bf3d-038ee3c125d6",
   "metadata": {},
   "outputs": [],
   "source": [
    "(x_tr, y_tr), (x_te, y_te) = imdb.load_data(num_words=features)"
   ]
  },
  {
   "cell_type": "code",
   "execution_count": 17,
   "id": "05100bc7-b788-43f6-a03d-6c705d8dc049",
   "metadata": {},
   "outputs": [
    {
     "data": {
      "text/plain": [
       "(25000,)"
      ]
     },
     "execution_count": 17,
     "metadata": {},
     "output_type": "execute_result"
    }
   ],
   "source": [
    "x_tr.shape"
   ]
  },
  {
   "cell_type": "code",
   "execution_count": 18,
   "id": "fdc2e910-084b-4b2c-a4ec-92171d24e283",
   "metadata": {},
   "outputs": [
    {
     "data": {
      "text/plain": [
       "218"
      ]
     },
     "execution_count": 18,
     "metadata": {},
     "output_type": "execute_result"
    }
   ],
   "source": [
    "len(x_tr[0])"
   ]
  },
  {
   "cell_type": "code",
   "execution_count": 19,
   "id": "0164680b-ec36-4130-bed8-d05f60af0ce6",
   "metadata": {},
   "outputs": [
    {
     "data": {
      "text/plain": [
       "168"
      ]
     },
     "execution_count": 19,
     "metadata": {},
     "output_type": "execute_result"
    }
   ],
   "source": [
    "len(x_tr[6343])"
   ]
  },
  {
   "cell_type": "code",
   "execution_count": 20,
   "id": "bac9d770-c090-4ca7-b6ef-d500c0baaf0a",
   "metadata": {},
   "outputs": [],
   "source": [
    "x_tr = sequence.pad_sequences(x_tr, maxlen=length)\n",
    "x_te = sequence.pad_sequences(x_te, maxlen =length)"
   ]
  },
  {
   "cell_type": "code",
   "execution_count": 21,
   "id": "54df7c6b-b70b-4303-a978-b1e233a4683a",
   "metadata": {},
   "outputs": [
    {
     "data": {
      "text/plain": [
       "500"
      ]
     },
     "execution_count": 21,
     "metadata": {},
     "output_type": "execute_result"
    }
   ],
   "source": [
    "len(x_tr[0])"
   ]
  },
  {
   "cell_type": "code",
   "execution_count": 22,
   "id": "647a7b47-a84f-426f-ac19-a7e10da055ef",
   "metadata": {},
   "outputs": [
    {
     "data": {
      "text/plain": [
       "500"
      ]
     },
     "execution_count": 22,
     "metadata": {},
     "output_type": "execute_result"
    }
   ],
   "source": [
    "len(x_tr[6343])"
   ]
  },
  {
   "cell_type": "code",
   "execution_count": 23,
   "id": "cd53cc76-b3d2-4c31-b402-2b1b2846f0c8",
   "metadata": {},
   "outputs": [],
   "source": [
    "model = Sequential([\n",
    "    Embedding(features, 32),\n",
    "    SimpleRNN(32),\n",
    "    Dense(1,activation=\"sigmoid\")\n",
    "])"
   ]
  },
  {
   "cell_type": "code",
   "execution_count": 27,
   "id": "cdc7e060-d8af-490f-a7bb-5aec0553f3e9",
   "metadata": {},
   "outputs": [],
   "source": [
    "model.compile(optimizer='adam', loss=\"binary_crossentropy\", metrics=[\"accuracy\"])"
   ]
  },
  {
   "cell_type": "code",
   "execution_count": 28,
   "id": "3381b296-35d7-44e2-956e-e7b0643f8c46",
   "metadata": {},
   "outputs": [
    {
     "name": "stdout",
     "output_type": "stream",
     "text": [
      "Epoch 1/20\n",
      "\u001b[1m782/782\u001b[0m \u001b[32m━━━━━━━━━━━━━━━━━━━━\u001b[0m\u001b[37m\u001b[0m \u001b[1m219s\u001b[0m 275ms/step - accuracy: 0.5734 - loss: 0.6656 - val_accuracy: 0.7413 - val_loss: 0.5307\n",
      "Epoch 2/20\n",
      "\u001b[1m782/782\u001b[0m \u001b[32m━━━━━━━━━━━━━━━━━━━━\u001b[0m\u001b[37m\u001b[0m \u001b[1m222s\u001b[0m 284ms/step - accuracy: 0.7904 - loss: 0.4545 - val_accuracy: 0.7888 - val_loss: 0.4696\n",
      "Epoch 3/20\n",
      "\u001b[1m782/782\u001b[0m \u001b[32m━━━━━━━━━━━━━━━━━━━━\u001b[0m\u001b[37m\u001b[0m \u001b[1m263s\u001b[0m 284ms/step - accuracy: 0.8975 - loss: 0.2559 - val_accuracy: 0.7702 - val_loss: 0.6184\n",
      "Epoch 4/20\n",
      "\u001b[1m782/782\u001b[0m \u001b[32m━━━━━━━━━━━━━━━━━━━━\u001b[0m\u001b[37m\u001b[0m \u001b[1m253s\u001b[0m 272ms/step - accuracy: 0.9516 - loss: 0.1381 - val_accuracy: 0.7307 - val_loss: 0.7503\n",
      "Epoch 5/20\n",
      "\u001b[1m782/782\u001b[0m \u001b[32m━━━━━━━━━━━━━━━━━━━━\u001b[0m\u001b[37m\u001b[0m \u001b[1m217s\u001b[0m 277ms/step - accuracy: 0.9803 - loss: 0.0644 - val_accuracy: 0.7538 - val_loss: 0.8179\n",
      "Epoch 6/20\n",
      "\u001b[1m782/782\u001b[0m \u001b[32m━━━━━━━━━━━━━━━━━━━━\u001b[0m\u001b[37m\u001b[0m \u001b[1m303s\u001b[0m 330ms/step - accuracy: 0.9931 - loss: 0.0278 - val_accuracy: 0.7838 - val_loss: 0.8263\n",
      "Epoch 7/20\n",
      "\u001b[1m782/782\u001b[0m \u001b[32m━━━━━━━━━━━━━━━━━━━━\u001b[0m\u001b[37m\u001b[0m \u001b[1m214s\u001b[0m 268ms/step - accuracy: 0.9941 - loss: 0.0215 - val_accuracy: 0.7412 - val_loss: 1.0597\n",
      "Epoch 8/20\n",
      "\u001b[1m782/782\u001b[0m \u001b[32m━━━━━━━━━━━━━━━━━━━━\u001b[0m\u001b[37m\u001b[0m \u001b[1m245s\u001b[0m 313ms/step - accuracy: 0.9959 - loss: 0.0146 - val_accuracy: 0.7324 - val_loss: 1.1252\n",
      "Epoch 9/20\n",
      "\u001b[1m782/782\u001b[0m \u001b[32m━━━━━━━━━━━━━━━━━━━━\u001b[0m\u001b[37m\u001b[0m \u001b[1m306s\u001b[0m 369ms/step - accuracy: 0.9978 - loss: 0.0090 - val_accuracy: 0.7722 - val_loss: 1.1196\n",
      "Epoch 10/20\n",
      "\u001b[1m782/782\u001b[0m \u001b[32m━━━━━━━━━━━━━━━━━━━━\u001b[0m\u001b[37m\u001b[0m \u001b[1m161s\u001b[0m 164ms/step - accuracy: 0.9948 - loss: 0.0161 - val_accuracy: 0.7626 - val_loss: 1.1782\n",
      "Epoch 11/20\n",
      "\u001b[1m782/782\u001b[0m \u001b[32m━━━━━━━━━━━━━━━━━━━━\u001b[0m\u001b[37m\u001b[0m \u001b[1m198s\u001b[0m 235ms/step - accuracy: 0.9954 - loss: 0.0143 - val_accuracy: 0.7806 - val_loss: 1.0861\n",
      "Epoch 12/20\n",
      "\u001b[1m782/782\u001b[0m \u001b[32m━━━━━━━━━━━━━━━━━━━━\u001b[0m\u001b[37m\u001b[0m \u001b[1m115s\u001b[0m 147ms/step - accuracy: 0.9954 - loss: 0.0143 - val_accuracy: 0.7476 - val_loss: 1.2858\n",
      "Epoch 13/20\n",
      "\u001b[1m782/782\u001b[0m \u001b[32m━━━━━━━━━━━━━━━━━━━━\u001b[0m\u001b[37m\u001b[0m \u001b[1m125s\u001b[0m 160ms/step - accuracy: 0.9982 - loss: 0.0062 - val_accuracy: 0.7518 - val_loss: 1.3600\n",
      "Epoch 14/20\n",
      "\u001b[1m782/782\u001b[0m \u001b[32m━━━━━━━━━━━━━━━━━━━━\u001b[0m\u001b[37m\u001b[0m \u001b[1m129s\u001b[0m 165ms/step - accuracy: 1.0000 - loss: 0.0011 - val_accuracy: 0.7717 - val_loss: 1.3363\n",
      "Epoch 15/20\n",
      "\u001b[1m782/782\u001b[0m \u001b[32m━━━━━━━━━━━━━━━━━━━━\u001b[0m\u001b[37m\u001b[0m \u001b[1m114s\u001b[0m 146ms/step - accuracy: 0.9941 - loss: 0.0179 - val_accuracy: 0.7442 - val_loss: 1.3397\n",
      "Epoch 16/20\n",
      "\u001b[1m782/782\u001b[0m \u001b[32m━━━━━━━━━━━━━━━━━━━━\u001b[0m\u001b[37m\u001b[0m \u001b[1m116s\u001b[0m 148ms/step - accuracy: 0.9894 - loss: 0.0285 - val_accuracy: 0.7581 - val_loss: 1.3020\n",
      "Epoch 17/20\n",
      "\u001b[1m782/782\u001b[0m \u001b[32m━━━━━━━━━━━━━━━━━━━━\u001b[0m\u001b[37m\u001b[0m \u001b[1m110s\u001b[0m 141ms/step - accuracy: 0.9998 - loss: 0.0021 - val_accuracy: 0.7614 - val_loss: 1.3578\n",
      "Epoch 18/20\n",
      "\u001b[1m782/782\u001b[0m \u001b[32m━━━━━━━━━━━━━━━━━━━━\u001b[0m\u001b[37m\u001b[0m \u001b[1m114s\u001b[0m 146ms/step - accuracy: 1.0000 - loss: 3.5950e-04 - val_accuracy: 0.7612 - val_loss: 1.4166\n",
      "Epoch 19/20\n",
      "\u001b[1m782/782\u001b[0m \u001b[32m━━━━━━━━━━━━━━━━━━━━\u001b[0m\u001b[37m\u001b[0m \u001b[1m113s\u001b[0m 145ms/step - accuracy: 0.9996 - loss: 0.0013 - val_accuracy: 0.7422 - val_loss: 1.4180\n",
      "Epoch 20/20\n",
      "\u001b[1m782/782\u001b[0m \u001b[32m━━━━━━━━━━━━━━━━━━━━\u001b[0m\u001b[37m\u001b[0m \u001b[1m121s\u001b[0m 155ms/step - accuracy: 0.9839 - loss: 0.0484 - val_accuracy: 0.7397 - val_loss: 1.3168\n"
     ]
    },
    {
     "data": {
      "text/plain": [
       "<keras.src.callbacks.history.History at 0x231201103d0>"
      ]
     },
     "execution_count": 28,
     "metadata": {},
     "output_type": "execute_result"
    }
   ],
   "source": [
    "model.fit(x_tr, y_tr, epochs=20, batch_size=batch_size, validation_data=(x_te, y_te))"
   ]
  },
  {
   "cell_type": "code",
   "execution_count": null,
   "id": "f3167e0f-1835-4e75-b106-9880f42a1e00",
   "metadata": {},
   "outputs": [],
   "source": []
  }
 ],
 "metadata": {
  "kernelspec": {
   "display_name": "Python 3 (ipykernel)",
   "language": "python",
   "name": "python3"
  },
  "language_info": {
   "codemirror_mode": {
    "name": "ipython",
    "version": 3
   },
   "file_extension": ".py",
   "mimetype": "text/x-python",
   "name": "python",
   "nbconvert_exporter": "python",
   "pygments_lexer": "ipython3",
   "version": "3.11.9"
  }
 },
 "nbformat": 4,
 "nbformat_minor": 5
}
