{
 "cells": [
  {
   "cell_type": "code",
   "execution_count": 85,
   "id": "fcc7e99c-d201-40dd-be27-0eec0ef9763b",
   "metadata": {},
   "outputs": [],
   "source": [
    "import numpy as np\n",
    "import matplotlib.pyplot as plt\n",
    "\n",
    "from keras.datasets import fashion_mnist\n",
    "from tensorflow.keras.layers import Input, Dense, Flatten\n",
    "from tensorflow.keras.models import Sequential\n",
    "from tensorflow.keras.preprocessing.image import load_img, img_to_array"
   ]
  },
  {
   "cell_type": "code",
   "execution_count": 5,
   "id": "cac0da43-bc5c-47aa-8a87-97900b20b21a",
   "metadata": {},
   "outputs": [
    {
     "name": "stdout",
     "output_type": "stream",
     "text": [
      "Downloading data from https://storage.googleapis.com/tensorflow/tf-keras-datasets/train-labels-idx1-ubyte.gz\n",
      "\u001b[1m29515/29515\u001b[0m \u001b[32m━━━━━━━━━━━━━━━━━━━━\u001b[0m\u001b[37m\u001b[0m \u001b[1m0s\u001b[0m 1us/step\n",
      "Downloading data from https://storage.googleapis.com/tensorflow/tf-keras-datasets/train-images-idx3-ubyte.gz\n",
      "\u001b[1m26421880/26421880\u001b[0m \u001b[32m━━━━━━━━━━━━━━━━━━━━\u001b[0m\u001b[37m\u001b[0m \u001b[1m4s\u001b[0m 0us/step\n",
      "Downloading data from https://storage.googleapis.com/tensorflow/tf-keras-datasets/t10k-labels-idx1-ubyte.gz\n",
      "\u001b[1m5148/5148\u001b[0m \u001b[32m━━━━━━━━━━━━━━━━━━━━\u001b[0m\u001b[37m\u001b[0m \u001b[1m0s\u001b[0m 0s/step\n",
      "Downloading data from https://storage.googleapis.com/tensorflow/tf-keras-datasets/t10k-images-idx3-ubyte.gz\n",
      "\u001b[1m4422102/4422102\u001b[0m \u001b[32m━━━━━━━━━━━━━━━━━━━━\u001b[0m\u001b[37m\u001b[0m \u001b[1m0s\u001b[0m 0us/step\n"
     ]
    }
   ],
   "source": [
    "(train_img, train_lab),(test_img,test_lab) = fashion_mnist.load_data()"
   ]
  },
  {
   "cell_type": "code",
   "execution_count": 6,
   "id": "b4c87b47-fa5d-428b-825b-578e45a17179",
   "metadata": {},
   "outputs": [
    {
     "data": {
      "text/plain": [
       "(60000, 28, 28)"
      ]
     },
     "execution_count": 6,
     "metadata": {},
     "output_type": "execute_result"
    }
   ],
   "source": [
    "train_img.shape"
   ]
  },
  {
   "cell_type": "code",
   "execution_count": 11,
   "id": "8b3f45d9-9c28-4610-83e6-3adec8e6883b",
   "metadata": {},
   "outputs": [
    {
     "data": {
      "text/plain": [
       "array([[  0,   0,   0,   0,   0,   0,   0,   0,   0,   0,   8,  38,  67,\n",
       "         77,  69,  72,  59,  25,   5,   0,   0,   0,   0,   0,   0,   0,\n",
       "          0,   0],\n",
       "       [  0,   0,   0,   0,   0,   0,   0,   0,   0,  27, 131, 150, 103,\n",
       "        111, 116, 128, 145, 157, 185, 146,  54,   0,   0,   1,   0,   0,\n",
       "          0,   0],\n",
       "       [  0,   0,   0,   0,   0,   0,   0,   0,   0,  74, 111, 116, 172,\n",
       "        173, 158, 163, 138,  97,  82,  70,  74,   0,   0,   1,   0,   0,\n",
       "          0,   0],\n",
       "       [  0,   0,   0,   0,   0,   0,   1,   1,   0,  64, 103,  42, 109,\n",
       "        123,  82,  65,  43,  40,  50,  75,  65,   0,   0,   1,   0,   0,\n",
       "          0,   0],\n",
       "       [  0,   0,   0,   0,   0,   0,   0,   0,   0, 108, 202, 131, 123,\n",
       "         57,  33,  47,  52,  62,  64,  81,  47,   0,   0,   0,   0,   0,\n",
       "          0,   0],\n",
       "       [  0,   0,   0,   0,   0,   0,   0,   6,  48,  94, 106, 103,  69,\n",
       "         75,  74,  69,  72,  86,  75, 118,  67,   0,   0,   1,   0,   0,\n",
       "          0,   0],\n",
       "       [  0,   0,   0,   0,   0,   0,   0,  82,  75,  54,  67,  82, 103,\n",
       "         94,  92,  91,  91,  82,  50,  38,  75,  59,   0,   0,   0,   0,\n",
       "          0,   0],\n",
       "       [  0,   0,   0,   0,   0,   0,  47, 101,  60,  54,  72,  54,  50,\n",
       "         48,  50,  55,  50,  40,  48,  54,  42,  91,  37,   0,   0,   0,\n",
       "          0,   0],\n",
       "       [  0,   0,   0,   0,   0,   0,  60,  89,  79,  60,  74,  65,  69,\n",
       "         62,  60,  54,  50,  33,  32,  50,  54,  89,  60,   0,   0,   0,\n",
       "          0,   0],\n",
       "       [  0,   0,   0,   0,   0,  11,  97,  62,  92,  72,  59,  57,  55,\n",
       "         64,  64,  54,  25,  91,  99,  21,  60,  69,  72,   0,   0,   0,\n",
       "          0,   0],\n",
       "       [  0,   0,   0,   0,   0,  82, 108,  42, 116,  86,  52,  45,  40,\n",
       "         45,  59,  62,  23, 135, 168,  18,  75,  57,  75,   5,   0,   0,\n",
       "          0,   0],\n",
       "       [  0,   0,   0,   0,   0,  30,  82,  48, 148, 106,  65,  52,  52,\n",
       "         54,  57,  59,  65,  35,  21,  52,  84,  59,  81,  18,   0,   0,\n",
       "          0,   0],\n",
       "       [  0,   0,   0,   0,   0,  35,  84,  54, 160, 133,  79,  72,  70,\n",
       "         67,  62,  64,  69,  69,  67,  65, 118,  57,  75,  33,   0,   0,\n",
       "          0,   0],\n",
       "       [  0,   0,   0,   0,   0,  43,  79,  50, 175, 130,  84,  79,  64,\n",
       "         62,  62,  62,  60,  59,  48,  65, 153,  59,  79,  40,   0,   0,\n",
       "          0,   0],\n",
       "       [  0,   0,   0,   0,   0,  54,  75,  69, 130, 123,  97,  74,  70,\n",
       "         59,  60,  62,  60,  59,  59,  59,  86,  81,  70,  50,   0,   0,\n",
       "          0,   0],\n",
       "       [  0,   0,   0,   0,   0,  62,  72,  89,  60, 113, 108,  79,  74,\n",
       "         65,  70,  60,  57,  54,  67,  50,  65, 101,  60,  55,   0,   0,\n",
       "          0,   0],\n",
       "       [  0,   0,   0,   0,   0,  64,  72, 103,  50,  96, 114,  86,  86,\n",
       "         65,  64,  67,  69,  59,  67,  47,  54, 103,  64,  65,   0,   0,\n",
       "          0,   0],\n",
       "       [  0,   0,   0,   0,   0,  64,  65, 103,  30,  92, 126,  97,  84,\n",
       "         79,  62,  64,  59,  47,  59,  47,  47, 106,  64,  72,   0,   0,\n",
       "          0,   0],\n",
       "       [  0,   0,   0,   0,   0,  67,  74, 109,  18,  94, 124,  89,  91,\n",
       "         81,  69,  57,  60,  57,  72,  48,  37, 111,  59,  65,   0,   0,\n",
       "          0,   0],\n",
       "       [  0,   0,   0,   0,   0,  74,  62, 114,  20,  97, 109,  84,  86,\n",
       "         75,  60,  62,  57,  57,  64,  52,  27, 121,  64,  74,   0,   0,\n",
       "          0,   0],\n",
       "       [  0,   0,   0,   0,   0,  79,  72, 111,  37, 119,  87,  87,  82,\n",
       "         81,  74,  67,  60,  59,  67,  55,  45, 119,  69,  79,   0,   0,\n",
       "          0,   0],\n",
       "       [  0,   0,   0,   0,   0,  75,  72, 101,  59, 116,  77,  91,  91,\n",
       "         91,  84,  72,  75,  74,  59,  60,  91, 106,  69,  72,   0,   0,\n",
       "          0,   0],\n",
       "       [  0,   0,   0,   0,   0,  79,  65,  91,  89, 118,  84,  82,  79,\n",
       "         77,  75,  70,  65,  59,  52,  52,  52, 116,  69,  77,   0,   0,\n",
       "          0,   0],\n",
       "       [  0,   0,   0,   0,   0,  92,  79,  94, 103,  60,  62,  70,  70,\n",
       "         69,  62,  70,  67,  55,  43,  38,  59, 109,  75,  84,   0,   0,\n",
       "          0,   0],\n",
       "       [  0,   0,   0,   0,   0,  79,  70,  96,  81, 145,  81,  92,  97,\n",
       "         97,  94,  92,  89,  87,  86,  86,  82, 103,  69,  74,   0,   0,\n",
       "          0,   0],\n",
       "       [  0,   0,   0,   0,   0,  96, 118,  89,  69, 255, 104, 106, 106,\n",
       "        104, 108, 104, 103,  99,  94, 109,  70,  92, 114,  81,   0,   0,\n",
       "          0,   0],\n",
       "       [  0,   0,   0,   0,   0,  74, 113,  67,  45, 206,  75,  91,  92,\n",
       "         91,  91,  89,  86,  89,  87,  94,  47,  94, 124,  72,   0,   0,\n",
       "          0,   0],\n",
       "       [  0,   0,   0,   0,   0,  74, 111,  81,   0,   0,   0,   0,   0,\n",
       "          0,   0,   0,   0,   0,   0,   0,   0,  86, 118,  67,   0,   0,\n",
       "          0,   0]], dtype=uint8)"
      ]
     },
     "execution_count": 11,
     "metadata": {},
     "output_type": "execute_result"
    }
   ],
   "source": [
    "train_img[54]"
   ]
  },
  {
   "cell_type": "code",
   "execution_count": 12,
   "id": "22a7d72d-1cfd-4a8e-9bbf-625e8c87310c",
   "metadata": {},
   "outputs": [
    {
     "data": {
      "text/plain": [
       "np.uint8(2)"
      ]
     },
     "execution_count": 12,
     "metadata": {},
     "output_type": "execute_result"
    }
   ],
   "source": [
    "train_lab[54]"
   ]
  },
  {
   "cell_type": "code",
   "execution_count": 14,
   "id": "02bdfc8b-ab47-44a6-afe8-da3a77624324",
   "metadata": {},
   "outputs": [
    {
     "data": {
      "image/png": "[encoded data removed]",
      "text/plain": [
       "<Figure size 300x300 with 1 Axes>"
      ]
     },
     "metadata": {},
     "output_type": "display_data"
    }
   ],
   "source": [
    "plt.figure(figsize=(3,3))\n",
    "plt.imshow(train_img[34])\n",
    "plt.show()"
   ]
  },
  {
   "cell_type": "code",
   "execution_count": 15,
   "id": "8f903292-4b20-48ca-8f4f-c72c91d11172",
   "metadata": {},
   "outputs": [],
   "source": [
    "classes = [\"T-shirt/top\",\"Trouser\",\"Pullover\",\"Dress\",\"Coat\",\"Sandal\",\"Shirt\",\"Sneaker\",\"Bag\",\"Ankle boot\"]"
   ]
  },
  {
   "cell_type": "code",
   "execution_count": 21,
   "id": "1bcacc9b-95e8-49b6-840c-ca6d168d0878",
   "metadata": {},
   "outputs": [
    {
     "name": "stdout",
     "output_type": "stream",
     "text": [
      "(60000,)\n"
     ]
    }
   ],
   "source": [
    "print(train_lab.shape)"
   ]
  },
  {
   "cell_type": "code",
   "execution_count": 73,
   "id": "523346cf-d703-4a6f-85bb-fc3260c90926",
   "metadata": {},
   "outputs": [
    {
     "data": {
      "image/png": "[encoded data removed]",
      "text/plain": [
       "<Figure size 300x300 with 1 Axes>"
      ]
     },
     "metadata": {},
     "output_type": "display_data"
    },
    {
     "data": {
      "image/png": "[encoded data removed]",
      "text/plain": [
       "<Figure size 300x300 with 1 Axes>"
      ]
     },
     "metadata": {},
     "output_type": "display_data"
    },
    {
     "data": {
      "image/png": "[encoded data removed]",
      "text/plain": [
       "<Figure size 300x300 with 1 Axes>"
      ]
     },
     "metadata": {},
     "output_type": "display_data"
    },
    {
     "data": {
      "image/png": "[encoded data removed]",
      "text/plain": [
       "<Figure size 300x300 with 1 Axes>"
      ]
     },
     "metadata": {},
     "output_type": "display_data"
    },
    {
     "data": {
      "image/png": "[encoded data removed]",
      "text/plain": [
       "<Figure size 300x300 with 1 Axes>"
      ]
     },
     "metadata": {},
     "output_type": "display_data"
    }
   ],
   "source": [
    "for i in range(5):\n",
    "    ind = np.random.randint(60000)\n",
    "    plt.figure(figsize=(3,3))\n",
    "    plt.imshow(train_img[ind])\n",
    "    plt.title(classes[train_lab[ind]])\n",
    "    plt.show()"
   ]
  },
  {
   "cell_type": "code",
   "execution_count": 51,
   "id": "47ce3d0c-e480-43f6-86a5-2a409c8a4988",
   "metadata": {},
   "outputs": [
    {
     "data": {
      "text/plain": [
       "np.float64(0.0)"
      ]
     },
     "execution_count": 51,
     "metadata": {},
     "output_type": "execute_result"
    }
   ],
   "source": [
    "train_img.min()"
   ]
  },
  {
   "cell_type": "code",
   "execution_count": 52,
   "id": "fc508ca0-ea52-4222-8e05-19f97f8bc4ba",
   "metadata": {},
   "outputs": [
    {
     "data": {
      "text/plain": [
       "np.float64(1.0)"
      ]
     },
     "execution_count": 52,
     "metadata": {},
     "output_type": "execute_result"
    }
   ],
   "source": [
    "train_img.max()"
   ]
  },
  {
   "cell_type": "code",
   "execution_count": 53,
   "id": "ff2425d6-591f-4f58-8fb1-95cd52494b31",
   "metadata": {},
   "outputs": [
    {
     "data": {
      "text/plain": [
       "array([[0.00000000e+00, 0.00000000e+00, 0.00000000e+00, 0.00000000e+00,\n",
       "        0.00000000e+00, 0.00000000e+00, 0.00000000e+00, 0.00000000e+00,\n",
       "        0.00000000e+00, 0.00000000e+00, 1.23029604e-04, 5.84390619e-04,\n",
       "        1.03037293e-03, 1.18415994e-03, 1.06113033e-03, 1.10726644e-03,\n",
       "        9.07343329e-04, 3.84467512e-04, 7.68935025e-05, 0.00000000e+00,\n",
       "        0.00000000e+00, 0.00000000e+00, 0.00000000e+00, 0.00000000e+00,\n",
       "        0.00000000e+00, 0.00000000e+00, 0.00000000e+00, 0.00000000e+00],\n",
       "       [0.00000000e+00, 0.00000000e+00, 0.00000000e+00, 0.00000000e+00,\n",
       "        0.00000000e+00, 0.00000000e+00, 0.00000000e+00, 0.00000000e+00,\n",
       "        0.00000000e+00, 4.15224913e-04, 2.01460977e-03, 2.30680507e-03,\n",
       "        1.58400615e-03, 1.70703576e-03, 1.78392926e-03, 1.96847366e-03,\n",
       "        2.22991157e-03, 2.41445598e-03, 2.84505959e-03, 2.24529027e-03,\n",
       "        8.30449827e-04, 0.00000000e+00, 0.00000000e+00, 1.53787005e-05,\n",
       "        0.00000000e+00, 0.00000000e+00, 0.00000000e+00, 0.00000000e+00],\n",
       "       [0.00000000e+00, 0.00000000e+00, 0.00000000e+00, 0.00000000e+00,\n",
       "        0.00000000e+00, 0.00000000e+00, 0.00000000e+00, 0.00000000e+00,\n",
       "        0.00000000e+00, 1.13802384e-03, 1.70703576e-03, 1.78392926e-03,\n",
       "        2.64513649e-03, 2.66051519e-03, 2.42983468e-03, 2.50672818e-03,\n",
       "        2.12226067e-03, 1.49173395e-03, 1.26105344e-03, 1.07650903e-03,\n",
       "        1.13802384e-03, 0.00000000e+00, 0.00000000e+00, 1.53787005e-05,\n",
       "        0.00000000e+00, 0.00000000e+00, 0.00000000e+00, 0.00000000e+00],\n",
       "       [0.00000000e+00, 0.00000000e+00, 0.00000000e+00, 0.00000000e+00,\n",
       "        0.00000000e+00, 0.00000000e+00, 1.53787005e-05, 1.53787005e-05,\n",
       "        0.00000000e+00, 9.84236832e-04, 1.58400615e-03, 6.45905421e-04,\n",
       "        1.67627835e-03, 1.89158016e-03, 1.26105344e-03, 9.99615532e-04,\n",
       "        6.61284121e-04, 6.15148020e-04, 7.68935025e-04, 1.15340254e-03,\n",
       "        9.99615532e-04, 0.00000000e+00, 0.00000000e+00, 1.53787005e-05,\n",
       "        0.00000000e+00, 0.00000000e+00, 0.00000000e+00, 0.00000000e+00],\n",
       "       [0.00000000e+00, 0.00000000e+00, 0.00000000e+00, 0.00000000e+00,\n",
       "        0.00000000e+00, 0.00000000e+00, 0.00000000e+00, 0.00000000e+00,\n",
       "        0.00000000e+00, 1.66089965e-03, 3.10649750e-03, 2.01460977e-03,\n",
       "        1.89158016e-03, 8.76585928e-04, 5.07497116e-04, 7.22798923e-04,\n",
       "        7.99692426e-04, 9.53479431e-04, 9.84236832e-04, 1.24567474e-03,\n",
       "        7.22798923e-04, 0.00000000e+00, 0.00000000e+00, 0.00000000e+00,\n",
       "        0.00000000e+00, 0.00000000e+00, 0.00000000e+00, 0.00000000e+00],\n",
       "       [0.00000000e+00, 0.00000000e+00, 0.00000000e+00, 0.00000000e+00,\n",
       "        0.00000000e+00, 0.00000000e+00, 0.00000000e+00, 9.22722030e-05,\n",
       "        7.38177624e-04, 1.44559785e-03, 1.63014225e-03, 1.58400615e-03,\n",
       "        1.06113033e-03, 1.15340254e-03, 1.13802384e-03, 1.06113033e-03,\n",
       "        1.10726644e-03, 1.32256824e-03, 1.15340254e-03, 1.81468666e-03,\n",
       "        1.03037293e-03, 0.00000000e+00, 0.00000000e+00, 1.53787005e-05,\n",
       "        0.00000000e+00, 0.00000000e+00, 0.00000000e+00, 0.00000000e+00],\n",
       "       [0.00000000e+00, 0.00000000e+00, 0.00000000e+00, 0.00000000e+00,\n",
       "        0.00000000e+00, 0.00000000e+00, 0.00000000e+00, 1.26105344e-03,\n",
       "        1.15340254e-03, 8.30449827e-04, 1.03037293e-03, 1.26105344e-03,\n",
       "        1.58400615e-03, 1.44559785e-03, 1.41484045e-03, 1.39946175e-03,\n",
       "        1.39946175e-03, 1.26105344e-03, 7.68935025e-04, 5.84390619e-04,\n",
       "        1.15340254e-03, 9.07343329e-04, 0.00000000e+00, 0.00000000e+00,\n",
       "        0.00000000e+00, 0.00000000e+00, 0.00000000e+00, 0.00000000e+00],\n",
       "       [0.00000000e+00, 0.00000000e+00, 0.00000000e+00, 0.00000000e+00,\n",
       "        0.00000000e+00, 0.00000000e+00, 7.22798923e-04, 1.55324875e-03,\n",
       "        9.22722030e-04, 8.30449827e-04, 1.10726644e-03, 8.30449827e-04,\n",
       "        7.68935025e-04, 7.38177624e-04, 7.68935025e-04, 8.45828527e-04,\n",
       "        7.68935025e-04, 6.15148020e-04, 7.38177624e-04, 8.30449827e-04,\n",
       "        6.45905421e-04, 1.39946175e-03, 5.69011918e-04, 0.00000000e+00,\n",
       "        0.00000000e+00, 0.00000000e+00, 0.00000000e+00, 0.00000000e+00],\n",
       "       [0.00000000e+00, 0.00000000e+00, 0.00000000e+00, 0.00000000e+00,\n",
       "        0.00000000e+00, 0.00000000e+00, 9.22722030e-04, 1.36870434e-03,\n",
       "        1.21491734e-03, 9.22722030e-04, 1.13802384e-03, 9.99615532e-04,\n",
       "        1.06113033e-03, 9.53479431e-04, 9.22722030e-04, 8.30449827e-04,\n",
       "        7.68935025e-04, 5.07497116e-04, 4.92118416e-04, 7.68935025e-04,\n",
       "        8.30449827e-04, 1.36870434e-03, 9.22722030e-04, 0.00000000e+00,\n",
       "        0.00000000e+00, 0.00000000e+00, 0.00000000e+00, 0.00000000e+00],\n",
       "       [0.00000000e+00, 0.00000000e+00, 0.00000000e+00, 0.00000000e+00,\n",
       "        0.00000000e+00, 1.69165705e-04, 1.49173395e-03, 9.53479431e-04,\n",
       "        1.41484045e-03, 1.10726644e-03, 9.07343329e-04, 8.76585928e-04,\n",
       "        8.45828527e-04, 9.84236832e-04, 9.84236832e-04, 8.30449827e-04,\n",
       "        3.84467512e-04, 1.39946175e-03, 1.52249135e-03, 3.22952710e-04,\n",
       "        9.22722030e-04, 1.06113033e-03, 1.10726644e-03, 0.00000000e+00,\n",
       "        0.00000000e+00, 0.00000000e+00, 0.00000000e+00, 0.00000000e+00],\n",
       "       [0.00000000e+00, 0.00000000e+00, 0.00000000e+00, 0.00000000e+00,\n",
       "        0.00000000e+00, 1.26105344e-03, 1.66089965e-03, 6.45905421e-04,\n",
       "        1.78392926e-03, 1.32256824e-03, 7.99692426e-04, 6.92041522e-04,\n",
       "        6.15148020e-04, 6.92041522e-04, 9.07343329e-04, 9.53479431e-04,\n",
       "        3.53710111e-04, 2.07612457e-03, 2.58362168e-03, 2.76816609e-04,\n",
       "        1.15340254e-03, 8.76585928e-04, 1.15340254e-03, 7.68935025e-05,\n",
       "        0.00000000e+00, 0.00000000e+00, 0.00000000e+00, 0.00000000e+00],\n",
       "       [0.00000000e+00, 0.00000000e+00, 0.00000000e+00, 0.00000000e+00,\n",
       "        0.00000000e+00, 4.61361015e-04, 1.26105344e-03, 7.38177624e-04,\n",
       "        2.27604767e-03, 1.63014225e-03, 9.99615532e-04, 7.99692426e-04,\n",
       "        7.99692426e-04, 8.30449827e-04, 8.76585928e-04, 9.07343329e-04,\n",
       "        9.99615532e-04, 5.38254517e-04, 3.22952710e-04, 7.99692426e-04,\n",
       "        1.29181084e-03, 9.07343329e-04, 1.24567474e-03, 2.76816609e-04,\n",
       "        0.00000000e+00, 0.00000000e+00, 0.00000000e+00, 0.00000000e+00],\n",
       "       [0.00000000e+00, 0.00000000e+00, 0.00000000e+00, 0.00000000e+00,\n",
       "        0.00000000e+00, 5.38254517e-04, 1.29181084e-03, 8.30449827e-04,\n",
       "        2.46059208e-03, 2.04536717e-03, 1.21491734e-03, 1.10726644e-03,\n",
       "        1.07650903e-03, 1.03037293e-03, 9.53479431e-04, 9.84236832e-04,\n",
       "        1.06113033e-03, 1.06113033e-03, 1.03037293e-03, 9.99615532e-04,\n",
       "        1.81468666e-03, 8.76585928e-04, 1.15340254e-03, 5.07497116e-04,\n",
       "        0.00000000e+00, 0.00000000e+00, 0.00000000e+00, 0.00000000e+00],\n",
       "       [0.00000000e+00, 0.00000000e+00, 0.00000000e+00, 0.00000000e+00,\n",
       "        0.00000000e+00, 6.61284121e-04, 1.21491734e-03, 7.68935025e-04,\n",
       "        2.69127259e-03, 1.99923106e-03, 1.29181084e-03, 1.21491734e-03,\n",
       "        9.84236832e-04, 9.53479431e-04, 9.53479431e-04, 9.53479431e-04,\n",
       "        9.22722030e-04, 9.07343329e-04, 7.38177624e-04, 9.99615532e-04,\n",
       "        2.35294118e-03, 9.07343329e-04, 1.21491734e-03, 6.15148020e-04,\n",
       "        0.00000000e+00, 0.00000000e+00, 0.00000000e+00, 0.00000000e+00],\n",
       "       [0.00000000e+00, 0.00000000e+00, 0.00000000e+00, 0.00000000e+00,\n",
       "        0.00000000e+00, 8.30449827e-04, 1.15340254e-03, 1.06113033e-03,\n",
       "        1.99923106e-03, 1.89158016e-03, 1.49173395e-03, 1.13802384e-03,\n",
       "        1.07650903e-03, 9.07343329e-04, 9.22722030e-04, 9.53479431e-04,\n",
       "        9.22722030e-04, 9.07343329e-04, 9.07343329e-04, 9.07343329e-04,\n",
       "        1.32256824e-03, 1.24567474e-03, 1.07650903e-03, 7.68935025e-04,\n",
       "        0.00000000e+00, 0.00000000e+00, 0.00000000e+00, 0.00000000e+00],\n",
       "       [0.00000000e+00, 0.00000000e+00, 0.00000000e+00, 0.00000000e+00,\n",
       "        0.00000000e+00, 9.53479431e-04, 1.10726644e-03, 1.36870434e-03,\n",
       "        9.22722030e-04, 1.73779316e-03, 1.66089965e-03, 1.21491734e-03,\n",
       "        1.13802384e-03, 9.99615532e-04, 1.07650903e-03, 9.22722030e-04,\n",
       "        8.76585928e-04, 8.30449827e-04, 1.03037293e-03, 7.68935025e-04,\n",
       "        9.99615532e-04, 1.55324875e-03, 9.22722030e-04, 8.45828527e-04,\n",
       "        0.00000000e+00, 0.00000000e+00, 0.00000000e+00, 0.00000000e+00],\n",
       "       [0.00000000e+00, 0.00000000e+00, 0.00000000e+00, 0.00000000e+00,\n",
       "        0.00000000e+00, 9.84236832e-04, 1.10726644e-03, 1.58400615e-03,\n",
       "        7.68935025e-04, 1.47635525e-03, 1.75317186e-03, 1.32256824e-03,\n",
       "        1.32256824e-03, 9.99615532e-04, 9.84236832e-04, 1.03037293e-03,\n",
       "        1.06113033e-03, 9.07343329e-04, 1.03037293e-03, 7.22798923e-04,\n",
       "        8.30449827e-04, 1.58400615e-03, 9.84236832e-04, 9.99615532e-04,\n",
       "        0.00000000e+00, 0.00000000e+00, 0.00000000e+00, 0.00000000e+00],\n",
       "       [0.00000000e+00, 0.00000000e+00, 0.00000000e+00, 0.00000000e+00,\n",
       "        0.00000000e+00, 9.84236832e-04, 9.99615532e-04, 1.58400615e-03,\n",
       "        4.61361015e-04, 1.41484045e-03, 1.93771626e-03, 1.49173395e-03,\n",
       "        1.29181084e-03, 1.21491734e-03, 9.53479431e-04, 9.84236832e-04,\n",
       "        9.07343329e-04, 7.22798923e-04, 9.07343329e-04, 7.22798923e-04,\n",
       "        7.22798923e-04, 1.63014225e-03, 9.84236832e-04, 1.10726644e-03,\n",
       "        0.00000000e+00, 0.00000000e+00, 0.00000000e+00, 0.00000000e+00],\n",
       "       [0.00000000e+00, 0.00000000e+00, 0.00000000e+00, 0.00000000e+00,\n",
       "        0.00000000e+00, 1.03037293e-03, 1.13802384e-03, 1.67627835e-03,\n",
       "        2.76816609e-04, 1.44559785e-03, 1.90695886e-03, 1.36870434e-03,\n",
       "        1.39946175e-03, 1.24567474e-03, 1.06113033e-03, 8.76585928e-04,\n",
       "        9.22722030e-04, 8.76585928e-04, 1.10726644e-03, 7.38177624e-04,\n",
       "        5.69011918e-04, 1.70703576e-03, 9.07343329e-04, 9.99615532e-04,\n",
       "        0.00000000e+00, 0.00000000e+00, 0.00000000e+00, 0.00000000e+00],\n",
       "       [0.00000000e+00, 0.00000000e+00, 0.00000000e+00, 0.00000000e+00,\n",
       "        0.00000000e+00, 1.13802384e-03, 9.53479431e-04, 1.75317186e-03,\n",
       "        3.07574010e-04, 1.49173395e-03, 1.67627835e-03, 1.29181084e-03,\n",
       "        1.32256824e-03, 1.15340254e-03, 9.22722030e-04, 9.53479431e-04,\n",
       "        8.76585928e-04, 8.76585928e-04, 9.84236832e-04, 7.99692426e-04,\n",
       "        4.15224913e-04, 1.86082276e-03, 9.84236832e-04, 1.13802384e-03,\n",
       "        0.00000000e+00, 0.00000000e+00, 0.00000000e+00, 0.00000000e+00],\n",
       "       [0.00000000e+00, 0.00000000e+00, 0.00000000e+00, 0.00000000e+00,\n",
       "        0.00000000e+00, 1.21491734e-03, 1.10726644e-03, 1.70703576e-03,\n",
       "        5.69011918e-04, 1.83006536e-03, 1.33794694e-03, 1.33794694e-03,\n",
       "        1.26105344e-03, 1.24567474e-03, 1.13802384e-03, 1.03037293e-03,\n",
       "        9.22722030e-04, 9.07343329e-04, 1.03037293e-03, 8.45828527e-04,\n",
       "        6.92041522e-04, 1.83006536e-03, 1.06113033e-03, 1.21491734e-03,\n",
       "        0.00000000e+00, 0.00000000e+00, 0.00000000e+00, 0.00000000e+00],\n",
       "       [0.00000000e+00, 0.00000000e+00, 0.00000000e+00, 0.00000000e+00,\n",
       "        0.00000000e+00, 1.15340254e-03, 1.10726644e-03, 1.55324875e-03,\n",
       "        9.07343329e-04, 1.78392926e-03, 1.18415994e-03, 1.39946175e-03,\n",
       "        1.39946175e-03, 1.39946175e-03, 1.29181084e-03, 1.10726644e-03,\n",
       "        1.15340254e-03, 1.13802384e-03, 9.07343329e-04, 9.22722030e-04,\n",
       "        1.39946175e-03, 1.63014225e-03, 1.06113033e-03, 1.10726644e-03,\n",
       "        0.00000000e+00, 0.00000000e+00, 0.00000000e+00, 0.00000000e+00],\n",
       "       [0.00000000e+00, 0.00000000e+00, 0.00000000e+00, 0.00000000e+00,\n",
       "        0.00000000e+00, 1.21491734e-03, 9.99615532e-04, 1.39946175e-03,\n",
       "        1.36870434e-03, 1.81468666e-03, 1.29181084e-03, 1.26105344e-03,\n",
       "        1.21491734e-03, 1.18415994e-03, 1.15340254e-03, 1.07650903e-03,\n",
       "        9.99615532e-04, 9.07343329e-04, 7.99692426e-04, 7.99692426e-04,\n",
       "        7.99692426e-04, 1.78392926e-03, 1.06113033e-03, 1.18415994e-03,\n",
       "        0.00000000e+00, 0.00000000e+00, 0.00000000e+00, 0.00000000e+00],\n",
       "       [0.00000000e+00, 0.00000000e+00, 0.00000000e+00, 0.00000000e+00,\n",
       "        0.00000000e+00, 1.41484045e-03, 1.21491734e-03, 1.44559785e-03,\n",
       "        1.58400615e-03, 9.22722030e-04, 9.53479431e-04, 1.07650903e-03,\n",
       "        1.07650903e-03, 1.06113033e-03, 9.53479431e-04, 1.07650903e-03,\n",
       "        1.03037293e-03, 8.45828527e-04, 6.61284121e-04, 5.84390619e-04,\n",
       "        9.07343329e-04, 1.67627835e-03, 1.15340254e-03, 1.29181084e-03,\n",
       "        0.00000000e+00, 0.00000000e+00, 0.00000000e+00, 0.00000000e+00],\n",
       "       [0.00000000e+00, 0.00000000e+00, 0.00000000e+00, 0.00000000e+00,\n",
       "        0.00000000e+00, 1.21491734e-03, 1.07650903e-03, 1.47635525e-03,\n",
       "        1.24567474e-03, 2.22991157e-03, 1.24567474e-03, 1.41484045e-03,\n",
       "        1.49173395e-03, 1.49173395e-03, 1.44559785e-03, 1.41484045e-03,\n",
       "        1.36870434e-03, 1.33794694e-03, 1.32256824e-03, 1.32256824e-03,\n",
       "        1.26105344e-03, 1.58400615e-03, 1.06113033e-03, 1.13802384e-03,\n",
       "        0.00000000e+00, 0.00000000e+00, 0.00000000e+00, 0.00000000e+00],\n",
       "       [0.00000000e+00, 0.00000000e+00, 0.00000000e+00, 0.00000000e+00,\n",
       "        0.00000000e+00, 1.47635525e-03, 1.81468666e-03, 1.36870434e-03,\n",
       "        1.06113033e-03, 3.92156863e-03, 1.59938485e-03, 1.63014225e-03,\n",
       "        1.63014225e-03, 1.59938485e-03, 1.66089965e-03, 1.59938485e-03,\n",
       "        1.58400615e-03, 1.52249135e-03, 1.44559785e-03, 1.67627835e-03,\n",
       "        1.07650903e-03, 1.41484045e-03, 1.75317186e-03, 1.24567474e-03,\n",
       "        0.00000000e+00, 0.00000000e+00, 0.00000000e+00, 0.00000000e+00],\n",
       "       [0.00000000e+00, 0.00000000e+00, 0.00000000e+00, 0.00000000e+00,\n",
       "        0.00000000e+00, 1.13802384e-03, 1.73779316e-03, 1.03037293e-03,\n",
       "        6.92041522e-04, 3.16801230e-03, 1.15340254e-03, 1.39946175e-03,\n",
       "        1.41484045e-03, 1.39946175e-03, 1.39946175e-03, 1.36870434e-03,\n",
       "        1.32256824e-03, 1.36870434e-03, 1.33794694e-03, 1.44559785e-03,\n",
       "        7.22798923e-04, 1.44559785e-03, 1.90695886e-03, 1.10726644e-03,\n",
       "        0.00000000e+00, 0.00000000e+00, 0.00000000e+00, 0.00000000e+00],\n",
       "       [0.00000000e+00, 0.00000000e+00, 0.00000000e+00, 0.00000000e+00,\n",
       "        0.00000000e+00, 1.13802384e-03, 1.70703576e-03, 1.24567474e-03,\n",
       "        0.00000000e+00, 0.00000000e+00, 0.00000000e+00, 0.00000000e+00,\n",
       "        0.00000000e+00, 0.00000000e+00, 0.00000000e+00, 0.00000000e+00,\n",
       "        0.00000000e+00, 0.00000000e+00, 0.00000000e+00, 0.00000000e+00,\n",
       "        0.00000000e+00, 1.32256824e-03, 1.81468666e-03, 1.03037293e-03,\n",
       "        0.00000000e+00, 0.00000000e+00, 0.00000000e+00, 0.00000000e+00]])"
      ]
     },
     "execution_count": 53,
     "metadata": {},
     "output_type": "execute_result"
    }
   ],
   "source": [
    "train_img[54]/255"
   ]
  },
  {
   "cell_type": "code",
   "execution_count": 54,
   "id": "d21e4711-0475-40e5-bcb2-b5bdfd36d411",
   "metadata": {},
   "outputs": [],
   "source": [
    "train_img, test_img = train_img/255, test_img/255"
   ]
  },
  {
   "cell_type": "code",
   "execution_count": 55,
   "id": "ea7b1b47-6560-4106-80a5-b8dafa7580e8",
   "metadata": {},
   "outputs": [
    {
     "data": {
      "text/plain": [
       "array([[0.00000000e+00, 0.00000000e+00, 0.00000000e+00, 0.00000000e+00,\n",
       "        0.00000000e+00, 0.00000000e+00, 0.00000000e+00, 0.00000000e+00,\n",
       "        0.00000000e+00, 0.00000000e+00, 0.00000000e+00, 0.00000000e+00,\n",
       "        0.00000000e+00, 0.00000000e+00, 0.00000000e+00, 0.00000000e+00,\n",
       "        0.00000000e+00, 0.00000000e+00, 0.00000000e+00, 0.00000000e+00,\n",
       "        0.00000000e+00, 0.00000000e+00, 0.00000000e+00, 0.00000000e+00,\n",
       "        0.00000000e+00, 0.00000000e+00, 0.00000000e+00, 0.00000000e+00],\n",
       "       [0.00000000e+00, 0.00000000e+00, 0.00000000e+00, 0.00000000e+00,\n",
       "        0.00000000e+00, 0.00000000e+00, 0.00000000e+00, 0.00000000e+00,\n",
       "        0.00000000e+00, 0.00000000e+00, 0.00000000e+00, 0.00000000e+00,\n",
       "        0.00000000e+00, 0.00000000e+00, 0.00000000e+00, 0.00000000e+00,\n",
       "        0.00000000e+00, 0.00000000e+00, 0.00000000e+00, 0.00000000e+00,\n",
       "        0.00000000e+00, 0.00000000e+00, 0.00000000e+00, 0.00000000e+00,\n",
       "        0.00000000e+00, 0.00000000e+00, 0.00000000e+00, 0.00000000e+00],\n",
       "       [0.00000000e+00, 0.00000000e+00, 0.00000000e+00, 0.00000000e+00,\n",
       "        0.00000000e+00, 0.00000000e+00, 0.00000000e+00, 0.00000000e+00,\n",
       "        0.00000000e+00, 0.00000000e+00, 0.00000000e+00, 0.00000000e+00,\n",
       "        0.00000000e+00, 0.00000000e+00, 0.00000000e+00, 0.00000000e+00,\n",
       "        0.00000000e+00, 0.00000000e+00, 0.00000000e+00, 0.00000000e+00,\n",
       "        0.00000000e+00, 0.00000000e+00, 0.00000000e+00, 0.00000000e+00,\n",
       "        0.00000000e+00, 0.00000000e+00, 0.00000000e+00, 0.00000000e+00],\n",
       "       [0.00000000e+00, 0.00000000e+00, 0.00000000e+00, 0.00000000e+00,\n",
       "        0.00000000e+00, 0.00000000e+00, 0.00000000e+00, 0.00000000e+00,\n",
       "        0.00000000e+00, 0.00000000e+00, 0.00000000e+00, 0.00000000e+00,\n",
       "        0.00000000e+00, 0.00000000e+00, 0.00000000e+00, 0.00000000e+00,\n",
       "        0.00000000e+00, 0.00000000e+00, 0.00000000e+00, 0.00000000e+00,\n",
       "        0.00000000e+00, 0.00000000e+00, 0.00000000e+00, 0.00000000e+00,\n",
       "        0.00000000e+00, 0.00000000e+00, 0.00000000e+00, 0.00000000e+00],\n",
       "       [0.00000000e+00, 0.00000000e+00, 0.00000000e+00, 0.00000000e+00,\n",
       "        0.00000000e+00, 0.00000000e+00, 0.00000000e+00, 0.00000000e+00,\n",
       "        0.00000000e+00, 0.00000000e+00, 0.00000000e+00, 0.00000000e+00,\n",
       "        0.00000000e+00, 0.00000000e+00, 0.00000000e+00, 0.00000000e+00,\n",
       "        0.00000000e+00, 0.00000000e+00, 0.00000000e+00, 0.00000000e+00,\n",
       "        0.00000000e+00, 0.00000000e+00, 0.00000000e+00, 0.00000000e+00,\n",
       "        0.00000000e+00, 0.00000000e+00, 0.00000000e+00, 0.00000000e+00],\n",
       "       [0.00000000e+00, 0.00000000e+00, 0.00000000e+00, 0.00000000e+00,\n",
       "        0.00000000e+00, 0.00000000e+00, 0.00000000e+00, 0.00000000e+00,\n",
       "        0.00000000e+00, 0.00000000e+00, 0.00000000e+00, 0.00000000e+00,\n",
       "        0.00000000e+00, 0.00000000e+00, 0.00000000e+00, 0.00000000e+00,\n",
       "        0.00000000e+00, 0.00000000e+00, 0.00000000e+00, 0.00000000e+00,\n",
       "        0.00000000e+00, 0.00000000e+00, 0.00000000e+00, 0.00000000e+00,\n",
       "        0.00000000e+00, 0.00000000e+00, 0.00000000e+00, 0.00000000e+00],\n",
       "       [0.00000000e+00, 0.00000000e+00, 0.00000000e+00, 0.00000000e+00,\n",
       "        0.00000000e+00, 0.00000000e+00, 0.00000000e+00, 0.00000000e+00,\n",
       "        0.00000000e+00, 0.00000000e+00, 0.00000000e+00, 0.00000000e+00,\n",
       "        0.00000000e+00, 0.00000000e+00, 0.00000000e+00, 0.00000000e+00,\n",
       "        0.00000000e+00, 0.00000000e+00, 0.00000000e+00, 0.00000000e+00,\n",
       "        0.00000000e+00, 0.00000000e+00, 0.00000000e+00, 0.00000000e+00,\n",
       "        0.00000000e+00, 0.00000000e+00, 0.00000000e+00, 0.00000000e+00],\n",
       "       [0.00000000e+00, 3.07574010e-05, 0.00000000e+00, 0.00000000e+00,\n",
       "        4.45982314e-04, 2.46059208e-04, 5.07497116e-04, 4.15224913e-04,\n",
       "        3.69088812e-04, 3.69088812e-04, 4.30603614e-04, 4.45982314e-04,\n",
       "        6.15148020e-04, 4.92118416e-04, 4.15224913e-04, 2.15301807e-04,\n",
       "        1.23029604e-04, 2.15301807e-04, 3.22952710e-04, 4.30603614e-04,\n",
       "        5.07497116e-04, 4.92118416e-04, 5.07497116e-04, 7.99692426e-04,\n",
       "        5.38254517e-04, 0.00000000e+00, 0.00000000e+00, 0.00000000e+00],\n",
       "       [9.22722030e-05, 0.00000000e+00, 8.61207228e-04, 2.64513649e-03,\n",
       "        2.66051519e-03, 1.38408304e-03, 1.59938485e-03, 1.32256824e-03,\n",
       "        9.68858131e-04, 9.07343329e-04, 8.61207228e-04, 9.53479431e-04,\n",
       "        1.35332564e-03, 1.18415994e-03, 1.38408304e-03, 1.38408304e-03,\n",
       "        1.35332564e-03, 1.44559785e-03, 1.13802384e-03, 1.09188774e-03,\n",
       "        1.32256824e-03, 1.07650903e-03, 1.06113033e-03, 7.84313725e-04,\n",
       "        9.99615532e-04, 1.52249135e-03, 2.76816609e-04, 0.00000000e+00],\n",
       "       [0.00000000e+00, 1.18415994e-03, 3.47558631e-03, 3.22952710e-04,\n",
       "        2.49134948e-03, 2.26066897e-03, 2.19915417e-03, 2.02998847e-03,\n",
       "        1.90695886e-03, 1.83006536e-03, 1.52249135e-03, 1.36870434e-03,\n",
       "        1.41484045e-03, 1.70703576e-03, 2.09150327e-03, 2.29142637e-03,\n",
       "        2.26066897e-03, 2.29142637e-03, 1.90695886e-03, 1.58400615e-03,\n",
       "        1.61476355e-03, 1.41484045e-03, 1.78392926e-03, 1.81468666e-03,\n",
       "        2.59900038e-03, 1.53787005e-03, 2.29142637e-03, 6.15148020e-05],\n",
       "       [7.68935025e-05, 3.82929642e-03, 0.00000000e+00, 0.00000000e+00,\n",
       "        2.53748558e-03, 2.49134948e-03, 2.26066897e-03, 2.53748558e-03,\n",
       "        2.64513649e-03, 2.49134948e-03, 2.49134948e-03, 2.58362168e-03,\n",
       "        2.53748558e-03, 2.47597078e-03, 2.46059208e-03, 2.38369858e-03,\n",
       "        2.35294118e-03, 2.35294118e-03, 2.38369858e-03, 2.49134948e-03,\n",
       "        2.53748558e-03, 2.67589389e-03, 3.16801230e-03, 2.76816609e-03,\n",
       "        3.10649750e-03, 2.46059208e-04, 4.92118416e-04, 2.24529027e-03],\n",
       "       [1.70703576e-03, 1.93771626e-03, 0.00000000e+00, 3.22952710e-04,\n",
       "        2.55286428e-03, 2.61437908e-03, 2.24529027e-03, 2.52210688e-03,\n",
       "        2.32218378e-03, 2.24529027e-03, 2.13763937e-03, 2.30680507e-03,\n",
       "        2.35294118e-03, 2.42983468e-03, 2.49134948e-03, 2.53748558e-03,\n",
       "        2.52210688e-03, 2.47597078e-03, 2.55286428e-03, 2.67589389e-03,\n",
       "        2.81430219e-03, 2.67589389e-03, 2.66051519e-03, 2.58362168e-03,\n",
       "        3.01422530e-03, 9.53479431e-04, 0.00000000e+00, 2.64513649e-03],\n",
       "       [2.16839677e-03, 6.45905421e-04, 0.00000000e+00, 5.53633218e-04,\n",
       "        2.67589389e-03, 2.61437908e-03, 2.38369858e-03, 2.53748558e-03,\n",
       "        2.41445598e-03, 2.26066897e-03, 2.29142637e-03, 2.36831988e-03,\n",
       "        2.36831988e-03, 2.53748558e-03, 2.58362168e-03, 2.52210688e-03,\n",
       "        2.38369858e-03, 2.47597078e-03, 2.47597078e-03, 2.64513649e-03,\n",
       "        2.72202999e-03, 2.66051519e-03, 2.76816609e-03, 2.61437908e-03,\n",
       "        3.66013072e-03, 1.36870434e-03, 0.00000000e+00, 2.42983468e-03],\n",
       "       [2.26066897e-03, 3.53710111e-04, 0.00000000e+00, 8.91964629e-04,\n",
       "        2.78354479e-03, 2.64513649e-03, 2.46059208e-03, 2.58362168e-03,\n",
       "        2.42983468e-03, 2.32218378e-03, 2.35294118e-03, 2.41445598e-03,\n",
       "        2.42983468e-03, 2.41445598e-03, 2.41445598e-03, 2.58362168e-03,\n",
       "        2.55286428e-03, 2.61437908e-03, 2.66051519e-03, 2.72202999e-03,\n",
       "        2.76816609e-03, 2.72202999e-03, 2.76816609e-03, 2.58362168e-03,\n",
       "        3.47558631e-03, 1.73779316e-03, 0.00000000e+00, 2.32218378e-03],\n",
       "       [2.16839677e-03, 2.15301807e-04, 0.00000000e+00, 1.23029604e-03,\n",
       "        2.87581699e-03, 2.59900038e-03, 2.42983468e-03, 2.53748558e-03,\n",
       "        2.35294118e-03, 2.30680507e-03, 2.30680507e-03, 2.36831988e-03,\n",
       "        2.38369858e-03, 2.26066897e-03, 2.24529027e-03, 2.42983468e-03,\n",
       "        2.49134948e-03, 2.61437908e-03, 2.70665129e-03, 2.72202999e-03,\n",
       "        2.72202999e-03, 2.72202999e-03, 2.75278739e-03, 2.64513649e-03,\n",
       "        2.99884660e-03, 2.19915417e-03, 2.46059208e-04, 1.83006536e-03],\n",
       "       [1.72241446e-03, 5.07497116e-04, 0.00000000e+00, 1.07650903e-03,\n",
       "        2.82968089e-03, 2.59900038e-03, 2.49134948e-03, 2.59900038e-03,\n",
       "        2.36831988e-03, 2.35294118e-03, 2.32218378e-03, 2.41445598e-03,\n",
       "        2.35294118e-03, 2.61437908e-03, 2.78354479e-03, 2.59900038e-03,\n",
       "        2.36831988e-03, 2.61437908e-03, 2.59900038e-03, 2.59900038e-03,\n",
       "        2.64513649e-03, 2.61437908e-03, 2.84505959e-03, 2.64513649e-03,\n",
       "        3.06036140e-03, 2.30680507e-03, 2.09150327e-03, 6.15148020e-05],\n",
       "       [1.07650903e-03, 1.53787005e-03, 0.00000000e+00, 1.01499423e-03,\n",
       "        2.93733180e-03, 2.66051519e-03, 2.26066897e-03, 2.49134948e-03,\n",
       "        2.07612457e-03, 1.99923106e-03, 2.09150327e-03, 2.16839677e-03,\n",
       "        2.24529027e-03, 2.72202999e-03, 3.01422530e-03, 2.84505959e-03,\n",
       "        2.46059208e-03, 2.46059208e-03, 2.59900038e-03, 2.55286428e-03,\n",
       "        2.59900038e-03, 2.61437908e-03, 2.61437908e-03, 2.78354479e-03,\n",
       "        2.81430219e-03, 3.92156863e-03, 7.38177624e-04, 0.00000000e+00],\n",
       "       [0.00000000e+00, 2.26066897e-03, 0.00000000e+00, 0.00000000e+00,\n",
       "        3.30642061e-03, 2.82968089e-03, 3.19876970e-03, 3.13725490e-03,\n",
       "        2.95271050e-03, 2.76816609e-03, 2.76816609e-03, 2.76816609e-03,\n",
       "        2.61437908e-03, 2.41445598e-03, 2.41445598e-03, 2.47597078e-03,\n",
       "        2.64513649e-03, 2.72202999e-03, 2.78354479e-03, 2.76816609e-03,\n",
       "        2.81430219e-03, 2.84505959e-03, 2.95271050e-03, 2.81430219e-03,\n",
       "        2.95271050e-03, 1.23029604e-03, 0.00000000e+00, 0.00000000e+00],\n",
       "       [0.00000000e+00, 4.15224913e-04, 2.09150327e-03, 0.00000000e+00,\n",
       "        2.53748558e-03, 2.29142637e-03, 2.42983468e-03, 2.36831988e-03,\n",
       "        2.67589389e-03, 2.75278739e-03, 2.87581699e-03, 2.87581699e-03,\n",
       "        2.59900038e-03, 2.58362168e-03, 2.49134948e-03, 2.35294118e-03,\n",
       "        2.35294118e-03, 2.38369858e-03, 2.36831988e-03, 2.38369858e-03,\n",
       "        2.46059208e-03, 2.52210688e-03, 2.55286428e-03, 2.70665129e-03,\n",
       "        2.76816609e-03, 0.00000000e+00, 0.00000000e+00, 0.00000000e+00],\n",
       "       [0.00000000e+00, 0.00000000e+00, 0.00000000e+00, 2.46059208e-03,\n",
       "        3.66013072e-03, 3.59861592e-03, 3.72164552e-03, 3.66013072e-03,\n",
       "        3.42945021e-03, 3.35255671e-03, 3.39869281e-03, 3.29104191e-03,\n",
       "        2.93733180e-03, 2.72202999e-03, 2.61437908e-03, 2.55286428e-03,\n",
       "        2.55286428e-03, 2.55286428e-03, 2.52210688e-03, 2.52210688e-03,\n",
       "        2.53748558e-03, 2.58362168e-03, 2.70665129e-03, 2.66051519e-03,\n",
       "        2.82968089e-03, 0.00000000e+00, 0.00000000e+00, 1.53787005e-05],\n",
       "       [3.07574010e-05, 0.00000000e+00, 2.19915417e-03, 3.33717801e-03,\n",
       "        3.07574010e-03, 3.22952710e-03, 3.39869281e-03, 3.53710111e-03,\n",
       "        3.36793541e-03, 3.26028451e-03, 3.46020761e-03, 3.62937332e-03,\n",
       "        2.93733180e-03, 2.93733180e-03, 3.06036140e-03, 3.04498270e-03,\n",
       "        3.04498270e-03, 2.96808920e-03, 2.87581699e-03, 2.84505959e-03,\n",
       "        2.82968089e-03, 2.78354479e-03, 2.89119569e-03, 2.49134948e-03,\n",
       "        2.52210688e-03, 1.53787005e-04, 0.00000000e+00, 3.07574010e-05],\n",
       "       [1.53787005e-05, 0.00000000e+00, 7.38177624e-04, 4.30603614e-04,\n",
       "        2.15301807e-04, 5.07497116e-04, 4.45982314e-04, 4.15224913e-04,\n",
       "        4.92118416e-04, 4.92118416e-04, 7.68935025e-04, 8.30449827e-04,\n",
       "        0.00000000e+00, 0.00000000e+00, 0.00000000e+00, 0.00000000e+00,\n",
       "        0.00000000e+00, 0.00000000e+00, 0.00000000e+00, 0.00000000e+00,\n",
       "        0.00000000e+00, 0.00000000e+00, 0.00000000e+00, 0.00000000e+00,\n",
       "        0.00000000e+00, 0.00000000e+00, 0.00000000e+00, 0.00000000e+00],\n",
       "       [0.00000000e+00, 0.00000000e+00, 0.00000000e+00, 0.00000000e+00,\n",
       "        0.00000000e+00, 0.00000000e+00, 0.00000000e+00, 0.00000000e+00,\n",
       "        0.00000000e+00, 0.00000000e+00, 0.00000000e+00, 0.00000000e+00,\n",
       "        0.00000000e+00, 0.00000000e+00, 0.00000000e+00, 0.00000000e+00,\n",
       "        0.00000000e+00, 0.00000000e+00, 0.00000000e+00, 0.00000000e+00,\n",
       "        0.00000000e+00, 0.00000000e+00, 0.00000000e+00, 0.00000000e+00,\n",
       "        0.00000000e+00, 0.00000000e+00, 0.00000000e+00, 0.00000000e+00],\n",
       "       [0.00000000e+00, 0.00000000e+00, 0.00000000e+00, 0.00000000e+00,\n",
       "        0.00000000e+00, 0.00000000e+00, 0.00000000e+00, 0.00000000e+00,\n",
       "        0.00000000e+00, 0.00000000e+00, 0.00000000e+00, 0.00000000e+00,\n",
       "        0.00000000e+00, 0.00000000e+00, 0.00000000e+00, 0.00000000e+00,\n",
       "        0.00000000e+00, 0.00000000e+00, 0.00000000e+00, 0.00000000e+00,\n",
       "        0.00000000e+00, 0.00000000e+00, 0.00000000e+00, 0.00000000e+00,\n",
       "        0.00000000e+00, 0.00000000e+00, 0.00000000e+00, 0.00000000e+00],\n",
       "       [0.00000000e+00, 0.00000000e+00, 0.00000000e+00, 0.00000000e+00,\n",
       "        0.00000000e+00, 0.00000000e+00, 0.00000000e+00, 0.00000000e+00,\n",
       "        0.00000000e+00, 0.00000000e+00, 0.00000000e+00, 0.00000000e+00,\n",
       "        0.00000000e+00, 0.00000000e+00, 0.00000000e+00, 0.00000000e+00,\n",
       "        0.00000000e+00, 0.00000000e+00, 0.00000000e+00, 0.00000000e+00,\n",
       "        0.00000000e+00, 0.00000000e+00, 0.00000000e+00, 0.00000000e+00,\n",
       "        0.00000000e+00, 0.00000000e+00, 0.00000000e+00, 0.00000000e+00],\n",
       "       [0.00000000e+00, 0.00000000e+00, 0.00000000e+00, 0.00000000e+00,\n",
       "        0.00000000e+00, 0.00000000e+00, 0.00000000e+00, 0.00000000e+00,\n",
       "        0.00000000e+00, 0.00000000e+00, 0.00000000e+00, 0.00000000e+00,\n",
       "        0.00000000e+00, 0.00000000e+00, 0.00000000e+00, 0.00000000e+00,\n",
       "        0.00000000e+00, 0.00000000e+00, 0.00000000e+00, 0.00000000e+00,\n",
       "        0.00000000e+00, 0.00000000e+00, 0.00000000e+00, 0.00000000e+00,\n",
       "        0.00000000e+00, 0.00000000e+00, 0.00000000e+00, 0.00000000e+00],\n",
       "       [0.00000000e+00, 0.00000000e+00, 0.00000000e+00, 0.00000000e+00,\n",
       "        0.00000000e+00, 0.00000000e+00, 0.00000000e+00, 0.00000000e+00,\n",
       "        0.00000000e+00, 0.00000000e+00, 0.00000000e+00, 0.00000000e+00,\n",
       "        0.00000000e+00, 0.00000000e+00, 0.00000000e+00, 0.00000000e+00,\n",
       "        0.00000000e+00, 0.00000000e+00, 0.00000000e+00, 0.00000000e+00,\n",
       "        0.00000000e+00, 0.00000000e+00, 0.00000000e+00, 0.00000000e+00,\n",
       "        0.00000000e+00, 0.00000000e+00, 0.00000000e+00, 0.00000000e+00],\n",
       "       [0.00000000e+00, 0.00000000e+00, 0.00000000e+00, 0.00000000e+00,\n",
       "        0.00000000e+00, 0.00000000e+00, 0.00000000e+00, 0.00000000e+00,\n",
       "        0.00000000e+00, 0.00000000e+00, 0.00000000e+00, 0.00000000e+00,\n",
       "        0.00000000e+00, 0.00000000e+00, 0.00000000e+00, 0.00000000e+00,\n",
       "        0.00000000e+00, 0.00000000e+00, 0.00000000e+00, 0.00000000e+00,\n",
       "        0.00000000e+00, 0.00000000e+00, 0.00000000e+00, 0.00000000e+00,\n",
       "        0.00000000e+00, 0.00000000e+00, 0.00000000e+00, 0.00000000e+00]])"
      ]
     },
     "execution_count": 55,
     "metadata": {},
     "output_type": "execute_result"
    }
   ],
   "source": [
    "train_img[342]"
   ]
  },
  {
   "cell_type": "code",
   "execution_count": 56,
   "id": "f61c27d5-9854-4643-98cb-c8204a9ffed5",
   "metadata": {},
   "outputs": [
    {
     "data": {
      "text/plain": [
       "array([[0.00000000e+00, 0.00000000e+00, 0.00000000e+00, 0.00000000e+00,\n",
       "        0.00000000e+00, 0.00000000e+00, 0.00000000e+00, 0.00000000e+00,\n",
       "        0.00000000e+00, 0.00000000e+00, 0.00000000e+00, 0.00000000e+00,\n",
       "        0.00000000e+00, 0.00000000e+00, 0.00000000e+00, 0.00000000e+00,\n",
       "        0.00000000e+00, 0.00000000e+00, 0.00000000e+00, 0.00000000e+00,\n",
       "        0.00000000e+00, 0.00000000e+00, 0.00000000e+00, 0.00000000e+00,\n",
       "        0.00000000e+00, 0.00000000e+00, 0.00000000e+00, 0.00000000e+00],\n",
       "       [0.00000000e+00, 0.00000000e+00, 0.00000000e+00, 0.00000000e+00,\n",
       "        0.00000000e+00, 0.00000000e+00, 0.00000000e+00, 0.00000000e+00,\n",
       "        0.00000000e+00, 0.00000000e+00, 0.00000000e+00, 0.00000000e+00,\n",
       "        0.00000000e+00, 0.00000000e+00, 0.00000000e+00, 0.00000000e+00,\n",
       "        0.00000000e+00, 0.00000000e+00, 0.00000000e+00, 0.00000000e+00,\n",
       "        0.00000000e+00, 0.00000000e+00, 0.00000000e+00, 0.00000000e+00,\n",
       "        0.00000000e+00, 0.00000000e+00, 0.00000000e+00, 0.00000000e+00],\n",
       "       [0.00000000e+00, 0.00000000e+00, 0.00000000e+00, 0.00000000e+00,\n",
       "        0.00000000e+00, 0.00000000e+00, 0.00000000e+00, 0.00000000e+00,\n",
       "        0.00000000e+00, 0.00000000e+00, 0.00000000e+00, 0.00000000e+00,\n",
       "        0.00000000e+00, 0.00000000e+00, 0.00000000e+00, 0.00000000e+00,\n",
       "        0.00000000e+00, 0.00000000e+00, 0.00000000e+00, 0.00000000e+00,\n",
       "        0.00000000e+00, 0.00000000e+00, 0.00000000e+00, 0.00000000e+00,\n",
       "        0.00000000e+00, 0.00000000e+00, 0.00000000e+00, 0.00000000e+00],\n",
       "       [0.00000000e+00, 0.00000000e+00, 0.00000000e+00, 0.00000000e+00,\n",
       "        0.00000000e+00, 0.00000000e+00, 0.00000000e+00, 0.00000000e+00,\n",
       "        0.00000000e+00, 0.00000000e+00, 0.00000000e+00, 0.00000000e+00,\n",
       "        0.00000000e+00, 0.00000000e+00, 0.00000000e+00, 0.00000000e+00,\n",
       "        0.00000000e+00, 0.00000000e+00, 0.00000000e+00, 0.00000000e+00,\n",
       "        0.00000000e+00, 0.00000000e+00, 0.00000000e+00, 0.00000000e+00,\n",
       "        0.00000000e+00, 0.00000000e+00, 0.00000000e+00, 0.00000000e+00],\n",
       "       [0.00000000e+00, 0.00000000e+00, 0.00000000e+00, 0.00000000e+00,\n",
       "        0.00000000e+00, 0.00000000e+00, 0.00000000e+00, 0.00000000e+00,\n",
       "        0.00000000e+00, 0.00000000e+00, 0.00000000e+00, 0.00000000e+00,\n",
       "        0.00000000e+00, 0.00000000e+00, 0.00000000e+00, 0.00000000e+00,\n",
       "        0.00000000e+00, 0.00000000e+00, 0.00000000e+00, 0.00000000e+00,\n",
       "        0.00000000e+00, 0.00000000e+00, 0.00000000e+00, 0.00000000e+00,\n",
       "        0.00000000e+00, 0.00000000e+00, 0.00000000e+00, 0.00000000e+00],\n",
       "       [0.00000000e+00, 0.00000000e+00, 0.00000000e+00, 0.00000000e+00,\n",
       "        0.00000000e+00, 0.00000000e+00, 0.00000000e+00, 0.00000000e+00,\n",
       "        0.00000000e+00, 0.00000000e+00, 0.00000000e+00, 0.00000000e+00,\n",
       "        0.00000000e+00, 0.00000000e+00, 1.53787005e-05, 0.00000000e+00,\n",
       "        0.00000000e+00, 0.00000000e+00, 0.00000000e+00, 0.00000000e+00,\n",
       "        0.00000000e+00, 0.00000000e+00, 0.00000000e+00, 1.53787005e-05,\n",
       "        9.22722030e-05, 0.00000000e+00, 3.22952710e-04, 0.00000000e+00],\n",
       "       [0.00000000e+00, 0.00000000e+00, 0.00000000e+00, 0.00000000e+00,\n",
       "        0.00000000e+00, 0.00000000e+00, 0.00000000e+00, 0.00000000e+00,\n",
       "        0.00000000e+00, 0.00000000e+00, 0.00000000e+00, 0.00000000e+00,\n",
       "        0.00000000e+00, 1.53787005e-05, 0.00000000e+00, 0.00000000e+00,\n",
       "        9.53479431e-04, 2.76816609e-04, 0.00000000e+00, 0.00000000e+00,\n",
       "        3.07574010e-05, 0.00000000e+00, 0.00000000e+00, 0.00000000e+00,\n",
       "        0.00000000e+00, 6.61284121e-04, 2.81430219e-03, 1.39946175e-03],\n",
       "       [0.00000000e+00, 0.00000000e+00, 0.00000000e+00, 0.00000000e+00,\n",
       "        0.00000000e+00, 0.00000000e+00, 0.00000000e+00, 0.00000000e+00,\n",
       "        0.00000000e+00, 0.00000000e+00, 0.00000000e+00, 0.00000000e+00,\n",
       "        0.00000000e+00, 9.22722030e-05, 0.00000000e+00, 7.07420223e-04,\n",
       "        3.59861592e-03, 3.38331411e-03, 1.39946175e-03, 0.00000000e+00,\n",
       "        0.00000000e+00, 0.00000000e+00, 0.00000000e+00, 0.00000000e+00,\n",
       "        6.92041522e-04, 1.73779316e-03, 1.53787005e-03, 5.53633218e-04],\n",
       "       [0.00000000e+00, 0.00000000e+00, 0.00000000e+00, 0.00000000e+00,\n",
       "        0.00000000e+00, 0.00000000e+00, 0.00000000e+00, 0.00000000e+00,\n",
       "        0.00000000e+00, 0.00000000e+00, 0.00000000e+00, 0.00000000e+00,\n",
       "        0.00000000e+00, 0.00000000e+00, 0.00000000e+00, 2.44521338e-03,\n",
       "        3.46020761e-03, 3.30642061e-03, 3.24490581e-03, 1.79930796e-03,\n",
       "        1.50711265e-03, 7.84313725e-04, 3.22952710e-04, 3.55247982e-03,\n",
       "        2.79892349e-03, 3.09111880e-03, 2.53748558e-03, 0.00000000e+00],\n",
       "       [0.00000000e+00, 0.00000000e+00, 0.00000000e+00, 0.00000000e+00,\n",
       "        0.00000000e+00, 0.00000000e+00, 0.00000000e+00, 0.00000000e+00,\n",
       "        0.00000000e+00, 0.00000000e+00, 0.00000000e+00, 0.00000000e+00,\n",
       "        3.07574010e-05, 0.00000000e+00, 0.00000000e+00, 3.72164552e-03,\n",
       "        3.29104191e-03, 3.33717801e-03, 3.29104191e-03, 3.76778162e-03,\n",
       "        3.92156863e-03, 3.92156863e-03, 3.90618993e-03, 3.46020761e-03,\n",
       "        2.78354479e-03, 3.12187620e-03, 1.76855056e-03, 0.00000000e+00],\n",
       "       [0.00000000e+00, 0.00000000e+00, 0.00000000e+00, 0.00000000e+00,\n",
       "        0.00000000e+00, 0.00000000e+00, 0.00000000e+00, 0.00000000e+00,\n",
       "        0.00000000e+00, 0.00000000e+00, 0.00000000e+00, 0.00000000e+00,\n",
       "        1.53787005e-05, 0.00000000e+00, 1.10726644e-03, 3.39869281e-03,\n",
       "        3.09111880e-03, 3.30642061e-03, 3.26028451e-03, 3.02960400e-03,\n",
       "        3.01422530e-03, 3.18339100e-03, 3.22952710e-03, 3.47558631e-03,\n",
       "        3.66013072e-03, 3.90618993e-03, 9.07343329e-04, 0.00000000e+00],\n",
       "       [0.00000000e+00, 0.00000000e+00, 0.00000000e+00, 0.00000000e+00,\n",
       "        0.00000000e+00, 0.00000000e+00, 0.00000000e+00, 0.00000000e+00,\n",
       "        0.00000000e+00, 0.00000000e+00, 0.00000000e+00, 0.00000000e+00,\n",
       "        0.00000000e+00, 0.00000000e+00, 2.90657439e-03, 3.30642061e-03,\n",
       "        3.21414840e-03, 3.50634371e-03, 3.26028451e-03, 3.22952710e-03,\n",
       "        3.26028451e-03, 3.21414840e-03, 3.29104191e-03, 3.55247982e-03,\n",
       "        3.44482891e-03, 3.58323722e-03, 2.76816609e-04, 0.00000000e+00],\n",
       "       [0.00000000e+00, 0.00000000e+00, 0.00000000e+00, 0.00000000e+00,\n",
       "        0.00000000e+00, 0.00000000e+00, 0.00000000e+00, 0.00000000e+00,\n",
       "        0.00000000e+00, 4.61361015e-05, 0.00000000e+00, 1.53787005e-05,\n",
       "        0.00000000e+00, 6.92041522e-04, 3.92156863e-03, 3.26028451e-03,\n",
       "        3.49096501e-03, 3.41407151e-03, 3.21414840e-03, 3.21414840e-03,\n",
       "        3.21414840e-03, 3.15263360e-03, 3.36793541e-03, 3.58323722e-03,\n",
       "        3.56785852e-03, 3.49096501e-03, 9.22722030e-05, 0.00000000e+00],\n",
       "       [0.00000000e+00, 0.00000000e+00, 0.00000000e+00, 0.00000000e+00,\n",
       "        0.00000000e+00, 0.00000000e+00, 0.00000000e+00, 0.00000000e+00,\n",
       "        0.00000000e+00, 1.53787005e-05, 4.61361015e-05, 0.00000000e+00,\n",
       "        0.00000000e+00, 3.64475202e-03, 3.30642061e-03, 3.44482891e-03,\n",
       "        3.44482891e-03, 3.21414840e-03, 3.21414840e-03, 3.22952710e-03,\n",
       "        3.22952710e-03, 3.21414840e-03, 3.36793541e-03, 3.44482891e-03,\n",
       "        3.42945021e-03, 3.66013072e-03, 5.07497116e-04, 0.00000000e+00],\n",
       "       [0.00000000e+00, 0.00000000e+00, 0.00000000e+00, 0.00000000e+00,\n",
       "        0.00000000e+00, 0.00000000e+00, 0.00000000e+00, 0.00000000e+00,\n",
       "        0.00000000e+00, 6.15148020e-05, 0.00000000e+00, 0.00000000e+00,\n",
       "        3.18339100e-03, 3.47558631e-03, 3.12187620e-03, 3.49096501e-03,\n",
       "        3.44482891e-03, 3.22952710e-03, 3.13725490e-03, 3.16801230e-03,\n",
       "        3.21414840e-03, 3.24490581e-03, 3.36793541e-03, 3.50634371e-03,\n",
       "        3.33717801e-03, 3.72164552e-03, 1.67627835e-03, 0.00000000e+00],\n",
       "       [0.00000000e+00, 0.00000000e+00, 0.00000000e+00, 0.00000000e+00,\n",
       "        0.00000000e+00, 0.00000000e+00, 0.00000000e+00, 3.07574010e-05,\n",
       "        0.00000000e+00, 0.00000000e+00, 0.00000000e+00, 2.96808920e-03,\n",
       "        3.84467512e-03, 3.07574010e-03, 3.36793541e-03, 3.47558631e-03,\n",
       "        3.44482891e-03, 3.15263360e-03, 3.16801230e-03, 3.18339100e-03,\n",
       "        3.22952710e-03, 3.21414840e-03, 3.33717801e-03, 3.58323722e-03,\n",
       "        3.32179931e-03, 3.59861592e-03, 3.12187620e-03, 0.00000000e+00],\n",
       "       [0.00000000e+00, 0.00000000e+00, 1.53787005e-05, 1.53787005e-05,\n",
       "        1.53787005e-05, 3.07574010e-05, 0.00000000e+00, 0.00000000e+00,\n",
       "        0.00000000e+00, 1.53787005e-05, 3.27566321e-03, 3.62937332e-03,\n",
       "        3.12187620e-03, 3.35255671e-03, 3.47558631e-03, 3.50634371e-03,\n",
       "        3.50634371e-03, 3.24490581e-03, 3.18339100e-03, 3.21414840e-03,\n",
       "        3.22952710e-03, 3.18339100e-03, 3.27566321e-03, 3.49096501e-03,\n",
       "        3.39869281e-03, 3.52172241e-03, 3.84467512e-03, 0.00000000e+00],\n",
       "       [0.00000000e+00, 6.15148020e-05, 0.00000000e+00, 0.00000000e+00,\n",
       "        0.00000000e+00, 0.00000000e+00, 0.00000000e+00, 0.00000000e+00,\n",
       "        1.66089965e-03, 3.86005383e-03, 3.72164552e-03, 3.21414840e-03,\n",
       "        3.32179931e-03, 3.39869281e-03, 3.50634371e-03, 3.61399462e-03,\n",
       "        3.36793541e-03, 3.18339100e-03, 3.27566321e-03, 3.22952710e-03,\n",
       "        3.19876970e-03, 3.16801230e-03, 3.35255671e-03, 3.52172241e-03,\n",
       "        3.50634371e-03, 3.44482891e-03, 3.92156863e-03, 5.07497116e-04],\n",
       "       [0.00000000e+00, 0.00000000e+00, 0.00000000e+00, 0.00000000e+00,\n",
       "        0.00000000e+00, 5.53633218e-04, 2.06074587e-03, 3.50634371e-03,\n",
       "        3.92156863e-03, 3.33717801e-03, 3.36793541e-03, 3.35255671e-03,\n",
       "        3.44482891e-03, 3.47558631e-03, 3.53710111e-03, 3.59861592e-03,\n",
       "        3.32179931e-03, 3.18339100e-03, 3.26028451e-03, 3.18339100e-03,\n",
       "        3.30642061e-03, 3.33717801e-03, 3.44482891e-03, 3.50634371e-03,\n",
       "        3.50634371e-03, 3.38331411e-03, 3.92156863e-03, 9.38100730e-04],\n",
       "       [0.00000000e+00, 1.15340254e-03, 2.79892349e-03, 2.98346790e-03,\n",
       "        3.72164552e-03, 3.92156863e-03, 3.49096501e-03, 3.32179931e-03,\n",
       "        3.39869281e-03, 3.41407151e-03, 3.52172241e-03, 3.50634371e-03,\n",
       "        3.61399462e-03, 3.58323722e-03, 3.58323722e-03, 3.56785852e-03,\n",
       "        3.41407151e-03, 3.36793541e-03, 3.35255671e-03, 3.27566321e-03,\n",
       "        3.42945021e-03, 3.42945021e-03, 3.47558631e-03, 3.49096501e-03,\n",
       "        3.58323722e-03, 3.46020761e-03, 3.72164552e-03, 1.04575163e-03],\n",
       "       [2.92195309e-04, 3.27566321e-03, 3.41407151e-03, 3.33717801e-03,\n",
       "        3.32179931e-03, 3.27566321e-03, 3.30642061e-03, 3.49096501e-03,\n",
       "        3.62937332e-03, 3.59861592e-03, 3.55247982e-03, 3.62937332e-03,\n",
       "        3.56785852e-03, 3.55247982e-03, 3.38331411e-03, 3.46020761e-03,\n",
       "        3.52172241e-03, 3.56785852e-03, 3.55247982e-03, 3.70626682e-03,\n",
       "        3.90618993e-03, 3.81391772e-03, 3.90618993e-03, 3.86005383e-03,\n",
       "        3.66013072e-03, 3.58323722e-03, 3.92156863e-03, 5.99769319e-04],\n",
       "       [1.27643214e-03, 3.44482891e-03, 3.46020761e-03, 3.42945021e-03,\n",
       "        3.33717801e-03, 3.44482891e-03, 3.47558631e-03, 3.44482891e-03,\n",
       "        3.47558631e-03, 3.47558631e-03, 3.42945021e-03, 3.50634371e-03,\n",
       "        3.59861592e-03, 3.61399462e-03, 3.62937332e-03, 3.69088812e-03,\n",
       "        3.61399462e-03, 3.90618993e-03, 3.84467512e-03, 3.24490581e-03,\n",
       "        2.96808920e-03, 3.02960400e-03, 2.90657439e-03, 2.81430219e-03,\n",
       "        2.62975779e-03, 2.39907728e-03, 2.75278739e-03, 3.69088812e-04],\n",
       "       [0.00000000e+00, 1.33794694e-03, 2.84505959e-03, 3.64475202e-03,\n",
       "        3.89081123e-03, 3.90618993e-03, 3.92156863e-03, 3.92156863e-03,\n",
       "        3.90618993e-03, 3.89081123e-03, 3.92156863e-03, 3.92156863e-03,\n",
       "        3.92156863e-03, 3.69088812e-03, 3.07574010e-03, 2.15301807e-03,\n",
       "        1.35332564e-03, 7.99692426e-04, 1.53787005e-05, 1.63014225e-03,\n",
       "        1.89158016e-03, 1.55324875e-03, 1.90695886e-03, 1.86082276e-03,\n",
       "        1.92233756e-03, 1.98385236e-03, 2.81430219e-03, 6.30526720e-04],\n",
       "       [0.00000000e+00, 0.00000000e+00, 0.00000000e+00, 1.53787005e-04,\n",
       "        9.07343329e-04, 1.13802384e-03, 1.27643214e-03, 1.47635525e-03,\n",
       "        1.61476355e-03, 1.75317186e-03, 1.75317186e-03, 1.27643214e-03,\n",
       "        6.61284121e-04, 0.00000000e+00, 0.00000000e+00, 0.00000000e+00,\n",
       "        0.00000000e+00, 0.00000000e+00, 0.00000000e+00, 1.13802384e-03,\n",
       "        1.98385236e-03, 1.66089965e-03, 1.83006536e-03, 1.76855056e-03,\n",
       "        1.76855056e-03, 1.84544406e-03, 1.79930796e-03, 6.15148020e-05],\n",
       "       [0.00000000e+00, 0.00000000e+00, 0.00000000e+00, 0.00000000e+00,\n",
       "        0.00000000e+00, 0.00000000e+00, 0.00000000e+00, 0.00000000e+00,\n",
       "        0.00000000e+00, 0.00000000e+00, 0.00000000e+00, 0.00000000e+00,\n",
       "        0.00000000e+00, 0.00000000e+00, 0.00000000e+00, 0.00000000e+00,\n",
       "        0.00000000e+00, 0.00000000e+00, 0.00000000e+00, 0.00000000e+00,\n",
       "        0.00000000e+00, 0.00000000e+00, 0.00000000e+00, 0.00000000e+00,\n",
       "        0.00000000e+00, 0.00000000e+00, 0.00000000e+00, 0.00000000e+00],\n",
       "       [0.00000000e+00, 0.00000000e+00, 0.00000000e+00, 0.00000000e+00,\n",
       "        0.00000000e+00, 0.00000000e+00, 0.00000000e+00, 0.00000000e+00,\n",
       "        0.00000000e+00, 0.00000000e+00, 0.00000000e+00, 0.00000000e+00,\n",
       "        0.00000000e+00, 0.00000000e+00, 0.00000000e+00, 0.00000000e+00,\n",
       "        0.00000000e+00, 0.00000000e+00, 0.00000000e+00, 0.00000000e+00,\n",
       "        0.00000000e+00, 0.00000000e+00, 0.00000000e+00, 0.00000000e+00,\n",
       "        0.00000000e+00, 0.00000000e+00, 0.00000000e+00, 0.00000000e+00],\n",
       "       [0.00000000e+00, 0.00000000e+00, 0.00000000e+00, 0.00000000e+00,\n",
       "        0.00000000e+00, 0.00000000e+00, 0.00000000e+00, 0.00000000e+00,\n",
       "        0.00000000e+00, 0.00000000e+00, 0.00000000e+00, 0.00000000e+00,\n",
       "        0.00000000e+00, 0.00000000e+00, 0.00000000e+00, 0.00000000e+00,\n",
       "        0.00000000e+00, 0.00000000e+00, 0.00000000e+00, 0.00000000e+00,\n",
       "        0.00000000e+00, 0.00000000e+00, 0.00000000e+00, 0.00000000e+00,\n",
       "        0.00000000e+00, 0.00000000e+00, 0.00000000e+00, 0.00000000e+00],\n",
       "       [0.00000000e+00, 0.00000000e+00, 0.00000000e+00, 0.00000000e+00,\n",
       "        0.00000000e+00, 0.00000000e+00, 0.00000000e+00, 0.00000000e+00,\n",
       "        0.00000000e+00, 0.00000000e+00, 0.00000000e+00, 0.00000000e+00,\n",
       "        0.00000000e+00, 0.00000000e+00, 0.00000000e+00, 0.00000000e+00,\n",
       "        0.00000000e+00, 0.00000000e+00, 0.00000000e+00, 0.00000000e+00,\n",
       "        0.00000000e+00, 0.00000000e+00, 0.00000000e+00, 0.00000000e+00,\n",
       "        0.00000000e+00, 0.00000000e+00, 0.00000000e+00, 0.00000000e+00]])"
      ]
     },
     "execution_count": 56,
     "metadata": {},
     "output_type": "execute_result"
    }
   ],
   "source": [
    "test_img[123]"
   ]
  },
  {
   "cell_type": "code",
   "execution_count": 57,
   "id": "ed537ae7-0e24-4501-8e0c-bf324ca1ffdb",
   "metadata": {},
   "outputs": [],
   "source": [
    "model = Sequential([\n",
    "    Flatten(input_shape = (28,28)),\n",
    "    Dense(128, activation=\"relu\"),\n",
    "    Dense(10, activation=\"softmax\")\n",
    "    \n",
    "])"
   ]
  },
  {
   "cell_type": "code",
   "execution_count": 58,
   "id": "56ba5194-d604-4742-ab6e-f30df2b0d67c",
   "metadata": {},
   "outputs": [],
   "source": [
    "model.compile(optimizer=\"adam\", loss=\"sparse_categorical_crossentropy\", metrics=[\"accuracy\"])"
   ]
  },
  {
   "cell_type": "code",
   "execution_count": 59,
   "id": "f767c33b-c1f4-4e8d-9b88-b9af94543b7d",
   "metadata": {},
   "outputs": [
    {
     "name": "stdout",
     "output_type": "stream",
     "text": [
      "Epoch 1/30\n",
      "\u001b[1m1875/1875\u001b[0m \u001b[32m━━━━━━━━━━━━━━━━━━━━\u001b[0m\u001b[37m\u001b[0m \u001b[1m27s\u001b[0m 13ms/step - accuracy: 0.5731 - loss: 1.5188 - val_accuracy: 0.7410 - val_loss: 0.7233\n",
      "Epoch 2/30\n",
      "\u001b[1m1875/1875\u001b[0m \u001b[32m━━━━━━━━━━━━━━━━━━━━\u001b[0m\u001b[37m\u001b[0m \u001b[1m27s\u001b[0m 14ms/step - accuracy: 0.7608 - loss: 0.6736 - val_accuracy: 0.7763 - val_loss: 0.6160\n",
      "Epoch 3/30\n",
      "\u001b[1m1875/1875\u001b[0m \u001b[32m━━━━━━━━━━━━━━━━━━━━\u001b[0m\u001b[37m\u001b[0m \u001b[1m30s\u001b[0m 16ms/step - accuracy: 0.7875 - loss: 0.5891 - val_accuracy: 0.7938 - val_loss: 0.5671\n",
      "Epoch 4/30\n",
      "\u001b[1m1875/1875\u001b[0m \u001b[32m━━━━━━━━━━━━━━━━━━━━\u001b[0m\u001b[37m\u001b[0m \u001b[1m27s\u001b[0m 15ms/step - accuracy: 0.8048 - loss: 0.5434 - val_accuracy: 0.8049 - val_loss: 0.5343\n",
      "Epoch 5/30\n",
      "\u001b[1m1875/1875\u001b[0m \u001b[32m━━━━━━━━━━━━━━━━━━━━\u001b[0m\u001b[37m\u001b[0m \u001b[1m26s\u001b[0m 14ms/step - accuracy: 0.8207 - loss: 0.5041 - val_accuracy: 0.8140 - val_loss: 0.5162\n",
      "Epoch 6/30\n",
      "\u001b[1m1875/1875\u001b[0m \u001b[32m━━━━━━━━━━━━━━━━━━━━\u001b[0m\u001b[37m\u001b[0m \u001b[1m28s\u001b[0m 15ms/step - accuracy: 0.8292 - loss: 0.4855 - val_accuracy: 0.8219 - val_loss: 0.4986\n",
      "Epoch 7/30\n",
      "\u001b[1m1875/1875\u001b[0m \u001b[32m━━━━━━━━━━━━━━━━━━━━\u001b[0m\u001b[37m\u001b[0m \u001b[1m45s\u001b[0m 17ms/step - accuracy: 0.8327 - loss: 0.4743 - val_accuracy: 0.8232 - val_loss: 0.4896\n",
      "Epoch 8/30\n",
      "\u001b[1m1875/1875\u001b[0m \u001b[32m━━━━━━━━━━━━━━━━━━━━\u001b[0m\u001b[37m\u001b[0m \u001b[1m23s\u001b[0m 12ms/step - accuracy: 0.8424 - loss: 0.4572 - val_accuracy: 0.8268 - val_loss: 0.4784\n",
      "Epoch 9/30\n",
      "\u001b[1m1875/1875\u001b[0m \u001b[32m━━━━━━━━━━━━━━━━━━━━\u001b[0m\u001b[37m\u001b[0m \u001b[1m34s\u001b[0m 8ms/step - accuracy: 0.8444 - loss: 0.4433 - val_accuracy: 0.8309 - val_loss: 0.4715\n",
      "Epoch 10/30\n",
      "\u001b[1m1875/1875\u001b[0m \u001b[32m━━━━━━━━━━━━━━━━━━━━\u001b[0m\u001b[37m\u001b[0m \u001b[1m29s\u001b[0m 12ms/step - accuracy: 0.8460 - loss: 0.4368 - val_accuracy: 0.8334 - val_loss: 0.4612\n",
      "Epoch 11/30\n",
      "\u001b[1m1875/1875\u001b[0m \u001b[32m━━━━━━━━━━━━━━━━━━━━\u001b[0m\u001b[37m\u001b[0m \u001b[1m42s\u001b[0m 13ms/step - accuracy: 0.8490 - loss: 0.4269 - val_accuracy: 0.8377 - val_loss: 0.4554\n",
      "Epoch 12/30\n",
      "\u001b[1m1875/1875\u001b[0m \u001b[32m━━━━━━━━━━━━━━━━━━━━\u001b[0m\u001b[37m\u001b[0m \u001b[1m46s\u001b[0m 15ms/step - accuracy: 0.8513 - loss: 0.4205 - val_accuracy: 0.8368 - val_loss: 0.4509\n",
      "Epoch 13/30\n",
      "\u001b[1m1875/1875\u001b[0m \u001b[32m━━━━━━━━━━━━━━━━━━━━\u001b[0m\u001b[37m\u001b[0m \u001b[1m20s\u001b[0m 11ms/step - accuracy: 0.8552 - loss: 0.4131 - val_accuracy: 0.8401 - val_loss: 0.4455\n",
      "Epoch 14/30\n",
      "\u001b[1m1875/1875\u001b[0m \u001b[32m━━━━━━━━━━━━━━━━━━━━\u001b[0m\u001b[37m\u001b[0m \u001b[1m13s\u001b[0m 7ms/step - accuracy: 0.8582 - loss: 0.4053 - val_accuracy: 0.8412 - val_loss: 0.4404\n",
      "Epoch 15/30\n",
      "\u001b[1m1875/1875\u001b[0m \u001b[32m━━━━━━━━━━━━━━━━━━━━\u001b[0m\u001b[37m\u001b[0m \u001b[1m16s\u001b[0m 9ms/step - accuracy: 0.8575 - loss: 0.4041 - val_accuracy: 0.8419 - val_loss: 0.4378\n",
      "Epoch 16/30\n",
      "\u001b[1m1875/1875\u001b[0m \u001b[32m━━━━━━━━━━━━━━━━━━━━\u001b[0m\u001b[37m\u001b[0m \u001b[1m30s\u001b[0m 14ms/step - accuracy: 0.8592 - loss: 0.3996 - val_accuracy: 0.8418 - val_loss: 0.4348\n",
      "Epoch 17/30\n",
      "\u001b[1m1875/1875\u001b[0m \u001b[32m━━━━━━━━━━━━━━━━━━━━\u001b[0m\u001b[37m\u001b[0m \u001b[1m33s\u001b[0m 10ms/step - accuracy: 0.8617 - loss: 0.3941 - val_accuracy: 0.8430 - val_loss: 0.4327\n",
      "Epoch 18/30\n",
      "\u001b[1m1875/1875\u001b[0m \u001b[32m━━━━━━━━━━━━━━━━━━━━\u001b[0m\u001b[37m\u001b[0m \u001b[1m16s\u001b[0m 7ms/step - accuracy: 0.8616 - loss: 0.3877 - val_accuracy: 0.8474 - val_loss: 0.4270\n",
      "Epoch 19/30\n",
      "\u001b[1m1875/1875\u001b[0m \u001b[32m━━━━━━━━━━━━━━━━━━━━\u001b[0m\u001b[37m\u001b[0m \u001b[1m16s\u001b[0m 8ms/step - accuracy: 0.8655 - loss: 0.3867 - val_accuracy: 0.8476 - val_loss: 0.4234\n",
      "Epoch 20/30\n",
      "\u001b[1m1875/1875\u001b[0m \u001b[32m━━━━━━━━━━━━━━━━━━━━\u001b[0m\u001b[37m\u001b[0m \u001b[1m21s\u001b[0m 8ms/step - accuracy: 0.8637 - loss: 0.3833 - val_accuracy: 0.8487 - val_loss: 0.4219\n",
      "Epoch 21/30\n",
      "\u001b[1m1875/1875\u001b[0m \u001b[32m━━━━━━━━━━━━━━━━━━━━\u001b[0m\u001b[37m\u001b[0m \u001b[1m18s\u001b[0m 9ms/step - accuracy: 0.8646 - loss: 0.3832 - val_accuracy: 0.8507 - val_loss: 0.4203\n",
      "Epoch 22/30\n",
      "\u001b[1m1875/1875\u001b[0m \u001b[32m━━━━━━━━━━━━━━━━━━━━\u001b[0m\u001b[37m\u001b[0m \u001b[1m16s\u001b[0m 8ms/step - accuracy: 0.8665 - loss: 0.3771 - val_accuracy: 0.8476 - val_loss: 0.4205\n",
      "Epoch 23/30\n",
      "\u001b[1m1875/1875\u001b[0m \u001b[32m━━━━━━━━━━━━━━━━━━━━\u001b[0m\u001b[37m\u001b[0m \u001b[1m18s\u001b[0m 9ms/step - accuracy: 0.8674 - loss: 0.3766 - val_accuracy: 0.8518 - val_loss: 0.4135\n",
      "Epoch 24/30\n",
      "\u001b[1m1875/1875\u001b[0m \u001b[32m━━━━━━━━━━━━━━━━━━━━\u001b[0m\u001b[37m\u001b[0m \u001b[1m15s\u001b[0m 8ms/step - accuracy: 0.8690 - loss: 0.3726 - val_accuracy: 0.8515 - val_loss: 0.4130\n",
      "Epoch 25/30\n",
      "\u001b[1m1875/1875\u001b[0m \u001b[32m━━━━━━━━━━━━━━━━━━━━\u001b[0m\u001b[37m\u001b[0m \u001b[1m20s\u001b[0m 10ms/step - accuracy: 0.8708 - loss: 0.3693 - val_accuracy: 0.8533 - val_loss: 0.4126\n",
      "Epoch 26/30\n",
      "\u001b[1m1875/1875\u001b[0m \u001b[32m━━━━━━━━━━━━━━━━━━━━\u001b[0m\u001b[37m\u001b[0m \u001b[1m18s\u001b[0m 9ms/step - accuracy: 0.8702 - loss: 0.3646 - val_accuracy: 0.8533 - val_loss: 0.4093\n",
      "Epoch 27/30\n",
      "\u001b[1m1875/1875\u001b[0m \u001b[32m━━━━━━━━━━━━━━━━━━━━\u001b[0m\u001b[37m\u001b[0m \u001b[1m20s\u001b[0m 8ms/step - accuracy: 0.8719 - loss: 0.3587 - val_accuracy: 0.8578 - val_loss: 0.4039\n",
      "Epoch 28/30\n",
      "\u001b[1m1875/1875\u001b[0m \u001b[32m━━━━━━━━━━━━━━━━━━━━\u001b[0m\u001b[37m\u001b[0m \u001b[1m14s\u001b[0m 8ms/step - accuracy: 0.8732 - loss: 0.3570 - val_accuracy: 0.8558 - val_loss: 0.4055\n",
      "Epoch 29/30\n",
      "\u001b[1m1875/1875\u001b[0m \u001b[32m━━━━━━━━━━━━━━━━━━━━\u001b[0m\u001b[37m\u001b[0m \u001b[1m20s\u001b[0m 8ms/step - accuracy: 0.8723 - loss: 0.3574 - val_accuracy: 0.8587 - val_loss: 0.4003\n",
      "Epoch 30/30\n",
      "\u001b[1m1875/1875\u001b[0m \u001b[32m━━━━━━━━━━━━━━━━━━━━\u001b[0m\u001b[37m\u001b[0m \u001b[1m14s\u001b[0m 7ms/step - accuracy: 0.8729 - loss: 0.3557 - val_accuracy: 0.8559 - val_loss: 0.4022\n"
     ]
    },
    {
     "data": {
      "text/plain": [
       "<keras.src.callbacks.history.History at 0x24f577775d0>"
      ]
     },
     "execution_count": 59,
     "metadata": {},
     "output_type": "execute_result"
    }
   ],
   "source": [
    "model.fit(train_img, train_lab, epochs=30, batch_size=32, validation_data=(test_img, test_lab))"
   ]
  },
  {
   "cell_type": "code",
   "execution_count": 60,
   "id": "7ef0af5b-6509-4b90-a95d-c8701c084a65",
   "metadata": {},
   "outputs": [
    {
     "data": {
      "image/png": "[encoded data removed]",
      "text/plain": [
       "<Figure size 1200x400 with 1 Axes>"
      ]
     },
     "metadata": {},
     "output_type": "display_data"
    }
   ],
   "source": [
    "plt.figure(figsize=(12,4))\n",
    "plt.plot(model.history.history[\"loss\"],label=\"Training Loss\")\n",
    "plt.plot(model.history.history[\"val_loss\"],label=\"validation Loss\")\n",
    "plt.title(\"Loss visulization\")\n",
    "plt.legend()\n",
    "plt.xlabel(\"Epochs\")\n",
    "plt.ylabel(\"Loss\")\n",
    "plt.show()"
   ]
  },
  {
   "cell_type": "code",
   "execution_count": 61,
   "id": "a3998452-c965-4996-ad83-77bfc63b69e6",
   "metadata": {},
   "outputs": [
    {
     "data": {
      "image/png": "[encoded data removed]",
      "text/plain": [
       "<Figure size 1200x400 with 1 Axes>"
      ]
     },
     "metadata": {},
     "output_type": "display_data"
    }
   ],
   "source": [
    "plt.figure(figsize=(12,4))\n",
    "plt.plot(model.history.history[\"accuracy\"], label=\"Training Accuracy\")\n",
    "plt.plot(model.history.history[\"val_loss\"],label=\"validation Accuracy\")\n",
    "plt.title(\"Accuracy visulization\")\n",
    "plt.legend()\n",
    "plt.xlabel(\"Epochs\")\n",
    "plt.ylabel(\"Accuracy\")\n",
    "plt.show()"
   ]
  },
  {
   "cell_type": "code",
   "execution_count": 118,
   "id": "47eea98f-5b88-4c0c-a5a4-3cda40aefebc",
   "metadata": {},
   "outputs": [],
   "source": [
    "def  image_prediction(img_path): \n",
    "     img = load_img(img_path , target_size=(28,28))\n",
    "     img_arr = img_to_array(img)\n",
    "     img_norm = img_arr / 255.0\n",
    "     img_flatten = np.expand_dims(img_norm, axis=0)\n",
    "     pred = model.predict(img_flatten)\n",
    "     predicted_class = classes[np.argmax(pred[0])]\n",
    "\n",
    "     return predicted_class"
   ]
  },
  {
   "cell_type": "code",
   "execution_count": 119,
   "id": "ed02d3b9-5099-4b76-a2c5-aa27c9632116",
   "metadata": {},
   "outputs": [
    {
     "ename": "ValueError",
     "evalue": "Exception encountered when calling Sequential.call().\n\n\u001b[1mCannot take the length of shape with unknown rank.\u001b[0m\n\nArguments received by Sequential.call():\n  • inputs=tf.Tensor(shape=<unknown>, dtype=float32)\n  • training=False\n  • mask=None",
     "output_type": "error",
     "traceback": [
      "\u001b[1;31m---------------------------------------------------------------------------\u001b[0m",
      "\u001b[1;31mValueError\u001b[0m                                Traceback (most recent call last)",
      "Cell \u001b[1;32mIn[119], line 1\u001b[0m\n\u001b[1;32m----> 1\u001b[0m \u001b[43mimage_prediction\u001b[49m\u001b[43m(\u001b[49m\u001b[38;5;124;43mr\u001b[39;49m\u001b[38;5;124;43m\"\u001b[39;49m\u001b[38;5;124;43mD:\u001b[39;49m\u001b[38;5;124;43m\\\u001b[39;49m\u001b[38;5;124;43mData Science Program\u001b[39;49m\u001b[38;5;124;43m\\\u001b[39;49m\u001b[38;5;124;43mAI\u001b[39;49m\u001b[38;5;124;43m\\\u001b[39;49m\u001b[38;5;124;43mDress.jpg\u001b[39;49m\u001b[38;5;124;43m\"\u001b[39;49m\u001b[43m)\u001b[49m\n",
      "Cell \u001b[1;32mIn[118], line 6\u001b[0m, in \u001b[0;36mimage_prediction\u001b[1;34m(img_path)\u001b[0m\n\u001b[0;32m      4\u001b[0m img_norm \u001b[38;5;241m=\u001b[39m img_arr \u001b[38;5;241m/\u001b[39m \u001b[38;5;241m255.0\u001b[39m\n\u001b[0;32m      5\u001b[0m img_flatten \u001b[38;5;241m=\u001b[39m np\u001b[38;5;241m.\u001b[39mexpand_dims(img_norm, axis\u001b[38;5;241m=\u001b[39m\u001b[38;5;241m0\u001b[39m)\n\u001b[1;32m----> 6\u001b[0m pred \u001b[38;5;241m=\u001b[39m \u001b[43mmodel\u001b[49m\u001b[38;5;241;43m.\u001b[39;49m\u001b[43mpredict\u001b[49m\u001b[43m(\u001b[49m\u001b[43mimg_flatten\u001b[49m\u001b[43m)\u001b[49m\n\u001b[0;32m      7\u001b[0m predicted_class \u001b[38;5;241m=\u001b[39m classes[np\u001b[38;5;241m.\u001b[39margmax(pred[\u001b[38;5;241m0\u001b[39m])]\n\u001b[0;32m      9\u001b[0m \u001b[38;5;28;01mreturn\u001b[39;00m predicted_class\n",
      "File \u001b[1;32m~\\AppData\\Local\\Programs\\Python\\Python311\\Lib\\site-packages\\keras\\src\\utils\\traceback_utils.py:122\u001b[0m, in \u001b[0;36mfilter_traceback.<locals>.error_handler\u001b[1;34m(*args, **kwargs)\u001b[0m\n\u001b[0;32m    119\u001b[0m     filtered_tb \u001b[38;5;241m=\u001b[39m _process_traceback_frames(e\u001b[38;5;241m.\u001b[39m__traceback__)\n\u001b[0;32m    120\u001b[0m     \u001b[38;5;66;03m# To get the full stack trace, call:\u001b[39;00m\n\u001b[0;32m    121\u001b[0m     \u001b[38;5;66;03m# `keras.config.disable_traceback_filtering()`\u001b[39;00m\n\u001b[1;32m--> 122\u001b[0m     \u001b[38;5;28;01mraise\u001b[39;00m e\u001b[38;5;241m.\u001b[39mwith_traceback(filtered_tb) \u001b[38;5;28;01mfrom\u001b[39;00m \u001b[38;5;28;01mNone\u001b[39;00m\n\u001b[0;32m    123\u001b[0m \u001b[38;5;28;01mfinally\u001b[39;00m:\n\u001b[0;32m    124\u001b[0m     \u001b[38;5;28;01mdel\u001b[39;00m filtered_tb\n",
      "File \u001b[1;32m~\\AppData\\Local\\Programs\\Python\\Python311\\Lib\\site-packages\\keras\\src\\utils\\traceback_utils.py:122\u001b[0m, in \u001b[0;36mfilter_traceback.<locals>.error_handler\u001b[1;34m(*args, **kwargs)\u001b[0m\n\u001b[0;32m    119\u001b[0m     filtered_tb \u001b[38;5;241m=\u001b[39m _process_traceback_frames(e\u001b[38;5;241m.\u001b[39m__traceback__)\n\u001b[0;32m    120\u001b[0m     \u001b[38;5;66;03m# To get the full stack trace, call:\u001b[39;00m\n\u001b[0;32m    121\u001b[0m     \u001b[38;5;66;03m# `keras.config.disable_traceback_filtering()`\u001b[39;00m\n\u001b[1;32m--> 122\u001b[0m     \u001b[38;5;28;01mraise\u001b[39;00m e\u001b[38;5;241m.\u001b[39mwith_traceback(filtered_tb) \u001b[38;5;28;01mfrom\u001b[39;00m \u001b[38;5;28;01mNone\u001b[39;00m\n\u001b[0;32m    123\u001b[0m \u001b[38;5;28;01mfinally\u001b[39;00m:\n\u001b[0;32m    124\u001b[0m     \u001b[38;5;28;01mdel\u001b[39;00m filtered_tb\n",
      "\u001b[1;31mValueError\u001b[0m: Exception encountered when calling Sequential.call().\n\n\u001b[1mCannot take the length of shape with unknown rank.\u001b[0m\n\nArguments received by Sequential.call():\n  • inputs=tf.Tensor(shape=<unknown>, dtype=float32)\n  • training=False\n  • mask=None"
     ]
    }
   ],
   "source": [
    "image_prediction(r\"D:\\Data Science Program\\AI\\Dress.jpg\")"
   ]
  },
  {
   "cell_type": "code",
   "execution_count": null,
   "id": "42cd984a-2eba-44ff-9282-60440e3d63b4",
   "metadata": {},
   "outputs": [],
   "source": []
  }
 ],
 "metadata": {
  "kernelspec": {
   "display_name": "Python 3 (ipykernel)",
   "language": "python",
   "name": "python3"
  },
  "language_info": {
   "codemirror_mode": {
    "name": "ipython",
    "version": 3
   },
   "file_extension": ".py",
   "mimetype": "text/x-python",
   "name": "python",
   "nbconvert_exporter": "python",
   "pygments_lexer": "ipython3",
   "version": "3.11.9"
  }
 },
 "nbformat": 4,
 "nbformat_minor": 5
}
