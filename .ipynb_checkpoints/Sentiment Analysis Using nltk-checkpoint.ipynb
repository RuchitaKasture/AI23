{
 "cells": [
  {
   "cell_type": "code",
   "execution_count": 1,
   "id": "b9a034b1-8190-41e2-b696-dacb91edd9b6",
   "metadata": {},
   "outputs": [],
   "source": [
    "import nltk\n",
    "from nltk.tokenize import word_tokenize, sent_tokenize\n",
    "from nltk.corpus import stopwords\n",
    "\n",
    "import numpy as np"
   ]
  },
  {
   "cell_type": "code",
   "execution_count": 2,
   "id": "ae95cfb9-2836-4cfe-8a40-2eadb8cdbf36",
   "metadata": {},
   "outputs": [],
   "source": [
    "text=\"Indian people or Indians are the citizens and nationals of the Republic of India. In 2022, the population of India stood at 1.4 billion people, of various ethnic groups. According to United Nations forecasts, India overtook China as the world's most populous country by the end of April 2023, containing 17.50 percent of the global population. In addition to the Indian population, the Indian overseas diaspora also boasts large numbers, particularly in the Arab states of the Persian Gulf, former British colonies, and the Western world\""
   ]
  },
  {
   "cell_type": "code",
   "execution_count": 3,
   "id": "85767f20-e8b4-479d-8af2-597ffa7d35f3",
   "metadata": {},
   "outputs": [
    {
     "data": {
      "text/plain": [
       "\"Indian people or Indians are the citizens and nationals of the Republic of India. In 2022, the population of India stood at 1.4 billion people, of various ethnic groups. According to United Nations forecasts, India overtook China as the world's most populous country by the end of April 2023, containing 17.50 percent of the global population. In addition to the Indian population, the Indian overseas diaspora also boasts large numbers, particularly in the Arab states of the Persian Gulf, former British colonies, and the Western world\""
      ]
     },
     "execution_count": 3,
     "metadata": {},
     "output_type": "execute_result"
    }
   ],
   "source": [
    "text"
   ]
  },
  {
   "cell_type": "code",
   "execution_count": 7,
   "id": "18579217-3037-4ab1-8f1f-c4504e12dbbd",
   "metadata": {},
   "outputs": [],
   "source": [
    "words = word_tokenize(text)"
   ]
  },
  {
   "cell_type": "code",
   "execution_count": 6,
   "id": "6dedeb7a-6377-4466-96c1-e7b2d2969c02",
   "metadata": {},
   "outputs": [
    {
     "name": "stderr",
     "output_type": "stream",
     "text": [
      "[nltk_data] Downloading package punkt_tab to C:\\Users\\Ruchita\n",
      "[nltk_data]     Kasture\\AppData\\Roaming\\nltk_data...\n",
      "[nltk_data]   Unzipping tokenizers\\punkt_tab.zip.\n"
     ]
    },
    {
     "data": {
      "text/plain": [
       "True"
      ]
     },
     "execution_count": 6,
     "metadata": {},
     "output_type": "execute_result"
    }
   ],
   "source": [
    "nltk.download('punkt_tab')"
   ]
  },
  {
   "cell_type": "code",
   "execution_count": 8,
   "id": "b6ebfb3d-46b4-4e6c-9efd-8dcc5d01059f",
   "metadata": {},
   "outputs": [
    {
     "data": {
      "text/plain": [
       "['Indian',\n",
       " 'people',\n",
       " 'or',\n",
       " 'Indians',\n",
       " 'are',\n",
       " 'the',\n",
       " 'citizens',\n",
       " 'and',\n",
       " 'nationals',\n",
       " 'of',\n",
       " 'the',\n",
       " 'Republic',\n",
       " 'of',\n",
       " 'India',\n",
       " '.',\n",
       " 'In',\n",
       " '2022',\n",
       " ',',\n",
       " 'the',\n",
       " 'population',\n",
       " 'of',\n",
       " 'India',\n",
       " 'stood',\n",
       " 'at',\n",
       " '1.4',\n",
       " 'billion',\n",
       " 'people',\n",
       " ',',\n",
       " 'of',\n",
       " 'various',\n",
       " 'ethnic',\n",
       " 'groups',\n",
       " '.',\n",
       " 'According',\n",
       " 'to',\n",
       " 'United',\n",
       " 'Nations',\n",
       " 'forecasts',\n",
       " ',',\n",
       " 'India',\n",
       " 'overtook',\n",
       " 'China',\n",
       " 'as',\n",
       " 'the',\n",
       " 'world',\n",
       " \"'s\",\n",
       " 'most',\n",
       " 'populous',\n",
       " 'country',\n",
       " 'by',\n",
       " 'the',\n",
       " 'end',\n",
       " 'of',\n",
       " 'April',\n",
       " '2023',\n",
       " ',',\n",
       " 'containing',\n",
       " '17.50',\n",
       " 'percent',\n",
       " 'of',\n",
       " 'the',\n",
       " 'global',\n",
       " 'population',\n",
       " '.',\n",
       " 'In',\n",
       " 'addition',\n",
       " 'to',\n",
       " 'the',\n",
       " 'Indian',\n",
       " 'population',\n",
       " ',',\n",
       " 'the',\n",
       " 'Indian',\n",
       " 'overseas',\n",
       " 'diaspora',\n",
       " 'also',\n",
       " 'boasts',\n",
       " 'large',\n",
       " 'numbers',\n",
       " ',',\n",
       " 'particularly',\n",
       " 'in',\n",
       " 'the',\n",
       " 'Arab',\n",
       " 'states',\n",
       " 'of',\n",
       " 'the',\n",
       " 'Persian',\n",
       " 'Gulf',\n",
       " ',',\n",
       " 'former',\n",
       " 'British',\n",
       " 'colonies',\n",
       " ',',\n",
       " 'and',\n",
       " 'the',\n",
       " 'Western',\n",
       " 'world']"
      ]
     },
     "execution_count": 8,
     "metadata": {},
     "output_type": "execute_result"
    }
   ],
   "source": [
    "words"
   ]
  },
  {
   "cell_type": "code",
   "execution_count": 11,
   "id": "1e52fa10-6498-4386-8469-caae665c5d7a",
   "metadata": {},
   "outputs": [
    {
     "name": "stdout",
     "output_type": "stream",
     "text": [
      "Senteces1 ->Indian people or Indians are the citizens and nationals of the Republic of India.\n",
      "Senteces2 ->In 2022, the population of India stood at 1.4 billion people, of various ethnic groups.\n",
      "Senteces3 ->According to United Nations forecasts, India overtook China as the world's most populous country by the end of April 2023, containing 17.50 percent of the global population.\n",
      "Senteces4 ->In addition to the Indian population, the Indian overseas diaspora also boasts large numbers, particularly in the Arab states of the Persian Gulf, former British colonies, and the Western world\n"
     ]
    }
   ],
   "source": [
    "for i,j in enumerate(sentences):\n",
    "    print(f\"Senteces{i+1} ->{j}\")\n",
    "sentences = sent_tokenize(text)"
   ]
  },
  {
   "cell_type": "code",
   "execution_count": 12,
   "id": "5da34a67-3048-4f35-916a-eb2e521f45e2",
   "metadata": {},
   "outputs": [
    {
     "data": {
      "text/plain": [
       "['Indian people or Indians are the citizens and nationals of the Republic of India.',\n",
       " 'In 2022, the population of India stood at 1.4 billion people, of various ethnic groups.',\n",
       " \"According to United Nations forecasts, India overtook China as the world's most populous country by the end of April 2023, containing 17.50 percent of the global population.\",\n",
       " 'In addition to the Indian population, the Indian overseas diaspora also boasts large numbers, particularly in the Arab states of the Persian Gulf, former British colonies, and the Western world']"
      ]
     },
     "execution_count": 12,
     "metadata": {},
     "output_type": "execute_result"
    }
   ],
   "source": [
    "sentences"
   ]
  },
  {
   "cell_type": "code",
   "execution_count": 13,
   "id": "cd68c18a-68b8-4665-850d-7c552314781c",
   "metadata": {},
   "outputs": [],
   "source": [
    "from nltk.probability import FreqDist"
   ]
  },
  {
   "cell_type": "code",
   "execution_count": 15,
   "id": "2238a094-a8be-49e5-bdcb-23e55171d98a",
   "metadata": {},
   "outputs": [],
   "source": [
    "freq = FreqDist(words)"
   ]
  },
  {
   "cell_type": "code",
   "execution_count": 16,
   "id": "7e73662a-db26-4324-a07c-d2b31d5a8c3e",
   "metadata": {},
   "outputs": [
    {
     "name": "stdout",
     "output_type": "stream",
     "text": [
      "Indian : 3\n",
      "people : 2\n",
      "or : 1\n",
      "Indians : 1\n",
      "are : 1\n",
      "the : 11\n",
      "citizens : 1\n",
      "and : 2\n",
      "nationals : 1\n",
      "of : 7\n",
      "Republic : 1\n",
      "India : 3\n",
      ". : 3\n",
      "In : 2\n",
      "2022 : 1\n",
      ", : 8\n",
      "population : 3\n",
      "stood : 1\n",
      "at : 1\n",
      "1.4 : 1\n",
      "billion : 1\n",
      "various : 1\n",
      "ethnic : 1\n",
      "groups : 1\n",
      "According : 1\n",
      "to : 2\n",
      "United : 1\n",
      "Nations : 1\n",
      "forecasts : 1\n",
      "overtook : 1\n",
      "China : 1\n",
      "as : 1\n",
      "world : 2\n",
      "'s : 1\n",
      "most : 1\n",
      "populous : 1\n",
      "country : 1\n",
      "by : 1\n",
      "end : 1\n",
      "April : 1\n",
      "2023 : 1\n",
      "containing : 1\n",
      "17.50 : 1\n",
      "percent : 1\n",
      "global : 1\n",
      "addition : 1\n",
      "overseas : 1\n",
      "diaspora : 1\n",
      "also : 1\n",
      "boasts : 1\n",
      "large : 1\n",
      "numbers : 1\n",
      "particularly : 1\n",
      "in : 1\n",
      "Arab : 1\n",
      "states : 1\n",
      "Persian : 1\n",
      "Gulf : 1\n",
      "former : 1\n",
      "British : 1\n",
      "colonies : 1\n",
      "Western : 1\n"
     ]
    }
   ],
   "source": [
    "for i, j in freq.items():\n",
    "    print(i+ \" : \"+ str(j))"
   ]
  },
  {
   "cell_type": "code",
   "execution_count": 19,
   "id": "08a17347-3c59-494a-947b-2d7ae33e3a77",
   "metadata": {},
   "outputs": [
    {
     "data": {
      "text/plain": [
       "[('the', 11),\n",
       " (',', 8),\n",
       " ('of', 7),\n",
       " ('Indian', 3),\n",
       " ('India', 3),\n",
       " ('.', 3),\n",
       " ('population', 3),\n",
       " ('people', 2),\n",
       " ('and', 2),\n",
       " ('In', 2),\n",
       " ('to', 2),\n",
       " ('world', 2),\n",
       " ('or', 1),\n",
       " ('Indians', 1),\n",
       " ('are', 1),\n",
       " ('citizens', 1),\n",
       " ('nationals', 1),\n",
       " ('Republic', 1),\n",
       " ('2022', 1),\n",
       " ('stood', 1),\n",
       " ('at', 1),\n",
       " ('1.4', 1),\n",
       " ('billion', 1),\n",
       " ('various', 1),\n",
       " ('ethnic', 1),\n",
       " ('groups', 1),\n",
       " ('According', 1),\n",
       " ('United', 1),\n",
       " ('Nations', 1),\n",
       " ('forecasts', 1),\n",
       " ('overtook', 1),\n",
       " ('China', 1),\n",
       " ('as', 1),\n",
       " (\"'s\", 1),\n",
       " ('most', 1),\n",
       " ('populous', 1),\n",
       " ('country', 1),\n",
       " ('by', 1),\n",
       " ('end', 1),\n",
       " ('April', 1),\n",
       " ('2023', 1),\n",
       " ('containing', 1),\n",
       " ('17.50', 1),\n",
       " ('percent', 1),\n",
       " ('global', 1),\n",
       " ('addition', 1),\n",
       " ('overseas', 1),\n",
       " ('diaspora', 1),\n",
       " ('also', 1),\n",
       " ('boasts', 1),\n",
       " ('large', 1),\n",
       " ('numbers', 1),\n",
       " ('particularly', 1),\n",
       " ('in', 1),\n",
       " ('Arab', 1),\n",
       " ('states', 1),\n",
       " ('Persian', 1),\n",
       " ('Gulf', 1),\n",
       " ('former', 1),\n",
       " ('British', 1),\n",
       " ('colonies', 1),\n",
       " ('Western', 1)]"
      ]
     },
     "execution_count": 19,
     "metadata": {},
     "output_type": "execute_result"
    }
   ],
   "source": [
    "freq.most_common()"
   ]
  },
  {
   "cell_type": "code",
   "execution_count": 20,
   "id": "c4036901-6063-4b01-983f-f082a5942f85",
   "metadata": {},
   "outputs": [],
   "source": [
    "stop_words = set(stopwords.words(\"english\"))"
   ]
  },
  {
   "cell_type": "code",
   "execution_count": 21,
   "id": "bdc6b13c-c390-4011-9ba8-63941e00a6cb",
   "metadata": {},
   "outputs": [
    {
     "data": {
      "text/plain": [
       "{'a',\n",
       " 'about',\n",
       " 'above',\n",
       " 'after',\n",
       " 'again',\n",
       " 'against',\n",
       " 'ain',\n",
       " 'all',\n",
       " 'am',\n",
       " 'an',\n",
       " 'and',\n",
       " 'any',\n",
       " 'are',\n",
       " 'aren',\n",
       " \"aren't\",\n",
       " 'as',\n",
       " 'at',\n",
       " 'be',\n",
       " 'because',\n",
       " 'been',\n",
       " 'before',\n",
       " 'being',\n",
       " 'below',\n",
       " 'between',\n",
       " 'both',\n",
       " 'but',\n",
       " 'by',\n",
       " 'can',\n",
       " 'couldn',\n",
       " \"couldn't\",\n",
       " 'd',\n",
       " 'did',\n",
       " 'didn',\n",
       " \"didn't\",\n",
       " 'do',\n",
       " 'does',\n",
       " 'doesn',\n",
       " \"doesn't\",\n",
       " 'doing',\n",
       " 'don',\n",
       " \"don't\",\n",
       " 'down',\n",
       " 'during',\n",
       " 'each',\n",
       " 'few',\n",
       " 'for',\n",
       " 'from',\n",
       " 'further',\n",
       " 'had',\n",
       " 'hadn',\n",
       " \"hadn't\",\n",
       " 'has',\n",
       " 'hasn',\n",
       " \"hasn't\",\n",
       " 'have',\n",
       " 'haven',\n",
       " \"haven't\",\n",
       " 'having',\n",
       " 'he',\n",
       " 'her',\n",
       " 'here',\n",
       " 'hers',\n",
       " 'herself',\n",
       " 'him',\n",
       " 'himself',\n",
       " 'his',\n",
       " 'how',\n",
       " 'i',\n",
       " 'if',\n",
       " 'in',\n",
       " 'into',\n",
       " 'is',\n",
       " 'isn',\n",
       " \"isn't\",\n",
       " 'it',\n",
       " \"it's\",\n",
       " 'its',\n",
       " 'itself',\n",
       " 'just',\n",
       " 'll',\n",
       " 'm',\n",
       " 'ma',\n",
       " 'me',\n",
       " 'mightn',\n",
       " \"mightn't\",\n",
       " 'more',\n",
       " 'most',\n",
       " 'mustn',\n",
       " \"mustn't\",\n",
       " 'my',\n",
       " 'myself',\n",
       " 'needn',\n",
       " \"needn't\",\n",
       " 'no',\n",
       " 'nor',\n",
       " 'not',\n",
       " 'now',\n",
       " 'o',\n",
       " 'of',\n",
       " 'off',\n",
       " 'on',\n",
       " 'once',\n",
       " 'only',\n",
       " 'or',\n",
       " 'other',\n",
       " 'our',\n",
       " 'ours',\n",
       " 'ourselves',\n",
       " 'out',\n",
       " 'over',\n",
       " 'own',\n",
       " 're',\n",
       " 's',\n",
       " 'same',\n",
       " 'shan',\n",
       " \"shan't\",\n",
       " 'she',\n",
       " \"she's\",\n",
       " 'should',\n",
       " \"should've\",\n",
       " 'shouldn',\n",
       " \"shouldn't\",\n",
       " 'so',\n",
       " 'some',\n",
       " 'such',\n",
       " 't',\n",
       " 'than',\n",
       " 'that',\n",
       " \"that'll\",\n",
       " 'the',\n",
       " 'their',\n",
       " 'theirs',\n",
       " 'them',\n",
       " 'themselves',\n",
       " 'then',\n",
       " 'there',\n",
       " 'these',\n",
       " 'they',\n",
       " 'this',\n",
       " 'those',\n",
       " 'through',\n",
       " 'to',\n",
       " 'too',\n",
       " 'under',\n",
       " 'until',\n",
       " 'up',\n",
       " 've',\n",
       " 'very',\n",
       " 'was',\n",
       " 'wasn',\n",
       " \"wasn't\",\n",
       " 'we',\n",
       " 'were',\n",
       " 'weren',\n",
       " \"weren't\",\n",
       " 'what',\n",
       " 'when',\n",
       " 'where',\n",
       " 'which',\n",
       " 'while',\n",
       " 'who',\n",
       " 'whom',\n",
       " 'why',\n",
       " 'will',\n",
       " 'with',\n",
       " 'won',\n",
       " \"won't\",\n",
       " 'wouldn',\n",
       " \"wouldn't\",\n",
       " 'y',\n",
       " 'you',\n",
       " \"you'd\",\n",
       " \"you'll\",\n",
       " \"you're\",\n",
       " \"you've\",\n",
       " 'your',\n",
       " 'yours',\n",
       " 'yourself',\n",
       " 'yourselves'}"
      ]
     },
     "execution_count": 21,
     "metadata": {},
     "output_type": "execute_result"
    }
   ],
   "source": [
    "stop_words"
   ]
  },
  {
   "cell_type": "code",
   "execution_count": 29,
   "id": "1c37ac33-0b89-41fb-bc51-e42e5dac76f4",
   "metadata": {},
   "outputs": [],
   "source": [
    "words_without_stopwords = [i for i in words if i.lower() not in stop_words]"
   ]
  },
  {
   "cell_type": "code",
   "execution_count": 30,
   "id": "43859748-bb31-45a3-b0e3-21788664e469",
   "metadata": {},
   "outputs": [
    {
     "data": {
      "text/plain": [
       "['Indian',\n",
       " 'people',\n",
       " 'Indians',\n",
       " 'citizens',\n",
       " 'nationals',\n",
       " 'Republic',\n",
       " 'India',\n",
       " '.',\n",
       " '2022',\n",
       " ',',\n",
       " 'population',\n",
       " 'India',\n",
       " 'stood',\n",
       " '1.4',\n",
       " 'billion',\n",
       " 'people',\n",
       " ',',\n",
       " 'various',\n",
       " 'ethnic',\n",
       " 'groups',\n",
       " '.',\n",
       " 'According',\n",
       " 'United',\n",
       " 'Nations',\n",
       " 'forecasts',\n",
       " ',',\n",
       " 'India',\n",
       " 'overtook',\n",
       " 'China',\n",
       " 'world',\n",
       " \"'s\",\n",
       " 'populous',\n",
       " 'country',\n",
       " 'end',\n",
       " 'April',\n",
       " '2023',\n",
       " ',',\n",
       " 'containing',\n",
       " '17.50',\n",
       " 'percent',\n",
       " 'global',\n",
       " 'population',\n",
       " '.',\n",
       " 'addition',\n",
       " 'Indian',\n",
       " 'population',\n",
       " ',',\n",
       " 'Indian',\n",
       " 'overseas',\n",
       " 'diaspora',\n",
       " 'also',\n",
       " 'boasts',\n",
       " 'large',\n",
       " 'numbers',\n",
       " ',',\n",
       " 'particularly',\n",
       " 'Arab',\n",
       " 'states',\n",
       " 'Persian',\n",
       " 'Gulf',\n",
       " ',',\n",
       " 'former',\n",
       " 'British',\n",
       " 'colonies',\n",
       " ',',\n",
       " 'Western',\n",
       " 'world']"
      ]
     },
     "execution_count": 30,
     "metadata": {},
     "output_type": "execute_result"
    }
   ],
   "source": [
    "words_without_stopwords"
   ]
  },
  {
   "cell_type": "code",
   "execution_count": 31,
   "id": "12f3c36d-b617-4465-b64d-3d908435d52e",
   "metadata": {},
   "outputs": [
    {
     "data": {
      "text/plain": [
       "98"
      ]
     },
     "execution_count": 31,
     "metadata": {},
     "output_type": "execute_result"
    }
   ],
   "source": [
    "len(words)"
   ]
  },
  {
   "cell_type": "code",
   "execution_count": 32,
   "id": "ecb88a17-d493-4eab-b37a-4de81c608674",
   "metadata": {},
   "outputs": [
    {
     "data": {
      "text/plain": [
       "67"
      ]
     },
     "execution_count": 32,
     "metadata": {},
     "output_type": "execute_result"
    }
   ],
   "source": [
    "len(words_without_stopwords)"
   ]
  },
  {
   "cell_type": "code",
   "execution_count": 36,
   "id": "680db917-8121-47d2-9705-dd1b487fcf07",
   "metadata": {},
   "outputs": [],
   "source": [
    "words_without_punckt = [i for i in words_without_stopwords if i.lower() not in \"./?|\"]"
   ]
  },
  {
   "cell_type": "code",
   "execution_count": 37,
   "id": "ab0e294b-123b-4c5c-b909-762f99528c77",
   "metadata": {},
   "outputs": [
    {
     "data": {
      "text/plain": [
       "['Indian',\n",
       " 'people',\n",
       " 'Indians',\n",
       " 'citizens',\n",
       " 'nationals',\n",
       " 'Republic',\n",
       " 'India',\n",
       " '2022',\n",
       " ',',\n",
       " 'population',\n",
       " 'India',\n",
       " 'stood',\n",
       " '1.4',\n",
       " 'billion',\n",
       " 'people',\n",
       " ',',\n",
       " 'various',\n",
       " 'ethnic',\n",
       " 'groups',\n",
       " 'According',\n",
       " 'United',\n",
       " 'Nations',\n",
       " 'forecasts',\n",
       " ',',\n",
       " 'India',\n",
       " 'overtook',\n",
       " 'China',\n",
       " 'world',\n",
       " \"'s\",\n",
       " 'populous',\n",
       " 'country',\n",
       " 'end',\n",
       " 'April',\n",
       " '2023',\n",
       " ',',\n",
       " 'containing',\n",
       " '17.50',\n",
       " 'percent',\n",
       " 'global',\n",
       " 'population',\n",
       " 'addition',\n",
       " 'Indian',\n",
       " 'population',\n",
       " ',',\n",
       " 'Indian',\n",
       " 'overseas',\n",
       " 'diaspora',\n",
       " 'also',\n",
       " 'boasts',\n",
       " 'large',\n",
       " 'numbers',\n",
       " ',',\n",
       " 'particularly',\n",
       " 'Arab',\n",
       " 'states',\n",
       " 'Persian',\n",
       " 'Gulf',\n",
       " ',',\n",
       " 'former',\n",
       " 'British',\n",
       " 'colonies',\n",
       " ',',\n",
       " 'Western',\n",
       " 'world']"
      ]
     },
     "execution_count": 37,
     "metadata": {},
     "output_type": "execute_result"
    }
   ],
   "source": [
    "words_without_punckt"
   ]
  },
  {
   "cell_type": "code",
   "execution_count": 38,
   "id": "da5d370c-a5a8-42c8-a702-4fc558aaf61b",
   "metadata": {},
   "outputs": [
    {
     "data": {
      "text/plain": [
       "64"
      ]
     },
     "execution_count": 38,
     "metadata": {},
     "output_type": "execute_result"
    }
   ],
   "source": [
    "len(words_without_punckt)"
   ]
  },
  {
   "cell_type": "code",
   "execution_count": 39,
   "id": "6492f068-56e0-465b-8d76-4c08006d732b",
   "metadata": {},
   "outputs": [],
   "source": [
    "final_words = [i for i in words_without_punckt if i .lower() .isalpha()]"
   ]
  },
  {
   "cell_type": "code",
   "execution_count": 40,
   "id": "029c45c9-5597-41c3-b786-2b1d977e5c84",
   "metadata": {},
   "outputs": [
    {
     "data": {
      "text/plain": [
       "['Indian',\n",
       " 'people',\n",
       " 'Indians',\n",
       " 'citizens',\n",
       " 'nationals',\n",
       " 'Republic',\n",
       " 'India',\n",
       " 'population',\n",
       " 'India',\n",
       " 'stood',\n",
       " 'billion',\n",
       " 'people',\n",
       " 'various',\n",
       " 'ethnic',\n",
       " 'groups',\n",
       " 'According',\n",
       " 'United',\n",
       " 'Nations',\n",
       " 'forecasts',\n",
       " 'India',\n",
       " 'overtook',\n",
       " 'China',\n",
       " 'world',\n",
       " 'populous',\n",
       " 'country',\n",
       " 'end',\n",
       " 'April',\n",
       " 'containing',\n",
       " 'percent',\n",
       " 'global',\n",
       " 'population',\n",
       " 'addition',\n",
       " 'Indian',\n",
       " 'population',\n",
       " 'Indian',\n",
       " 'overseas',\n",
       " 'diaspora',\n",
       " 'also',\n",
       " 'boasts',\n",
       " 'large',\n",
       " 'numbers',\n",
       " 'particularly',\n",
       " 'Arab',\n",
       " 'states',\n",
       " 'Persian',\n",
       " 'Gulf',\n",
       " 'former',\n",
       " 'British',\n",
       " 'colonies',\n",
       " 'Western',\n",
       " 'world']"
      ]
     },
     "execution_count": 40,
     "metadata": {},
     "output_type": "execute_result"
    }
   ],
   "source": [
    "final_words"
   ]
  },
  {
   "cell_type": "code",
   "execution_count": 41,
   "id": "fbe1febb-7ada-4dde-bf75-3a5d202d242e",
   "metadata": {},
   "outputs": [
    {
     "data": {
      "text/plain": [
       "51"
      ]
     },
     "execution_count": 41,
     "metadata": {},
     "output_type": "execute_result"
    }
   ],
   "source": [
    "len(final_words)"
   ]
  },
  {
   "cell_type": "code",
   "execution_count": 44,
   "id": "d7d5e19d-4613-4b75-bb57-b365240afdb8",
   "metadata": {},
   "outputs": [],
   "source": [
    "from nltk.stem import PorterStemmer, LancasterStemmer"
   ]
  },
  {
   "cell_type": "code",
   "execution_count": 45,
   "id": "5529a510-2367-4329-b8c2-e18820901581",
   "metadata": {},
   "outputs": [],
   "source": [
    "exp = [\"affected\",\"affects\", \"affection\",\"affect\", \"affecting\"]"
   ]
  },
  {
   "cell_type": "code",
   "execution_count": 49,
   "id": "c707d29b-b961-421a-b3d7-f4aaf481cf1f",
   "metadata": {},
   "outputs": [],
   "source": [
    "post= PorterStemmer()"
   ]
  },
  {
   "cell_type": "code",
   "execution_count": 50,
   "id": "49dfb2c1-600c-4996-a165-0a4a59b56e9d",
   "metadata": {},
   "outputs": [],
   "source": [
    "exp_post = [post.stem(i) for i in exp]"
   ]
  },
  {
   "cell_type": "code",
   "execution_count": 51,
   "id": "3b3899f1-f680-4519-ab90-cdff2b8998bb",
   "metadata": {},
   "outputs": [
    {
     "data": {
      "text/plain": [
       "['affect', 'affect', 'affect', 'affect', 'affect']"
      ]
     },
     "execution_count": 51,
     "metadata": {},
     "output_type": "execute_result"
    }
   ],
   "source": [
    "exp_post"
   ]
  },
  {
   "cell_type": "code",
   "execution_count": 55,
   "id": "db9d0d42-08dd-4f2e-8d4a-22df3dd13cc9",
   "metadata": {},
   "outputs": [],
   "source": [
    "last = LancasterStemmer()"
   ]
  },
  {
   "cell_type": "code",
   "execution_count": 56,
   "id": "5433b234-4a8d-4bba-84b7-2873250c6bfb",
   "metadata": {},
   "outputs": [],
   "source": [
    "exp_last = [last.stem(i) for i in exp]"
   ]
  },
  {
   "cell_type": "code",
   "execution_count": 57,
   "id": "3525024e-e5a9-4fd8-bfc8-3016af1bfb2f",
   "metadata": {},
   "outputs": [
    {
     "data": {
      "text/plain": [
       "['affect', 'affect', 'affect', 'affect', 'affect']"
      ]
     },
     "execution_count": 57,
     "metadata": {},
     "output_type": "execute_result"
    }
   ],
   "source": [
    "exp_last"
   ]
  },
  {
   "cell_type": "code",
   "execution_count": 73,
   "id": "0bd40261-8535-4bea-8b45-a2b15ca73d7e",
   "metadata": {},
   "outputs": [],
   "source": [
    "new =[\"enjoy\",\"enjoyable\",\"running\", \"cake\", \"positivity\",\"inspiration\",\"motivation\"]"
   ]
  },
  {
   "cell_type": "code",
   "execution_count": 74,
   "id": "b2776a04-d9a5-44de-89dd-3a750d490491",
   "metadata": {},
   "outputs": [],
   "source": [
    "from nltk import wordnet"
   ]
  },
  {
   "cell_type": "code",
   "execution_count": 75,
   "id": "f70480b1-7666-4681-aa89-9e4bb65cf3d4",
   "metadata": {},
   "outputs": [],
   "source": [
    "lemmas= wordnet.WordNetLemmatizer()"
   ]
  },
  {
   "cell_type": "code",
   "execution_count": 76,
   "id": "5cee4c56-19ed-4a49-a8ad-6600a0c84249",
   "metadata": {},
   "outputs": [],
   "source": [
    "lemma_words= [lemmas.lemmatize(i,\"n\") for i in new]"
   ]
  },
  {
   "cell_type": "code",
   "execution_count": 77,
   "id": "918dc2a2-ea80-4301-9e3e-7076389c90a8",
   "metadata": {},
   "outputs": [
    {
     "data": {
      "text/plain": [
       "['enjoy',\n",
       " 'enjoyable',\n",
       " 'running',\n",
       " 'cake',\n",
       " 'positivity',\n",
       " 'inspiration',\n",
       " 'motivation']"
      ]
     },
     "execution_count": 77,
     "metadata": {},
     "output_type": "execute_result"
    }
   ],
   "source": [
    "[lemmas.lemmatize(i,\"n\") for i in new]"
   ]
  },
  {
   "cell_type": "code",
   "execution_count": 78,
   "id": "46705057-eb98-4cc3-a9ac-27f12edba760",
   "metadata": {},
   "outputs": [
    {
     "data": {
      "text/plain": [
       "['enjoy',\n",
       " 'enjoyable',\n",
       " 'run',\n",
       " 'cake',\n",
       " 'positivity',\n",
       " 'inspiration',\n",
       " 'motivation']"
      ]
     },
     "execution_count": 78,
     "metadata": {},
     "output_type": "execute_result"
    }
   ],
   "source": [
    "[lemmas.lemmatize(i,\"v\") for i in new]"
   ]
  },
  {
   "cell_type": "code",
   "execution_count": 79,
   "id": "31b60b02-8df8-420b-b94e-49f4b8eefc06",
   "metadata": {},
   "outputs": [
    {
     "name": "stdout",
     "output_type": "stream",
     "text": [
      "Original - affected | Noun - affected | verb- affect | Adjective - affected |Sattelite Adjective - affected\n",
      "Original - affects | Noun - affect | verb- affect | Adjective - affects |Sattelite Adjective - affects\n",
      "Original - affection | Noun - affection | verb- affection | Adjective - affection |Sattelite Adjective - affection\n",
      "Original - affect | Noun - affect | verb- affect | Adjective - affect |Sattelite Adjective - affect\n",
      "Original - affecting | Noun - affecting | verb- affect | Adjective - affecting |Sattelite Adjective - affecting\n"
     ]
    }
   ],
   "source": [
    "for i in exp:\n",
    "    print(\"Original -\",i, \"| Noun -\", lemmas.lemmatize(i,\"n\"),\"| verb-\", lemmas.lemmatize(i,\"v\"),\"| Adjective -\",lemmas.lemmatize(i,\"a\"),\"|Sattelite Adjective -\",lemmas.lemmatize(i,\"s\"))"
   ]
  },
  {
   "cell_type": "code",
   "execution_count": 80,
   "id": "26595365-08af-455b-8905-c17176f675b1",
   "metadata": {},
   "outputs": [
    {
     "name": "stdout",
     "output_type": "stream",
     "text": [
      "Original - enjoy | Noun - enjoy | verb- enjoy | Adjective - enjoy |Sattelite Adjective - enjoy\n",
      "Original - enjoyable | Noun - enjoyable | verb- enjoyable | Adjective - enjoyable |Sattelite Adjective - enjoyable\n",
      "Original - running | Noun - running | verb- run | Adjective - running |Sattelite Adjective - running\n",
      "Original - cake | Noun - cake | verb- cake | Adjective - cake |Sattelite Adjective - cake\n",
      "Original - positivity | Noun - positivity | verb- positivity | Adjective - positivity |Sattelite Adjective - positivity\n",
      "Original - inspiration | Noun - inspiration | verb- inspiration | Adjective - inspiration |Sattelite Adjective - inspiration\n",
      "Original - motivation | Noun - motivation | verb- motivation | Adjective - motivation |Sattelite Adjective - motivation\n"
     ]
    }
   ],
   "source": [
    "for i in new:\n",
    "    print(\"Original -\",i, \"| Noun -\", lemmas.lemmatize(i,\"n\"),\"| verb-\", lemmas.lemmatize(i,\"v\"),\"| Adjective -\",lemmas.lemmatize(i,\"a\"),\"|Sattelite Adjective -\",lemmas.lemmatize(i,\"s\"))"
   ]
  },
  {
   "cell_type": "code",
   "execution_count": 81,
   "id": "240675ad-976d-4316-ae40-8d44f3e5d3b8",
   "metadata": {},
   "outputs": [],
   "source": [
    "from nltk import pos_tag"
   ]
  },
  {
   "cell_type": "code",
   "execution_count": 82,
   "id": "9b7e5ea5-3920-4c6c-964c-f2ab09a60cb0",
   "metadata": {},
   "outputs": [
    {
     "data": {
      "text/plain": [
       "'Indian people or Indians are the citizens and nationals of the Republic of India.'"
      ]
     },
     "execution_count": 82,
     "metadata": {},
     "output_type": "execute_result"
    }
   ],
   "source": [
    "sentences[0]"
   ]
  },
  {
   "cell_type": "code",
   "execution_count": 87,
   "id": "98959487-8e22-4b7f-9c36-38af2103c67f",
   "metadata": {},
   "outputs": [],
   "source": [
    "tags = pos_tag(word_tokenize(sentences[0]))"
   ]
  },
  {
   "cell_type": "code",
   "execution_count": 86,
   "id": "c00f9905-4d3f-46d2-b7d4-7de53b69d65a",
   "metadata": {},
   "outputs": [
    {
     "name": "stderr",
     "output_type": "stream",
     "text": [
      "[nltk_data] Downloading package averaged_perceptron_tagger_eng to\n",
      "[nltk_data]     C:\\Users\\Ruchita Kasture\\AppData\\Roaming\\nltk_data...\n",
      "[nltk_data]   Unzipping taggers\\averaged_perceptron_tagger_eng.zip.\n"
     ]
    },
    {
     "data": {
      "text/plain": [
       "True"
      ]
     },
     "execution_count": 86,
     "metadata": {},
     "output_type": "execute_result"
    }
   ],
   "source": [
    "nltk.download('averaged_perceptron_tagger_eng')"
   ]
  },
  {
   "cell_type": "code",
   "execution_count": 88,
   "id": "f94da6fd-4a97-41b1-b220-6da4375fa45a",
   "metadata": {},
   "outputs": [
    {
     "data": {
      "text/plain": [
       "[('Indian', 'JJ'),\n",
       " ('people', 'NNS'),\n",
       " ('or', 'CC'),\n",
       " ('Indians', 'NNPS'),\n",
       " ('are', 'VBP'),\n",
       " ('the', 'DT'),\n",
       " ('citizens', 'NNS'),\n",
       " ('and', 'CC'),\n",
       " ('nationals', 'NNS'),\n",
       " ('of', 'IN'),\n",
       " ('the', 'DT'),\n",
       " ('Republic', 'NNP'),\n",
       " ('of', 'IN'),\n",
       " ('India', 'NNP'),\n",
       " ('.', '.')]"
      ]
     },
     "execution_count": 88,
     "metadata": {},
     "output_type": "execute_result"
    }
   ],
   "source": [
    "tags"
   ]
  },
  {
   "cell_type": "code",
   "execution_count": null,
   "id": "4badb77f-0d46-42fe-8a85-7f4bce81211e",
   "metadata": {},
   "outputs": [],
   "source": []
  }
 ],
 "metadata": {
  "kernelspec": {
   "display_name": "Python 3 (ipykernel)",
   "language": "python",
   "name": "python3"
  },
  "language_info": {
   "codemirror_mode": {
    "name": "ipython",
    "version": 3
   },
   "file_extension": ".py",
   "mimetype": "text/x-python",
   "name": "python",
   "nbconvert_exporter": "python",
   "pygments_lexer": "ipython3",
   "version": "3.11.9"
  }
 },
 "nbformat": 4,
 "nbformat_minor": 5
}
