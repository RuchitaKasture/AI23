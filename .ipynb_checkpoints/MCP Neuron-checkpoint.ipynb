{
 "cells": [
  {
   "cell_type": "code",
   "execution_count": 1,
   "id": "d331f510-a649-44f3-aa52-d216175f7f0f",
   "metadata": {},
   "outputs": [],
   "source": [
    "import numpy as np"
   ]
  },
  {
   "cell_type": "code",
   "execution_count": 2,
   "id": "186aa3d3-af3a-4732-97ea-856a81bd9c75",
   "metadata": {},
   "outputs": [
    {
     "data": {
      "text/plain": [
       "array([[0, 0],\n",
       "       [0, 1],\n",
       "       [1, 0],\n",
       "       [1, 1]])"
      ]
     },
     "execution_count": 2,
     "metadata": {},
     "output_type": "execute_result"
    }
   ],
   "source": [
    "input = np.array([[0,0],[0,1],[1,0 ],[1,1]])\n",
    "input"
   ]
  },
  {
   "cell_type": "code",
   "execution_count": 5,
   "id": "fcb4dabd-7c8b-4fd7-be47-6442959c0bad",
   "metadata": {},
   "outputs": [
    {
     "data": {
      "text/plain": [
       "array([0, 0, 0, 1])"
      ]
     },
     "execution_count": 5,
     "metadata": {},
     "output_type": "execute_result"
    }
   ],
   "source": [
    "AND_out = np.array([0,0,0,1])\n",
    "AND_out"
   ]
  },
  {
   "cell_type": "code",
   "execution_count": 9,
   "id": "237eca50-6375-4106-ae1c-2b12b89654b0",
   "metadata": {},
   "outputs": [
    {
     "data": {
      "text/plain": [
       "array([0, 1, 1, 1])"
      ]
     },
     "execution_count": 9,
     "metadata": {},
     "output_type": "execute_result"
    }
   ],
   "source": [
    "OR_out = np.array([0,1,1,1])\n",
    "OR_out"
   ]
  },
  {
   "cell_type": "code",
   "execution_count": 13,
   "id": "4e883d8f-50e0-4a9f-8c6b-1892cdec355e",
   "metadata": {},
   "outputs": [
    {
     "data": {
      "text/plain": [
       "array([0, 0, 0, 1])"
      ]
     },
     "execution_count": 13,
     "metadata": {},
     "output_type": "execute_result"
    }
   ],
   "source": [
    "AND_Function = np.array([1 if np.sum(i) > 1.5 else 0 for i in input])\n",
    "AND_Function"
   ]
  },
  {
   "cell_type": "code",
   "execution_count": 14,
   "id": "542a02a0-a1bc-417a-9a55-e33d3acc884a",
   "metadata": {},
   "outputs": [
    {
     "data": {
      "text/plain": [
       "True"
      ]
     },
     "execution_count": 14,
     "metadata": {},
     "output_type": "execute_result"
    }
   ],
   "source": [
    "np.allclose(AND_out,AND_Function)"
   ]
  },
  {
   "cell_type": "code",
   "execution_count": 15,
   "id": "453e0719-5095-42ab-96ea-e1907a0215f8",
   "metadata": {},
   "outputs": [
    {
     "data": {
      "text/plain": [
       "array([0, 1, 1, 1])"
      ]
     },
     "execution_count": 15,
     "metadata": {},
     "output_type": "execute_result"
    }
   ],
   "source": [
    "OR_Function = np.array([1 if np.sum(i) > 0.5 else 0 for i in input])\n",
    "OR_Function"
   ]
  },
  {
   "cell_type": "code",
   "execution_count": 16,
   "id": "59a6b92a-1ab4-40c4-bf72-5c52eddc773f",
   "metadata": {},
   "outputs": [
    {
     "data": {
      "text/plain": [
       "True"
      ]
     },
     "execution_count": 16,
     "metadata": {},
     "output_type": "execute_result"
    }
   ],
   "source": [
    "np.allclose(OR_out, OR_Function)"
   ]
  },
  {
   "cell_type": "code",
   "execution_count": null,
   "id": "0763fd9f-460c-40dc-9e5c-28538fb70ac3",
   "metadata": {},
   "outputs": [],
   "source": []
  }
 ],
 "metadata": {
  "kernelspec": {
   "display_name": "Python 3 (ipykernel)",
   "language": "python",
   "name": "python3"
  },
  "language_info": {
   "codemirror_mode": {
    "name": "ipython",
    "version": 3
   },
   "file_extension": ".py",
   "mimetype": "text/x-python",
   "name": "python",
   "nbconvert_exporter": "python",
   "pygments_lexer": "ipython3",
   "version": "3.11.9"
  }
 },
 "nbformat": 4,
 "nbformat_minor": 5
}
